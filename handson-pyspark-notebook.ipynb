{
 "cells": [
  {
   "cell_type": "code",
   "execution_count": 1,
   "id": "3a180263",
   "metadata": {
    "execution": {
     "iopub.execute_input": "2023-03-08T16:03:58.374481Z",
     "iopub.status.busy": "2023-03-08T16:03:58.373263Z",
     "iopub.status.idle": "2023-03-08T16:04:44.511116Z",
     "shell.execute_reply": "2023-03-08T16:04:44.509317Z"
    },
    "papermill": {
     "duration": 46.15627,
     "end_time": "2023-03-08T16:04:44.514299",
     "exception": false,
     "start_time": "2023-03-08T16:03:58.358029",
     "status": "completed"
    },
    "tags": []
   },
   "outputs": [
    {
     "name": "stdout",
     "output_type": "stream",
     "text": [
      "Collecting pyspark\r\n",
      "  Downloading pyspark-3.3.2.tar.gz (281.4 MB)\r\n",
      "\u001b[2K     \u001b[90m━━━━━━━━━━━━━━━━━━━━━━━━━━━━━━━━━━━━━━━\u001b[0m \u001b[32m281.4/281.4 MB\u001b[0m \u001b[31m3.8 MB/s\u001b[0m eta \u001b[36m0:00:00\u001b[0m\r\n",
      "\u001b[?25h  Preparing metadata (setup.py) ... \u001b[?25l-\b \bdone\r\n",
      "\u001b[?25hCollecting py4j==0.10.9.5\r\n",
      "  Downloading py4j-0.10.9.5-py2.py3-none-any.whl (199 kB)\r\n",
      "\u001b[2K     \u001b[90m━━━━━━━━━━━━━━━━━━━━━━━━━━━━━━━━━━━━━━\u001b[0m \u001b[32m199.7/199.7 kB\u001b[0m \u001b[31m14.2 MB/s\u001b[0m eta \u001b[36m0:00:00\u001b[0m\r\n",
      "\u001b[?25hBuilding wheels for collected packages: pyspark\r\n",
      "  Building wheel for pyspark (setup.py) ... \u001b[?25l-\b \b\\\b \b|\b \b/\b \b-\b \b\\\b \b|\b \b/\b \b-\b \b\\\b \b|\b \b/\b \bdone\r\n",
      "\u001b[?25h  Created wheel for pyspark: filename=pyspark-3.3.2-py2.py3-none-any.whl size=281824025 sha256=2eed044ff3ea3dbdce587fb81db43e4f5dbb35ab572bc55ddb897f1ce5042d74\r\n",
      "  Stored in directory: /root/.cache/pip/wheels/5a/54/9b/a89cac960efb57c4c35d41cc7c9f7b80daa21108bc376339b7\r\n",
      "Successfully built pyspark\r\n",
      "Installing collected packages: py4j, pyspark\r\n",
      "  Attempting uninstall: py4j\r\n",
      "    Found existing installation: py4j 0.10.9.7\r\n",
      "    Uninstalling py4j-0.10.9.7:\r\n",
      "      Successfully uninstalled py4j-0.10.9.7\r\n",
      "Successfully installed py4j-0.10.9.5 pyspark-3.3.2\r\n",
      "\u001b[33mWARNING: Running pip as the 'root' user can result in broken permissions and conflicting behaviour with the system package manager. It is recommended to use a virtual environment instead: https://pip.pypa.io/warnings/venv\u001b[0m\u001b[33m\r\n",
      "\u001b[0m"
     ]
    }
   ],
   "source": [
    "!pip install pyspark"
   ]
  },
  {
   "cell_type": "code",
   "execution_count": 2,
   "id": "f6b36093",
   "metadata": {
    "_cell_guid": "b1076dfc-b9ad-4769-8c92-a6c4dae69d19",
    "_uuid": "8f2839f25d086af736a60e9eeb907d3b93b6e0e5",
    "execution": {
     "iopub.execute_input": "2023-03-08T16:04:44.556718Z",
     "iopub.status.busy": "2023-03-08T16:04:44.556241Z",
     "iopub.status.idle": "2023-03-08T16:04:44.618048Z",
     "shell.execute_reply": "2023-03-08T16:04:44.616959Z"
    },
    "papermill": {
     "duration": 0.086087,
     "end_time": "2023-03-08T16:04:44.621243",
     "exception": false,
     "start_time": "2023-03-08T16:04:44.535156",
     "status": "completed"
    },
    "tags": []
   },
   "outputs": [],
   "source": [
    "import numpy as np # linear algebra\n",
    "import pandas as pd # data processing, CSV file I/O (e.g. pd.read_csv)\n",
    "import requests, json\n",
    "\n",
    "from pyspark.sql import SparkSession"
   ]
  },
  {
   "cell_type": "markdown",
   "id": "33666956",
   "metadata": {
    "papermill": {
     "duration": 0.018956,
     "end_time": "2023-03-08T16:04:44.659398",
     "exception": false,
     "start_time": "2023-03-08T16:04:44.640442",
     "status": "completed"
    },
    "tags": []
   },
   "source": [
    "- We will start by going through the basics of Spark Sessions \n",
    "\n",
    "- Create simple Dataframes\n",
    "\n",
    "- Understand how Spark Metastore works \n",
    "\n",
    "- Then bring in the data from the model API end point https://pyrite-ethereal-soccer.glitch.me/docs\n",
    "\n",
    "- Then learn to do Transformation and loading into files and other locations"
   ]
  },
  {
   "cell_type": "code",
   "execution_count": 3,
   "id": "d78dd5ef",
   "metadata": {
    "execution": {
     "iopub.execute_input": "2023-03-08T16:04:44.698658Z",
     "iopub.status.busy": "2023-03-08T16:04:44.698251Z",
     "iopub.status.idle": "2023-03-08T16:04:50.398553Z",
     "shell.execute_reply": "2023-03-08T16:04:50.397005Z"
    },
    "papermill": {
     "duration": 5.724604,
     "end_time": "2023-03-08T16:04:50.402679",
     "exception": false,
     "start_time": "2023-03-08T16:04:44.678075",
     "status": "completed"
    },
    "tags": []
   },
   "outputs": [
    {
     "name": "stderr",
     "output_type": "stream",
     "text": [
      "Setting default log level to \"WARN\".\n",
      "To adjust logging level use sc.setLogLevel(newLevel). For SparkR, use setLogLevel(newLevel).\n"
     ]
    },
    {
     "name": "stdout",
     "output_type": "stream",
     "text": [
      "23/03/08 16:04:48 WARN NativeCodeLoader: Unable to load native-hadoop library for your platform... using builtin-java classes where applicable\n"
     ]
    }
   ],
   "source": [
    "spark = SparkSession. \\\n",
    "    builder. \\\n",
    "    appName('SparkOnKaggle'). \\\n",
    "    getOrCreate()"
   ]
  },
  {
   "cell_type": "code",
   "execution_count": 4,
   "id": "6c573144",
   "metadata": {
    "execution": {
     "iopub.execute_input": "2023-03-08T16:04:50.443850Z",
     "iopub.status.busy": "2023-03-08T16:04:50.443099Z",
     "iopub.status.idle": "2023-03-08T16:04:50.449843Z",
     "shell.execute_reply": "2023-03-08T16:04:50.448878Z"
    },
    "papermill": {
     "duration": 0.030271,
     "end_time": "2023-03-08T16:04:50.452328",
     "exception": false,
     "start_time": "2023-03-08T16:04:50.422057",
     "status": "completed"
    },
    "tags": []
   },
   "outputs": [],
   "source": [
    "#Creating spark objects from regular python objects\n",
    "\n",
    "attendants = [(1, \"Smith\", \"Deo\", 1086.0, \"Linea\"),\n",
    "             (2, \"Kenry\", \"Jord\", 1950.0, \"Iran\"),\n",
    "             (3, \"Kick\", \"Boxer\", 7550.0, \"Kingome\"),\n",
    "             (4, \"Gill\", \"Nome\", 1500.0, \"New Wold\"),\n",
    "              (5, \"Nill\", \"While\", 6500.0, \"New Wold\"),\n",
    "              (6, \"Will\", \"Lobe\", 18900.0, \"Oreleans\")\n",
    "            ]"
   ]
  },
  {
   "cell_type": "code",
   "execution_count": 5,
   "id": "969a2e71",
   "metadata": {
    "execution": {
     "iopub.execute_input": "2023-03-08T16:04:50.493081Z",
     "iopub.status.busy": "2023-03-08T16:04:50.492205Z",
     "iopub.status.idle": "2023-03-08T16:04:57.069244Z",
     "shell.execute_reply": "2023-03-08T16:04:57.068184Z"
    },
    "papermill": {
     "duration": 6.603444,
     "end_time": "2023-03-08T16:04:57.074843",
     "exception": false,
     "start_time": "2023-03-08T16:04:50.471399",
     "status": "completed"
    },
    "tags": []
   },
   "outputs": [
    {
     "name": "stderr",
     "output_type": "stream",
     "text": [
      "                                                                                \r"
     ]
    },
    {
     "name": "stdout",
     "output_type": "stream",
     "text": [
      "+------------+------+------+-------+-----------+\n",
      "|attendant_id|f_name|l_name| salary|Nationality|\n",
      "+------------+------+------+-------+-----------+\n",
      "|           1| Smith|   Deo| 1086.0|      Linea|\n",
      "|           2| Kenry|  Jord| 1950.0|       Iran|\n",
      "|           3|  Kick| Boxer| 7550.0|    Kingome|\n",
      "|           4|  Gill|  Nome| 1500.0|   New Wold|\n",
      "|           5|  Nill| While| 6500.0|   New Wold|\n",
      "|           6|  Will|  Lobe|18900.0|   Oreleans|\n",
      "+------------+------+------+-------+-----------+\n",
      "\n"
     ]
    }
   ],
   "source": [
    "attendantSDF = spark.createDataFrame(attendants, schema=\"\"\"attendant_id INT, f_name STRING,\n",
    "                                     l_name STRING, salary FLOAT, Nationality STRING\"\"\")\n",
    "attendantSDF.show()"
   ]
  },
  {
   "cell_type": "code",
   "execution_count": 6,
   "id": "11f85169",
   "metadata": {
    "execution": {
     "iopub.execute_input": "2023-03-08T16:04:57.135363Z",
     "iopub.status.busy": "2023-03-08T16:04:57.134715Z",
     "iopub.status.idle": "2023-03-08T16:04:57.398034Z",
     "shell.execute_reply": "2023-03-08T16:04:57.396737Z"
    },
    "papermill": {
     "duration": 0.296934,
     "end_time": "2023-03-08T16:04:57.401129",
     "exception": false,
     "start_time": "2023-03-08T16:04:57.104195",
     "status": "completed"
    },
    "tags": []
   },
   "outputs": [
    {
     "data": {
      "text/plain": [
       "[Row(attendant_id=1, f_name='Smith', l_name='Deo', salary=1086.0, Nationality='Linea'),\n",
       " Row(attendant_id=2, f_name='Kenry', l_name='Jord', salary=1950.0, Nationality='Iran'),\n",
       " Row(attendant_id=3, f_name='Kick', l_name='Boxer', salary=7550.0, Nationality='Kingome'),\n",
       " Row(attendant_id=4, f_name='Gill', l_name='Nome', salary=1500.0, Nationality='New Wold'),\n",
       " Row(attendant_id=5, f_name='Nill', l_name='While', salary=6500.0, Nationality='New Wold'),\n",
       " Row(attendant_id=6, f_name='Will', l_name='Lobe', salary=18900.0, Nationality='Oreleans')]"
      ]
     },
     "execution_count": 6,
     "metadata": {},
     "output_type": "execute_result"
    }
   ],
   "source": [
    "attendantSDF.collect()"
   ]
  },
  {
   "cell_type": "code",
   "execution_count": 7,
   "id": "9dc35105",
   "metadata": {
    "execution": {
     "iopub.execute_input": "2023-03-08T16:04:57.443130Z",
     "iopub.status.busy": "2023-03-08T16:04:57.442348Z",
     "iopub.status.idle": "2023-03-08T16:04:57.447912Z",
     "shell.execute_reply": "2023-03-08T16:04:57.447028Z"
    },
    "papermill": {
     "duration": 0.029177,
     "end_time": "2023-03-08T16:04:57.450247",
     "exception": false,
     "start_time": "2023-03-08T16:04:57.421070",
     "status": "completed"
    },
    "tags": []
   },
   "outputs": [],
   "source": [
    "from pyspark.sql.functions import *"
   ]
  },
  {
   "cell_type": "code",
   "execution_count": 8,
   "id": "a5c6eb1d",
   "metadata": {
    "execution": {
     "iopub.execute_input": "2023-03-08T16:04:57.492088Z",
     "iopub.status.busy": "2023-03-08T16:04:57.491306Z",
     "iopub.status.idle": "2023-03-08T16:04:57.937257Z",
     "shell.execute_reply": "2023-03-08T16:04:57.935637Z"
    },
    "papermill": {
     "duration": 0.471122,
     "end_time": "2023-03-08T16:04:57.941109",
     "exception": false,
     "start_time": "2023-03-08T16:04:57.469987",
     "status": "completed"
    },
    "tags": []
   },
   "outputs": [
    {
     "name": "stdout",
     "output_type": "stream",
     "text": [
      "+------+------+---------+\n",
      "|f_name|l_name|full_name|\n",
      "+------+------+---------+\n",
      "| Smith|   Deo| DeoSmith|\n",
      "| Kenry|  Jord|JordKenry|\n",
      "|  Kick| Boxer|BoxerKick|\n",
      "|  Gill|  Nome| NomeGill|\n",
      "|  Nill| While|WhileNill|\n",
      "|  Will|  Lobe| LobeWill|\n",
      "+------+------+---------+\n",
      "\n"
     ]
    }
   ],
   "source": [
    "#Three different ways to initiate transformation on the dataframes\n",
    "#select\n",
    "attendantSDF.select(\"f_name\",\"l_name\",concat('l_name','f_name').alias('full_name')).show()"
   ]
  },
  {
   "cell_type": "code",
   "execution_count": 9,
   "id": "e4959942",
   "metadata": {
    "execution": {
     "iopub.execute_input": "2023-03-08T16:04:57.997727Z",
     "iopub.status.busy": "2023-03-08T16:04:57.997336Z",
     "iopub.status.idle": "2023-03-08T16:04:58.416567Z",
     "shell.execute_reply": "2023-03-08T16:04:58.415260Z"
    },
    "papermill": {
     "duration": 0.450727,
     "end_time": "2023-03-08T16:04:58.421716",
     "exception": false,
     "start_time": "2023-03-08T16:04:57.970989",
     "status": "completed"
    },
    "tags": []
   },
   "outputs": [
    {
     "name": "stdout",
     "output_type": "stream",
     "text": [
      "+------------+------+------+-------+-----------+----------------+\n",
      "|attendant_id|f_name|l_name| salary|Nationality|        new_name|\n",
      "+------------+------+------+-------+-----------+----------------+\n",
      "|           1| Smith|   Deo| 1086.0|      Linea|  Linea ** Smith|\n",
      "|           2| Kenry|  Jord| 1950.0|       Iran|   Iran ** Kenry|\n",
      "|           3|  Kick| Boxer| 7550.0|    Kingome| Kingome ** Kick|\n",
      "|           4|  Gill|  Nome| 1500.0|   New Wold|New Wold ** Gill|\n",
      "|           5|  Nill| While| 6500.0|   New Wold|New Wold ** Nill|\n",
      "|           6|  Will|  Lobe|18900.0|   Oreleans|Oreleans ** Will|\n",
      "+------------+------+------+-------+-----------+----------------+\n",
      "\n"
     ]
    }
   ],
   "source": [
    "#Using withColumn method\n",
    "attendantSDF.withColumn('new_name',concat('Nationality',lit(' ** '),'f_name')).show()"
   ]
  },
  {
   "cell_type": "code",
   "execution_count": 10,
   "id": "5e2a5652",
   "metadata": {
    "execution": {
     "iopub.execute_input": "2023-03-08T16:04:58.471956Z",
     "iopub.status.busy": "2023-03-08T16:04:58.471543Z",
     "iopub.status.idle": "2023-03-08T16:04:58.900180Z",
     "shell.execute_reply": "2023-03-08T16:04:58.897591Z"
    },
    "papermill": {
     "duration": 0.454564,
     "end_time": "2023-03-08T16:04:58.904903",
     "exception": false,
     "start_time": "2023-03-08T16:04:58.450339",
     "status": "completed"
    },
    "tags": []
   },
   "outputs": [
    {
     "name": "stdout",
     "output_type": "stream",
     "text": [
      "+----------+---------+\n",
      "|new_salary| new_name|\n",
      "+----------+---------+\n",
      "|    2172.0| SmithDeo|\n",
      "|    3900.0|KenryJord|\n",
      "|   15100.0|KickBoxer|\n",
      "|    3000.0| GillNome|\n",
      "|   13000.0|NillWhile|\n",
      "|   37800.0| WillLobe|\n",
      "+----------+---------+\n",
      "\n"
     ]
    }
   ],
   "source": [
    "#Using withColumn method\n",
    "attendantSDF.selectExpr(\"salary * 2 AS new_salary\", \"CONCAT(f_name,l_name) AS new_name\").show()"
   ]
  },
  {
   "cell_type": "code",
   "execution_count": 11,
   "id": "37ff0aba",
   "metadata": {
    "execution": {
     "iopub.execute_input": "2023-03-08T16:04:58.966067Z",
     "iopub.status.busy": "2023-03-08T16:04:58.965547Z",
     "iopub.status.idle": "2023-03-08T16:04:59.281069Z",
     "shell.execute_reply": "2023-03-08T16:04:59.278710Z"
    },
    "papermill": {
     "duration": 0.349438,
     "end_time": "2023-03-08T16:04:59.284516",
     "exception": false,
     "start_time": "2023-03-08T16:04:58.935078",
     "status": "completed"
    },
    "tags": []
   },
   "outputs": [
    {
     "name": "stdout",
     "output_type": "stream",
     "text": [
      "+------------+------+------+-------+\n",
      "|attendant_id|f_name|l_name| salary|\n",
      "+------------+------+------+-------+\n",
      "|           1| Smith|   Deo| 1086.0|\n",
      "|           2| Kenry|  Jord| 1950.0|\n",
      "|           3|  Kick| Boxer| 7550.0|\n",
      "|           4|  Gill|  Nome| 1500.0|\n",
      "|           5|  Nill| While| 6500.0|\n",
      "|           6|  Will|  Lobe|18900.0|\n",
      "+------------+------+------+-------+\n",
      "\n"
     ]
    }
   ],
   "source": [
    "attendantSDF.drop('Nationality').show()"
   ]
  },
  {
   "cell_type": "code",
   "execution_count": 12,
   "id": "180a3e2b",
   "metadata": {
    "execution": {
     "iopub.execute_input": "2023-03-08T16:04:59.346192Z",
     "iopub.status.busy": "2023-03-08T16:04:59.344733Z",
     "iopub.status.idle": "2023-03-08T16:04:59.535707Z",
     "shell.execute_reply": "2023-03-08T16:04:59.534776Z"
    },
    "papermill": {
     "duration": 0.224468,
     "end_time": "2023-03-08T16:04:59.538721",
     "exception": false,
     "start_time": "2023-03-08T16:04:59.314253",
     "status": "completed"
    },
    "tags": []
   },
   "outputs": [
    {
     "data": {
      "text/plain": [
       "pyspark.sql.types.Row"
      ]
     },
     "execution_count": 12,
     "metadata": {},
     "output_type": "execute_result"
    }
   ],
   "source": [
    "type(attendantSDF.drop('Nationality').collect()[0])"
   ]
  },
  {
   "cell_type": "code",
   "execution_count": 13,
   "id": "c881862a",
   "metadata": {
    "execution": {
     "iopub.execute_input": "2023-03-08T16:04:59.600472Z",
     "iopub.status.busy": "2023-03-08T16:04:59.599730Z",
     "iopub.status.idle": "2023-03-08T16:04:59.605593Z",
     "shell.execute_reply": "2023-03-08T16:04:59.604821Z"
    },
    "papermill": {
     "duration": 0.039515,
     "end_time": "2023-03-08T16:04:59.608151",
     "exception": false,
     "start_time": "2023-03-08T16:04:59.568636",
     "status": "completed"
    },
    "tags": []
   },
   "outputs": [
    {
     "data": {
      "text/plain": [
       "StructType([StructField('attendant_id', IntegerType(), True), StructField('f_name', StringType(), True), StructField('l_name', StringType(), True), StructField('salary', FloatType(), True), StructField('Nationality', StringType(), True)])"
      ]
     },
     "execution_count": 13,
     "metadata": {},
     "output_type": "execute_result"
    }
   ],
   "source": [
    "attendantSDF.schema"
   ]
  },
  {
   "cell_type": "code",
   "execution_count": 14,
   "id": "e37f8e8f",
   "metadata": {
    "execution": {
     "iopub.execute_input": "2023-03-08T16:04:59.665260Z",
     "iopub.status.busy": "2023-03-08T16:04:59.664308Z",
     "iopub.status.idle": "2023-03-08T16:04:59.673876Z",
     "shell.execute_reply": "2023-03-08T16:04:59.672190Z"
    },
    "papermill": {
     "duration": 0.037216,
     "end_time": "2023-03-08T16:04:59.676411",
     "exception": false,
     "start_time": "2023-03-08T16:04:59.639195",
     "status": "completed"
    },
    "tags": []
   },
   "outputs": [
    {
     "name": "stdout",
     "output_type": "stream",
     "text": [
      "root\n",
      " |-- attendant_id: integer (nullable = true)\n",
      " |-- f_name: string (nullable = true)\n",
      " |-- l_name: string (nullable = true)\n",
      " |-- salary: float (nullable = true)\n",
      " |-- Nationality: string (nullable = true)\n",
      "\n"
     ]
    }
   ],
   "source": [
    "attendantSDF.printSchema()"
   ]
  },
  {
   "cell_type": "code",
   "execution_count": 15,
   "id": "3594d031",
   "metadata": {
    "execution": {
     "iopub.execute_input": "2023-03-08T16:04:59.720187Z",
     "iopub.status.busy": "2023-03-08T16:04:59.719429Z",
     "iopub.status.idle": "2023-03-08T16:05:01.277752Z",
     "shell.execute_reply": "2023-03-08T16:05:01.275574Z"
    },
    "papermill": {
     "duration": 1.584087,
     "end_time": "2023-03-08T16:05:01.281378",
     "exception": false,
     "start_time": "2023-03-08T16:04:59.697291",
     "status": "completed"
    },
    "tags": []
   },
   "outputs": [
    {
     "name": "stderr",
     "output_type": "stream",
     "text": [
      "                                                                                \r"
     ]
    }
   ],
   "source": [
    "attendantSDF.write.parquet(path='/kaggle/working/parquet',\n",
    "                          mode='overwrite',\n",
    "                          compression='snappy')"
   ]
  },
  {
   "cell_type": "code",
   "execution_count": 16,
   "id": "98bdcb3e",
   "metadata": {
    "execution": {
     "iopub.execute_input": "2023-03-08T16:05:01.323919Z",
     "iopub.status.busy": "2023-03-08T16:05:01.323476Z",
     "iopub.status.idle": "2023-03-08T16:05:02.429926Z",
     "shell.execute_reply": "2023-03-08T16:05:02.428208Z"
    },
    "papermill": {
     "duration": 1.131588,
     "end_time": "2023-03-08T16:05:02.433438",
     "exception": false,
     "start_time": "2023-03-08T16:05:01.301850",
     "status": "completed"
    },
    "tags": []
   },
   "outputs": [
    {
     "name": "stdout",
     "output_type": "stream",
     "text": [
      "_SUCCESS\r\n",
      "part-00000-59952897-9760-4e71-b76d-162dbdbc782f-c000.snappy.parquet\r\n",
      "part-00001-59952897-9760-4e71-b76d-162dbdbc782f-c000.snappy.parquet\r\n",
      "part-00002-59952897-9760-4e71-b76d-162dbdbc782f-c000.snappy.parquet\r\n",
      "part-00003-59952897-9760-4e71-b76d-162dbdbc782f-c000.snappy.parquet\r\n"
     ]
    }
   ],
   "source": [
    "!ls /kaggle/working/parquet/"
   ]
  },
  {
   "cell_type": "code",
   "execution_count": 17,
   "id": "ed3120fc",
   "metadata": {
    "execution": {
     "iopub.execute_input": "2023-03-08T16:05:02.476063Z",
     "iopub.status.busy": "2023-03-08T16:05:02.475613Z",
     "iopub.status.idle": "2023-03-08T16:05:03.312805Z",
     "shell.execute_reply": "2023-03-08T16:05:03.310878Z"
    },
    "papermill": {
     "duration": 0.862567,
     "end_time": "2023-03-08T16:05:03.316194",
     "exception": false,
     "start_time": "2023-03-08T16:05:02.453627",
     "status": "completed"
    },
    "tags": []
   },
   "outputs": [
    {
     "name": "stdout",
     "output_type": "stream",
     "text": [
      "+------------+------+------+-------+-----------+\n",
      "|attendant_id|f_name|l_name| salary|Nationality|\n",
      "+------------+------+------+-------+-----------+\n",
      "|           4|  Gill|  Nome| 1500.0|   New Wold|\n",
      "|           5|  Nill| While| 6500.0|   New Wold|\n",
      "|           6|  Will|  Lobe|18900.0|   Oreleans|\n",
      "|           2| Kenry|  Jord| 1950.0|       Iran|\n",
      "|           3|  Kick| Boxer| 7550.0|    Kingome|\n",
      "|           1| Smith|   Deo| 1086.0|      Linea|\n",
      "+------------+------+------+-------+-----------+\n",
      "\n"
     ]
    }
   ],
   "source": [
    "new_parquet_read = spark.read.parquet('/kaggle/working/parquet')\n",
    "new_parquet_read.show()"
   ]
  },
  {
   "cell_type": "code",
   "execution_count": 18,
   "id": "104126ad",
   "metadata": {
    "execution": {
     "iopub.execute_input": "2023-03-08T16:05:03.380157Z",
     "iopub.status.busy": "2023-03-08T16:05:03.379753Z",
     "iopub.status.idle": "2023-03-08T16:05:03.844341Z",
     "shell.execute_reply": "2023-03-08T16:05:03.842720Z"
    },
    "papermill": {
     "duration": 0.499085,
     "end_time": "2023-03-08T16:05:03.848201",
     "exception": false,
     "start_time": "2023-03-08T16:05:03.349116",
     "status": "completed"
    },
    "tags": []
   },
   "outputs": [],
   "source": [
    "attendantSDF.coalesce(1).write.mode('append').option(\"compression\",\"snappy\"). \\\n",
    "    option('sep','|').format('csv').save('/kaggle/working/csv/')"
   ]
  },
  {
   "cell_type": "code",
   "execution_count": 19,
   "id": "e47cb5cf",
   "metadata": {
    "execution": {
     "iopub.execute_input": "2023-03-08T16:05:03.919622Z",
     "iopub.status.busy": "2023-03-08T16:05:03.919074Z",
     "iopub.status.idle": "2023-03-08T16:05:05.016807Z",
     "shell.execute_reply": "2023-03-08T16:05:05.015321Z"
    },
    "papermill": {
     "duration": 1.136764,
     "end_time": "2023-03-08T16:05:05.019868",
     "exception": false,
     "start_time": "2023-03-08T16:05:03.883104",
     "status": "completed"
    },
    "tags": []
   },
   "outputs": [
    {
     "name": "stdout",
     "output_type": "stream",
     "text": [
      "_SUCCESS  part-00000-198de330-debc-4cb1-988f-30c89807a4a6-c000.csv.snappy\r\n"
     ]
    }
   ],
   "source": [
    "!ls /kaggle/working/csv/"
   ]
  },
  {
   "cell_type": "code",
   "execution_count": 20,
   "id": "93d62221",
   "metadata": {
    "execution": {
     "iopub.execute_input": "2023-03-08T16:05:05.064109Z",
     "iopub.status.busy": "2023-03-08T16:05:05.063625Z",
     "iopub.status.idle": "2023-03-08T16:05:05.428007Z",
     "shell.execute_reply": "2023-03-08T16:05:05.426687Z"
    },
    "papermill": {
     "duration": 0.391366,
     "end_time": "2023-03-08T16:05:05.431602",
     "exception": false,
     "start_time": "2023-03-08T16:05:05.040236",
     "status": "completed"
    },
    "tags": []
   },
   "outputs": [],
   "source": [
    "attendantSDF.coalesce(1).write.mode('overwrite').option(\"compression\",\"gzip\"). \\\n",
    "    option('sep','|').format('csv').save('/kaggle/working/csv_gzip/')"
   ]
  },
  {
   "cell_type": "code",
   "execution_count": 21,
   "id": "0e357020",
   "metadata": {
    "execution": {
     "iopub.execute_input": "2023-03-08T16:05:05.474909Z",
     "iopub.status.busy": "2023-03-08T16:05:05.474477Z",
     "iopub.status.idle": "2023-03-08T16:05:06.606402Z",
     "shell.execute_reply": "2023-03-08T16:05:06.604878Z"
    },
    "papermill": {
     "duration": 1.157034,
     "end_time": "2023-03-08T16:05:06.609514",
     "exception": false,
     "start_time": "2023-03-08T16:05:05.452480",
     "status": "completed"
    },
    "tags": []
   },
   "outputs": [
    {
     "name": "stdout",
     "output_type": "stream",
     "text": [
      "_SUCCESS  part-00000-ab24aa91-3d86-41ec-a980-e19206507607-c000.csv.gz\r\n"
     ]
    }
   ],
   "source": [
    "!ls /kaggle/working/csv_gzip/"
   ]
  },
  {
   "cell_type": "code",
   "execution_count": 22,
   "id": "386eb29a",
   "metadata": {
    "execution": {
     "iopub.execute_input": "2023-03-08T16:05:06.652868Z",
     "iopub.status.busy": "2023-03-08T16:05:06.652401Z",
     "iopub.status.idle": "2023-03-08T16:05:06.659937Z",
     "shell.execute_reply": "2023-03-08T16:05:06.658624Z"
    },
    "papermill": {
     "duration": 0.032744,
     "end_time": "2023-03-08T16:05:06.663248",
     "exception": false,
     "start_time": "2023-03-08T16:05:06.630504",
     "status": "completed"
    },
    "tags": []
   },
   "outputs": [],
   "source": [
    "spark.conf.set(\"spark.sql.shuffle.partitions\",'2')"
   ]
  },
  {
   "cell_type": "code",
   "execution_count": 23,
   "id": "1c1b7fc6",
   "metadata": {
    "execution": {
     "iopub.execute_input": "2023-03-08T16:05:06.715985Z",
     "iopub.status.busy": "2023-03-08T16:05:06.715399Z",
     "iopub.status.idle": "2023-03-08T16:05:06.832743Z",
     "shell.execute_reply": "2023-03-08T16:05:06.831852Z"
    },
    "papermill": {
     "duration": 0.144865,
     "end_time": "2023-03-08T16:05:06.835930",
     "exception": false,
     "start_time": "2023-03-08T16:05:06.691065",
     "status": "completed"
    },
    "tags": []
   },
   "outputs": [
    {
     "data": {
      "text/plain": [
       "DataFrame[]"
      ]
     },
     "execution_count": 23,
     "metadata": {},
     "output_type": "execute_result"
    }
   ],
   "source": [
    "spark.sql(\"DROP DATABASE IF EXISTS trial_database\")\n",
    "spark.sql(\"CREATE DATABASE trial_database\")\n",
    "spark.sql(\"USE DATABASE trial_database\")"
   ]
  },
  {
   "cell_type": "code",
   "execution_count": 24,
   "id": "b2470b3b",
   "metadata": {
    "execution": {
     "iopub.execute_input": "2023-03-08T16:05:06.908443Z",
     "iopub.status.busy": "2023-03-08T16:05:06.907909Z",
     "iopub.status.idle": "2023-03-08T16:05:06.925307Z",
     "shell.execute_reply": "2023-03-08T16:05:06.924011Z"
    },
    "papermill": {
     "duration": 0.058237,
     "end_time": "2023-03-08T16:05:06.928958",
     "exception": false,
     "start_time": "2023-03-08T16:05:06.870721",
     "status": "completed"
    },
    "tags": []
   },
   "outputs": [
    {
     "data": {
      "text/plain": [
       "'trial_database'"
      ]
     },
     "execution_count": 24,
     "metadata": {},
     "output_type": "execute_result"
    }
   ],
   "source": [
    "spark.catalog.currentDatabase()"
   ]
  },
  {
   "cell_type": "code",
   "execution_count": 25,
   "id": "21cf8de2",
   "metadata": {
    "execution": {
     "iopub.execute_input": "2023-03-08T16:05:06.997115Z",
     "iopub.status.busy": "2023-03-08T16:05:06.996447Z",
     "iopub.status.idle": "2023-03-08T16:05:07.463288Z",
     "shell.execute_reply": "2023-03-08T16:05:07.461878Z"
    },
    "papermill": {
     "duration": 0.50307,
     "end_time": "2023-03-08T16:05:07.466577",
     "exception": false,
     "start_time": "2023-03-08T16:05:06.963507",
     "status": "completed"
    },
    "tags": []
   },
   "outputs": [
    {
     "data": {
      "text/plain": [
       "[Database(name='default', description='default database', locationUri='file:/kaggle/working/spark-warehouse'),\n",
       " Database(name='trial_database', description='', locationUri='file:/kaggle/working/spark-warehouse/trial_database.db')]"
      ]
     },
     "execution_count": 25,
     "metadata": {},
     "output_type": "execute_result"
    }
   ],
   "source": [
    "spark.catalog.listDatabases()"
   ]
  },
  {
   "cell_type": "code",
   "execution_count": 26,
   "id": "f633bece",
   "metadata": {
    "execution": {
     "iopub.execute_input": "2023-03-08T16:05:07.531541Z",
     "iopub.status.busy": "2023-03-08T16:05:07.531136Z",
     "iopub.status.idle": "2023-03-08T16:05:08.436467Z",
     "shell.execute_reply": "2023-03-08T16:05:08.435031Z"
    },
    "papermill": {
     "duration": 0.942169,
     "end_time": "2023-03-08T16:05:08.440750",
     "exception": false,
     "start_time": "2023-03-08T16:05:07.498581",
     "status": "completed"
    },
    "tags": []
   },
   "outputs": [],
   "source": [
    "attendantSDF.write.saveAsTable(\"attendants\", mode='overwrite',partitionBy='Nationality')"
   ]
  },
  {
   "cell_type": "code",
   "execution_count": 27,
   "id": "36e5688d",
   "metadata": {
    "execution": {
     "iopub.execute_input": "2023-03-08T16:05:08.511067Z",
     "iopub.status.busy": "2023-03-08T16:05:08.510081Z",
     "iopub.status.idle": "2023-03-08T16:05:08.773045Z",
     "shell.execute_reply": "2023-03-08T16:05:08.771878Z"
    },
    "papermill": {
     "duration": 0.29864,
     "end_time": "2023-03-08T16:05:08.776150",
     "exception": false,
     "start_time": "2023-03-08T16:05:08.477510",
     "status": "completed"
    },
    "tags": []
   },
   "outputs": [
    {
     "data": {
      "text/plain": [
       "[Table(name='attendants', database='trial_database', description=None, tableType='MANAGED', isTemporary=False)]"
      ]
     },
     "execution_count": 27,
     "metadata": {},
     "output_type": "execute_result"
    }
   ],
   "source": [
    "spark.catalog.listTables()"
   ]
  },
  {
   "cell_type": "code",
   "execution_count": 28,
   "id": "74697a8f",
   "metadata": {
    "execution": {
     "iopub.execute_input": "2023-03-08T16:05:08.845006Z",
     "iopub.status.busy": "2023-03-08T16:05:08.843964Z",
     "iopub.status.idle": "2023-03-08T16:05:08.960865Z",
     "shell.execute_reply": "2023-03-08T16:05:08.959676Z"
    },
    "papermill": {
     "duration": 0.156516,
     "end_time": "2023-03-08T16:05:08.964354",
     "exception": false,
     "start_time": "2023-03-08T16:05:08.807838",
     "status": "completed"
    },
    "tags": []
   },
   "outputs": [
    {
     "name": "stdout",
     "output_type": "stream",
     "text": [
      "+----------------------------+-----------------------------------------------------------------+-------+\n",
      "|col_name                    |data_type                                                        |comment|\n",
      "+----------------------------+-----------------------------------------------------------------+-------+\n",
      "|attendant_id                |int                                                              |null   |\n",
      "|f_name                      |string                                                           |null   |\n",
      "|l_name                      |string                                                           |null   |\n",
      "|salary                      |float                                                            |null   |\n",
      "|Nationality                 |string                                                           |null   |\n",
      "|# Partition Information     |                                                                 |       |\n",
      "|# col_name                  |data_type                                                        |comment|\n",
      "|Nationality                 |string                                                           |null   |\n",
      "|                            |                                                                 |       |\n",
      "|# Detailed Table Information|                                                                 |       |\n",
      "|Database                    |trial_database                                                   |       |\n",
      "|Table                       |attendants                                                       |       |\n",
      "|Created Time                |Wed Mar 08 16:05:07 UTC 2023                                     |       |\n",
      "|Last Access                 |UNKNOWN                                                          |       |\n",
      "|Created By                  |Spark 3.3.2                                                      |       |\n",
      "|Type                        |MANAGED                                                          |       |\n",
      "|Provider                    |parquet                                                          |       |\n",
      "|Location                    |file:/kaggle/working/spark-warehouse/trial_database.db/attendants|       |\n",
      "|Partition Provider          |Catalog                                                          |       |\n",
      "+----------------------------+-----------------------------------------------------------------+-------+\n",
      "\n"
     ]
    }
   ],
   "source": [
    "spark.sql('DESCRIBE FORMATTED attendants').show(truncate=False)"
   ]
  },
  {
   "cell_type": "code",
   "execution_count": 29,
   "id": "6136d308",
   "metadata": {
    "execution": {
     "iopub.execute_input": "2023-03-08T16:05:09.030804Z",
     "iopub.status.busy": "2023-03-08T16:05:09.029913Z",
     "iopub.status.idle": "2023-03-08T16:05:09.622216Z",
     "shell.execute_reply": "2023-03-08T16:05:09.620975Z"
    },
    "papermill": {
     "duration": 0.629947,
     "end_time": "2023-03-08T16:05:09.625336",
     "exception": false,
     "start_time": "2023-03-08T16:05:08.995389",
     "status": "completed"
    },
    "tags": []
   },
   "outputs": [
    {
     "data": {
      "text/plain": [
       "DataFrame[1: int, Smith: string, Deo: string, 1086.0: double, Linea: string]"
      ]
     },
     "execution_count": 29,
     "metadata": {},
     "output_type": "execute_result"
    }
   ],
   "source": [
    "spark.catalog.createTable(\"attendants_new_csv\",\n",
    "                                  path='/kaggle/working/csv/', \n",
    "                                 source='csv',\n",
    "                                 sep='|',\n",
    "                                 header='true',\n",
    "                                 inferSchema='true')"
   ]
  },
  {
   "cell_type": "code",
   "execution_count": 30,
   "id": "09328c2a",
   "metadata": {
    "execution": {
     "iopub.execute_input": "2023-03-08T16:05:09.689708Z",
     "iopub.status.busy": "2023-03-08T16:05:09.689028Z",
     "iopub.status.idle": "2023-03-08T16:05:09.749665Z",
     "shell.execute_reply": "2023-03-08T16:05:09.747954Z"
    },
    "papermill": {
     "duration": 0.097656,
     "end_time": "2023-03-08T16:05:09.754115",
     "exception": false,
     "start_time": "2023-03-08T16:05:09.656459",
     "status": "completed"
    },
    "tags": []
   },
   "outputs": [
    {
     "name": "stdout",
     "output_type": "stream",
     "text": [
      "+----------------------------+--------------------------------------+-------+\n",
      "|col_name                    |data_type                             |comment|\n",
      "+----------------------------+--------------------------------------+-------+\n",
      "|1                           |int                                   |null   |\n",
      "|Smith                       |string                                |null   |\n",
      "|Deo                         |string                                |null   |\n",
      "|1086.0                      |double                                |null   |\n",
      "|Linea                       |string                                |null   |\n",
      "|                            |                                      |       |\n",
      "|# Detailed Table Information|                                      |       |\n",
      "|Database                    |trial_database                        |       |\n",
      "|Table                       |attendants_new_csv                    |       |\n",
      "|Created Time                |Wed Mar 08 16:05:09 UTC 2023          |       |\n",
      "|Last Access                 |UNKNOWN                               |       |\n",
      "|Created By                  |Spark 3.3.2                           |       |\n",
      "|Type                        |EXTERNAL                              |       |\n",
      "|Provider                    |csv                                   |       |\n",
      "|Location                    |file:///kaggle/working/csv            |       |\n",
      "|Storage Properties          |[header=true, inferSchema=true, sep=|]|       |\n",
      "+----------------------------+--------------------------------------+-------+\n",
      "\n"
     ]
    }
   ],
   "source": [
    "spark.sql('DESCRIBE FORMATTED attendants_new_csv').show(truncate=False)"
   ]
  },
  {
   "cell_type": "code",
   "execution_count": 31,
   "id": "8f6c50db",
   "metadata": {
    "execution": {
     "iopub.execute_input": "2023-03-08T16:05:09.822002Z",
     "iopub.status.busy": "2023-03-08T16:05:09.821553Z",
     "iopub.status.idle": "2023-03-08T16:05:09.849677Z",
     "shell.execute_reply": "2023-03-08T16:05:09.848688Z"
    },
    "papermill": {
     "duration": 0.066211,
     "end_time": "2023-03-08T16:05:09.852532",
     "exception": false,
     "start_time": "2023-03-08T16:05:09.786321",
     "status": "completed"
    },
    "tags": []
   },
   "outputs": [
    {
     "data": {
      "text/plain": [
       "DataFrame[]"
      ]
     },
     "execution_count": 31,
     "metadata": {},
     "output_type": "execute_result"
    }
   ],
   "source": [
    "spark.sql(f\"DROP DATABASE IF EXISTS trial_database CASCADE\")"
   ]
  },
  {
   "cell_type": "code",
   "execution_count": 32,
   "id": "a6078e51",
   "metadata": {
    "execution": {
     "iopub.execute_input": "2023-03-08T16:05:09.903693Z",
     "iopub.status.busy": "2023-03-08T16:05:09.903199Z",
     "iopub.status.idle": "2023-03-08T16:05:10.002144Z",
     "shell.execute_reply": "2023-03-08T16:05:10.000889Z"
    },
    "papermill": {
     "duration": 0.12457,
     "end_time": "2023-03-08T16:05:10.005161",
     "exception": false,
     "start_time": "2023-03-08T16:05:09.880591",
     "status": "completed"
    },
    "tags": []
   },
   "outputs": [
    {
     "data": {
      "text/plain": [
       "[Database(name='default', description='default database', locationUri='file:/kaggle/working/spark-warehouse')]"
      ]
     },
     "execution_count": 32,
     "metadata": {},
     "output_type": "execute_result"
    }
   ],
   "source": [
    "spark.catalog.listDatabases()"
   ]
  },
  {
   "cell_type": "markdown",
   "id": "77ffd6f2",
   "metadata": {
    "papermill": {
     "duration": 0.020966,
     "end_time": "2023-03-08T16:05:10.047327",
     "exception": false,
     "start_time": "2023-03-08T16:05:10.026361",
     "status": "completed"
    },
    "tags": []
   },
   "source": [
    "### Starting the ETL process from an API\n",
    "\n",
    "https://pyrite-ethereal-soccer.glitch.me/docs\n",
    "\n",
    "https://hugovk.github.io/top-pypi-packages/top-pypi-packages-30-days.json"
   ]
  },
  {
   "cell_type": "code",
   "execution_count": 33,
   "id": "63334620",
   "metadata": {
    "execution": {
     "iopub.execute_input": "2023-03-08T16:05:10.092376Z",
     "iopub.status.busy": "2023-03-08T16:05:10.091114Z",
     "iopub.status.idle": "2023-03-08T16:05:10.223909Z",
     "shell.execute_reply": "2023-03-08T16:05:10.222535Z"
    },
    "papermill": {
     "duration": 0.158306,
     "end_time": "2023-03-08T16:05:10.226928",
     "exception": false,
     "start_time": "2023-03-08T16:05:10.068622",
     "status": "completed"
    },
    "tags": []
   },
   "outputs": [],
   "source": [
    "url = 'https://hugovk.github.io/top-pypi-packages/top-pypi-packages-30-days.json'\n",
    "res = requests.request(method='GET',url=url)\n",
    "data_json = res.json()"
   ]
  },
  {
   "cell_type": "code",
   "execution_count": 34,
   "id": "f49d2b06",
   "metadata": {
    "execution": {
     "iopub.execute_input": "2023-03-08T16:05:10.272864Z",
     "iopub.status.busy": "2023-03-08T16:05:10.272004Z",
     "iopub.status.idle": "2023-03-08T16:05:10.277253Z",
     "shell.execute_reply": "2023-03-08T16:05:10.276159Z"
    },
    "papermill": {
     "duration": 0.030565,
     "end_time": "2023-03-08T16:05:10.279582",
     "exception": false,
     "start_time": "2023-03-08T16:05:10.249017",
     "status": "completed"
    },
    "tags": []
   },
   "outputs": [],
   "source": [
    "main_data = data_json['rows']"
   ]
  },
  {
   "cell_type": "code",
   "execution_count": 35,
   "id": "4cff48ac",
   "metadata": {
    "execution": {
     "iopub.execute_input": "2023-03-08T16:05:10.324630Z",
     "iopub.status.busy": "2023-03-08T16:05:10.323915Z",
     "iopub.status.idle": "2023-03-08T16:05:11.190133Z",
     "shell.execute_reply": "2023-03-08T16:05:11.188898Z"
    },
    "papermill": {
     "duration": 0.89208,
     "end_time": "2023-03-08T16:05:11.193143",
     "exception": false,
     "start_time": "2023-03-08T16:05:10.301063",
     "status": "completed"
    },
    "tags": []
   },
   "outputs": [],
   "source": [
    "spark.stop()"
   ]
  },
  {
   "cell_type": "code",
   "execution_count": 36,
   "id": "4bbd59ff",
   "metadata": {
    "execution": {
     "iopub.execute_input": "2023-03-08T16:05:11.239148Z",
     "iopub.status.busy": "2023-03-08T16:05:11.238330Z",
     "iopub.status.idle": "2023-03-08T16:05:11.452105Z",
     "shell.execute_reply": "2023-03-08T16:05:11.450864Z"
    },
    "papermill": {
     "duration": 0.240771,
     "end_time": "2023-03-08T16:05:11.455841",
     "exception": false,
     "start_time": "2023-03-08T16:05:11.215070",
     "status": "completed"
    },
    "tags": []
   },
   "outputs": [],
   "source": [
    "etl_spark = SparkSession. \\\n",
    "    builder. \\\n",
    "    appName('ETL_spark'). \\\n",
    "    getOrCreate()"
   ]
  },
  {
   "cell_type": "code",
   "execution_count": 37,
   "id": "8ec1955d",
   "metadata": {
    "execution": {
     "iopub.execute_input": "2023-03-08T16:05:11.512014Z",
     "iopub.status.busy": "2023-03-08T16:05:11.511465Z",
     "iopub.status.idle": "2023-03-08T16:05:11.553084Z",
     "shell.execute_reply": "2023-03-08T16:05:11.551754Z"
    },
    "papermill": {
     "duration": 0.068481,
     "end_time": "2023-03-08T16:05:11.556722",
     "exception": false,
     "start_time": "2023-03-08T16:05:11.488241",
     "status": "completed"
    },
    "tags": []
   },
   "outputs": [
    {
     "data": {
      "text/html": [
       "\n",
       "            <div>\n",
       "                <p><b>SparkSession - in-memory</b></p>\n",
       "                \n",
       "        <div>\n",
       "            <p><b>SparkContext</b></p>\n",
       "\n",
       "            <p><a href=\"http://ee83b9e15dd0:4040\">Spark UI</a></p>\n",
       "\n",
       "            <dl>\n",
       "              <dt>Version</dt>\n",
       "                <dd><code>v3.3.2</code></dd>\n",
       "              <dt>Master</dt>\n",
       "                <dd><code>local[*]</code></dd>\n",
       "              <dt>AppName</dt>\n",
       "                <dd><code>ETL_spark</code></dd>\n",
       "            </dl>\n",
       "        </div>\n",
       "        \n",
       "            </div>\n",
       "        "
      ],
      "text/plain": [
       "<pyspark.sql.session.SparkSession at 0x7fd314117190>"
      ]
     },
     "execution_count": 37,
     "metadata": {},
     "output_type": "execute_result"
    }
   ],
   "source": [
    "etl_spark"
   ]
  },
  {
   "cell_type": "code",
   "execution_count": 38,
   "id": "f95e6362",
   "metadata": {
    "execution": {
     "iopub.execute_input": "2023-03-08T16:05:11.621221Z",
     "iopub.status.busy": "2023-03-08T16:05:11.620754Z",
     "iopub.status.idle": "2023-03-08T16:05:11.802870Z",
     "shell.execute_reply": "2023-03-08T16:05:11.801519Z"
    },
    "papermill": {
     "duration": 0.214149,
     "end_time": "2023-03-08T16:05:11.807032",
     "exception": false,
     "start_time": "2023-03-08T16:05:11.592883",
     "status": "completed"
    },
    "tags": []
   },
   "outputs": [],
   "source": [
    "api_datadf = etl_spark.createDataFrame(data=main_data)"
   ]
  },
  {
   "cell_type": "code",
   "execution_count": 39,
   "id": "89691bfc",
   "metadata": {
    "execution": {
     "iopub.execute_input": "2023-03-08T16:05:11.852358Z",
     "iopub.status.busy": "2023-03-08T16:05:11.851975Z",
     "iopub.status.idle": "2023-03-08T16:05:11.858858Z",
     "shell.execute_reply": "2023-03-08T16:05:11.857840Z"
    },
    "papermill": {
     "duration": 0.032322,
     "end_time": "2023-03-08T16:05:11.861610",
     "exception": false,
     "start_time": "2023-03-08T16:05:11.829288",
     "status": "completed"
    },
    "tags": []
   },
   "outputs": [
    {
     "data": {
      "text/plain": [
       "StructType([StructField('download_count', LongType(), True), StructField('project', StringType(), True)])"
      ]
     },
     "execution_count": 39,
     "metadata": {},
     "output_type": "execute_result"
    }
   ],
   "source": [
    "api_datadf.schema"
   ]
  },
  {
   "cell_type": "code",
   "execution_count": 40,
   "id": "7586b0b9",
   "metadata": {
    "execution": {
     "iopub.execute_input": "2023-03-08T16:05:11.909046Z",
     "iopub.status.busy": "2023-03-08T16:05:11.908607Z",
     "iopub.status.idle": "2023-03-08T16:05:11.915605Z",
     "shell.execute_reply": "2023-03-08T16:05:11.913646Z"
    },
    "papermill": {
     "duration": 0.03378,
     "end_time": "2023-03-08T16:05:11.918445",
     "exception": false,
     "start_time": "2023-03-08T16:05:11.884665",
     "status": "completed"
    },
    "tags": []
   },
   "outputs": [
    {
     "name": "stdout",
     "output_type": "stream",
     "text": [
      "root\n",
      " |-- download_count: long (nullable = true)\n",
      " |-- project: string (nullable = true)\n",
      "\n"
     ]
    }
   ],
   "source": [
    "api_datadf.printSchema()"
   ]
  },
  {
   "cell_type": "code",
   "execution_count": 41,
   "id": "9faf7d53",
   "metadata": {
    "execution": {
     "iopub.execute_input": "2023-03-08T16:05:11.964014Z",
     "iopub.status.busy": "2023-03-08T16:05:11.963369Z",
     "iopub.status.idle": "2023-03-08T16:05:32.953023Z",
     "shell.execute_reply": "2023-03-08T16:05:32.951626Z"
    },
    "papermill": {
     "duration": 21.015502,
     "end_time": "2023-03-08T16:05:32.955615",
     "exception": false,
     "start_time": "2023-03-08T16:05:11.940113",
     "status": "completed"
    },
    "tags": []
   },
   "outputs": [
    {
     "data": {
      "text/plain": [
       "[{'ID': '0x2318',\n",
       "  'Delivery_person_ID': 'COIMBRES13DEL01',\n",
       "  'Type_of_Vehicle': 'electric_scooter',\n",
       "  'DeliveryPersonAge': 29.5,\n",
       "  'DeliveryPersonRatings': 4.6,\n",
       "  'TypeOfVehicle': 2.0,\n",
       "  'DeliveryPersonID': 2.0},\n",
       " {'ID': '0x3474',\n",
       "  'Delivery_person_ID': 'BANGRES15DEL01',\n",
       "  'Type_of_Vehicle': 'motorcycle',\n",
       "  'DeliveryPersonAge': 28.0,\n",
       "  'DeliveryPersonRatings': 4.6,\n",
       "  'TypeOfVehicle': 0.0,\n",
       "  'DeliveryPersonID': 266.0}]"
      ]
     },
     "execution_count": 41,
     "metadata": {},
     "output_type": "execute_result"
    }
   ],
   "source": [
    "# A bit more involved api.. using the pyrite api\n",
    "pyriteurl = \"https://pyrite-ethereal-soccer.glitch.me/biker/v1/deliveryd\"\n",
    "pyriteRes = requests.request(method='GET',url=pyriteurl)\n",
    "pyriteData = pyriteRes.json()\n",
    "pyriteData"
   ]
  },
  {
   "cell_type": "code",
   "execution_count": 42,
   "id": "cfb9f6dc",
   "metadata": {
    "execution": {
     "iopub.execute_input": "2023-03-08T16:05:33.001271Z",
     "iopub.status.busy": "2023-03-08T16:05:33.000768Z",
     "iopub.status.idle": "2023-03-08T16:05:34.022590Z",
     "shell.execute_reply": "2023-03-08T16:05:34.020014Z"
    },
    "papermill": {
     "duration": 1.049026,
     "end_time": "2023-03-08T16:05:34.026480",
     "exception": false,
     "start_time": "2023-03-08T16:05:32.977454",
     "status": "completed"
    },
    "tags": []
   },
   "outputs": [
    {
     "name": "stderr",
     "output_type": "stream",
     "text": [
      "[Stage 0:>                                                          (0 + 1) / 1]\r"
     ]
    },
    {
     "name": "stdout",
     "output_type": "stream",
     "text": [
      "+-----------------+----------------+---------------------+------------------+------+-------------+----------------+\n",
      "|DeliveryPersonAge|DeliveryPersonID|DeliveryPersonRatings|Delivery_person_ID|    ID|TypeOfVehicle| Type_of_Vehicle|\n",
      "+-----------------+----------------+---------------------+------------------+------+-------------+----------------+\n",
      "|             29.5|             2.0|                  4.6|   COIMBRES13DEL01|0x2318|          2.0|electric_scooter|\n",
      "|             28.0|           266.0|                  4.6|    BANGRES15DEL01|0x3474|          0.0|      motorcycle|\n",
      "+-----------------+----------------+---------------------+------------------+------+-------------+----------------+\n",
      "\n"
     ]
    },
    {
     "name": "stderr",
     "output_type": "stream",
     "text": [
      "                                                                                \r"
     ]
    }
   ],
   "source": [
    "pyriteSDF = etl_spark.createDataFrame(data = pyriteData)\n",
    "pyriteSDF.show()"
   ]
  },
  {
   "cell_type": "code",
   "execution_count": 43,
   "id": "f4b05aad",
   "metadata": {
    "execution": {
     "iopub.execute_input": "2023-03-08T16:05:34.095797Z",
     "iopub.status.busy": "2023-03-08T16:05:34.095135Z",
     "iopub.status.idle": "2023-03-08T16:05:34.104109Z",
     "shell.execute_reply": "2023-03-08T16:05:34.101700Z"
    },
    "papermill": {
     "duration": 0.047533,
     "end_time": "2023-03-08T16:05:34.107131",
     "exception": false,
     "start_time": "2023-03-08T16:05:34.059598",
     "status": "completed"
    },
    "tags": []
   },
   "outputs": [
    {
     "name": "stdout",
     "output_type": "stream",
     "text": [
      "root\n",
      " |-- DeliveryPersonAge: double (nullable = true)\n",
      " |-- DeliveryPersonID: double (nullable = true)\n",
      " |-- DeliveryPersonRatings: double (nullable = true)\n",
      " |-- Delivery_person_ID: string (nullable = true)\n",
      " |-- ID: string (nullable = true)\n",
      " |-- TypeOfVehicle: double (nullable = true)\n",
      " |-- Type_of_Vehicle: string (nullable = true)\n",
      "\n"
     ]
    }
   ],
   "source": [
    "pyriteSDF.printSchema()"
   ]
  },
  {
   "cell_type": "code",
   "execution_count": 44,
   "id": "f9709155",
   "metadata": {
    "execution": {
     "iopub.execute_input": "2023-03-08T16:05:34.178286Z",
     "iopub.status.busy": "2023-03-08T16:05:34.176866Z",
     "iopub.status.idle": "2023-03-08T16:05:34.327188Z",
     "shell.execute_reply": "2023-03-08T16:05:34.326038Z"
    },
    "papermill": {
     "duration": 0.188106,
     "end_time": "2023-03-08T16:05:34.329590",
     "exception": false,
     "start_time": "2023-03-08T16:05:34.141484",
     "status": "completed"
    },
    "tags": []
   },
   "outputs": [
    {
     "data": {
      "text/plain": [
       "[Database(name='api_database', description='', locationUri='file:/kaggle/working/spark-warehouse/api_database.db'),\n",
       " Database(name='default', description='default database', locationUri='file:/kaggle/working/spark-warehouse')]"
      ]
     },
     "execution_count": 44,
     "metadata": {},
     "output_type": "execute_result"
    }
   ],
   "source": [
    "#Writing the data to spark catalog\n",
    "etl_spark.sql(\"CREATE DATABASE IF NOT EXISTS api_database\")\n",
    "etl_spark.sql(\"USE DATABASE api_database\")\n",
    "etl_spark.catalog.listDatabases()"
   ]
  },
  {
   "cell_type": "code",
   "execution_count": 45,
   "id": "d6c099c1",
   "metadata": {
    "execution": {
     "iopub.execute_input": "2023-03-08T16:05:34.396288Z",
     "iopub.status.busy": "2023-03-08T16:05:34.395742Z",
     "iopub.status.idle": "2023-03-08T16:05:34.983759Z",
     "shell.execute_reply": "2023-03-08T16:05:34.982435Z"
    },
    "papermill": {
     "duration": 0.625643,
     "end_time": "2023-03-08T16:05:34.987069",
     "exception": false,
     "start_time": "2023-03-08T16:05:34.361426",
     "status": "completed"
    },
    "tags": []
   },
   "outputs": [
    {
     "name": "stdout",
     "output_type": "stream",
     "text": [
      "+-----------------+----------------+---------------------+------------------+------+-------------+----------------+\n",
      "|DeliveryPersonAge|DeliveryPersonID|DeliveryPersonRatings|Delivery_person_ID|ID    |TypeOfVehicle|Type_of_Vehicle |\n",
      "+-----------------+----------------+---------------------+------------------+------+-------------+----------------+\n",
      "|29.5             |2.0             |4.6                  |COIMBRES13DEL01   |0x2318|2.0          |electric_scooter|\n",
      "|28.0             |266.0           |4.6                  |BANGRES15DEL01    |0x3474|0.0          |motorcycle      |\n",
      "+-----------------+----------------+---------------------+------------------+------+-------------+----------------+\n",
      "\n"
     ]
    }
   ],
   "source": [
    "pyriteSDF.write.saveAsTable(\"pyrite_table\")\n",
    "etl_spark.sql(\"SELECT * FROM pyrite_table\").show(truncate=False)"
   ]
  },
  {
   "cell_type": "code",
   "execution_count": 46,
   "id": "d1a2de59",
   "metadata": {
    "execution": {
     "iopub.execute_input": "2023-03-08T16:05:35.057649Z",
     "iopub.status.busy": "2023-03-08T16:05:35.057025Z",
     "iopub.status.idle": "2023-03-08T16:05:35.249349Z",
     "shell.execute_reply": "2023-03-08T16:05:35.248011Z"
    },
    "papermill": {
     "duration": 0.232321,
     "end_time": "2023-03-08T16:05:35.253522",
     "exception": false,
     "start_time": "2023-03-08T16:05:35.021201",
     "status": "completed"
    },
    "tags": []
   },
   "outputs": [
    {
     "name": "stdout",
     "output_type": "stream",
     "text": [
      "+------------+------------+-----------+\n",
      "|   namespace|   tableName|isTemporary|\n",
      "+------------+------------+-----------+\n",
      "|api_database|pyrite_table|      false|\n",
      "+------------+------------+-----------+\n",
      "\n"
     ]
    }
   ],
   "source": [
    "etl_spark.sql(\"SHOW TABLES\").show()"
   ]
  },
  {
   "cell_type": "code",
   "execution_count": 47,
   "id": "cb2ac002",
   "metadata": {
    "execution": {
     "iopub.execute_input": "2023-03-08T16:05:35.326668Z",
     "iopub.status.busy": "2023-03-08T16:05:35.326005Z",
     "iopub.status.idle": "2023-03-08T16:05:35.387345Z",
     "shell.execute_reply": "2023-03-08T16:05:35.386111Z"
    },
    "papermill": {
     "duration": 0.101114,
     "end_time": "2023-03-08T16:05:35.390502",
     "exception": false,
     "start_time": "2023-03-08T16:05:35.289388",
     "status": "completed"
    },
    "tags": []
   },
   "outputs": [
    {
     "name": "stdout",
     "output_type": "stream",
     "text": [
      "+---------+--------+-----------+\n",
      "|namespace|viewName|isTemporary|\n",
      "+---------+--------+-----------+\n",
      "+---------+--------+-----------+\n",
      "\n"
     ]
    }
   ],
   "source": [
    "etl_spark.sql(\"SHOW VIEWS\").show()"
   ]
  },
  {
   "cell_type": "code",
   "execution_count": 48,
   "id": "4a8027a2",
   "metadata": {
    "execution": {
     "iopub.execute_input": "2023-03-08T16:05:35.458889Z",
     "iopub.status.busy": "2023-03-08T16:05:35.458361Z",
     "iopub.status.idle": "2023-03-08T16:05:35.569037Z",
     "shell.execute_reply": "2023-03-08T16:05:35.567771Z"
    },
    "papermill": {
     "duration": 0.150822,
     "end_time": "2023-03-08T16:05:35.573854",
     "exception": false,
     "start_time": "2023-03-08T16:05:35.423032",
     "status": "completed"
    },
    "tags": []
   },
   "outputs": [
    {
     "name": "stdout",
     "output_type": "stream",
     "text": [
      "+------------+\n",
      "|   namespace|\n",
      "+------------+\n",
      "|api_database|\n",
      "|     default|\n",
      "+------------+\n",
      "\n"
     ]
    }
   ],
   "source": [
    "etl_spark.sql(\"SHOW DATABASES\").show()"
   ]
  },
  {
   "cell_type": "code",
   "execution_count": 49,
   "id": "875a6fbf",
   "metadata": {
    "execution": {
     "iopub.execute_input": "2023-03-08T16:05:35.646088Z",
     "iopub.status.busy": "2023-03-08T16:05:35.645525Z",
     "iopub.status.idle": "2023-03-08T16:05:35.758208Z",
     "shell.execute_reply": "2023-03-08T16:05:35.756877Z"
    },
    "papermill": {
     "duration": 0.152571,
     "end_time": "2023-03-08T16:05:35.761756",
     "exception": false,
     "start_time": "2023-03-08T16:05:35.609185",
     "status": "completed"
    },
    "tags": []
   },
   "outputs": [
    {
     "data": {
      "text/plain": [
       "[Table(name='pyrite_table', database='api_database', description=None, tableType='MANAGED', isTemporary=False)]"
      ]
     },
     "execution_count": 49,
     "metadata": {},
     "output_type": "execute_result"
    }
   ],
   "source": [
    "etl_spark.catalog.listTables()"
   ]
  },
  {
   "cell_type": "code",
   "execution_count": 50,
   "id": "1dbcc4ac",
   "metadata": {
    "execution": {
     "iopub.execute_input": "2023-03-08T16:05:35.818144Z",
     "iopub.status.busy": "2023-03-08T16:05:35.817324Z",
     "iopub.status.idle": "2023-03-08T16:05:36.222476Z",
     "shell.execute_reply": "2023-03-08T16:05:36.221403Z"
    },
    "papermill": {
     "duration": 0.432769,
     "end_time": "2023-03-08T16:05:36.225301",
     "exception": false,
     "start_time": "2023-03-08T16:05:35.792532",
     "status": "completed"
    },
    "tags": []
   },
   "outputs": [],
   "source": [
    "pyriteSDF.coalesce(1).write.csv(path='/kaggle/working/pyrite_csv',\n",
    "                               sep='|',header=True,\n",
    "                               mode='overwrite')"
   ]
  },
  {
   "cell_type": "code",
   "execution_count": 51,
   "id": "6a80a050",
   "metadata": {
    "execution": {
     "iopub.execute_input": "2023-03-08T16:05:36.272338Z",
     "iopub.status.busy": "2023-03-08T16:05:36.271930Z",
     "iopub.status.idle": "2023-03-08T16:05:37.398039Z",
     "shell.execute_reply": "2023-03-08T16:05:37.396687Z"
    },
    "papermill": {
     "duration": 1.153226,
     "end_time": "2023-03-08T16:05:37.401238",
     "exception": false,
     "start_time": "2023-03-08T16:05:36.248012",
     "status": "completed"
    },
    "tags": []
   },
   "outputs": [
    {
     "name": "stdout",
     "output_type": "stream",
     "text": [
      "_SUCCESS  part-00000-8aea17aa-2138-49c4-8cde-b053b0231ffd-c000.csv\r\n"
     ]
    }
   ],
   "source": [
    "!ls /kaggle/working/pyrite_csv/"
   ]
  },
  {
   "cell_type": "code",
   "execution_count": 52,
   "id": "3f1e4352",
   "metadata": {
    "execution": {
     "iopub.execute_input": "2023-03-08T16:05:37.449908Z",
     "iopub.status.busy": "2023-03-08T16:05:37.448522Z",
     "iopub.status.idle": "2023-03-08T16:05:38.548392Z",
     "shell.execute_reply": "2023-03-08T16:05:38.546762Z"
    },
    "papermill": {
     "duration": 1.127192,
     "end_time": "2023-03-08T16:05:38.551215",
     "exception": false,
     "start_time": "2023-03-08T16:05:37.424023",
     "status": "completed"
    },
    "tags": []
   },
   "outputs": [
    {
     "name": "stdout",
     "output_type": "stream",
     "text": [
      "cat: /kaggle/working/pyrite_csv/part-00000-fbd2b9b0-c6f1-4d69-80c9-7a0497eab97b-c000.csv: No such file or directory\r\n"
     ]
    }
   ],
   "source": [
    "!cat /kaggle/working/pyrite_csv/part-00000-fbd2b9b0-c6f1-4d69-80c9-7a0497eab97b-c000.csv"
   ]
  }
 ],
 "metadata": {
  "kernelspec": {
   "display_name": "Python 3",
   "language": "python",
   "name": "python3"
  },
  "language_info": {
   "codemirror_mode": {
    "name": "ipython",
    "version": 3
   },
   "file_extension": ".py",
   "mimetype": "text/x-python",
   "name": "python",
   "nbconvert_exporter": "python",
   "pygments_lexer": "ipython3",
   "version": "3.7.12"
  },
  "papermill": {
   "default_parameters": {},
   "duration": 113.169858,
   "end_time": "2023-03-08T16:05:41.197294",
   "environment_variables": {},
   "exception": null,
   "input_path": "__notebook__.ipynb",
   "output_path": "__notebook__.ipynb",
   "parameters": {},
   "start_time": "2023-03-08T16:03:48.027436",
   "version": "2.4.0"
  }
 },
 "nbformat": 4,
 "nbformat_minor": 5
}
