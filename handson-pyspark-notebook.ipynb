{
 "cells": [
  {
   "cell_type": "code",
   "execution_count": 1,
   "id": "3afa24a1",
   "metadata": {
    "execution": {
     "iopub.execute_input": "2023-03-08T16:09:25.177943Z",
     "iopub.status.busy": "2023-03-08T16:09:25.177047Z",
     "iopub.status.idle": "2023-03-08T16:10:11.667343Z",
     "shell.execute_reply": "2023-03-08T16:10:11.666354Z"
    },
    "papermill": {
     "duration": 46.508948,
     "end_time": "2023-03-08T16:10:11.670415",
     "exception": false,
     "start_time": "2023-03-08T16:09:25.161467",
     "status": "completed"
    },
    "tags": []
   },
   "outputs": [
    {
     "name": "stdout",
     "output_type": "stream",
     "text": [
      "Collecting pyspark\r\n",
      "  Downloading pyspark-3.3.2.tar.gz (281.4 MB)\r\n",
      "\u001b[2K     \u001b[90m━━━━━━━━━━━━━━━━━━━━━━━━━━━━━━━━━━━━━━━\u001b[0m \u001b[32m281.4/281.4 MB\u001b[0m \u001b[31m4.0 MB/s\u001b[0m eta \u001b[36m0:00:00\u001b[0m\r\n",
      "\u001b[?25h  Preparing metadata (setup.py) ... \u001b[?25l-\b \bdone\r\n",
      "\u001b[?25hCollecting py4j==0.10.9.5\r\n",
      "  Downloading py4j-0.10.9.5-py2.py3-none-any.whl (199 kB)\r\n",
      "\u001b[2K     \u001b[90m━━━━━━━━━━━━━━━━━━━━━━━━━━━━━━━━━━━━━━\u001b[0m \u001b[32m199.7/199.7 kB\u001b[0m \u001b[31m16.7 MB/s\u001b[0m eta \u001b[36m0:00:00\u001b[0m\r\n",
      "\u001b[?25hBuilding wheels for collected packages: pyspark\r\n",
      "  Building wheel for pyspark (setup.py) ... \u001b[?25l-\b \b\\\b \b|\b \b/\b \b-\b \b\\\b \b|\b \b/\b \b-\b \b\\\b \b|\b \bdone\r\n",
      "\u001b[?25h  Created wheel for pyspark: filename=pyspark-3.3.2-py2.py3-none-any.whl size=281824025 sha256=eb1d657c4740bb1774f4e6ee3d82957c5d72f75aa530c1f6f685a65753c7df7c\r\n",
      "  Stored in directory: /root/.cache/pip/wheels/5a/54/9b/a89cac960efb57c4c35d41cc7c9f7b80daa21108bc376339b7\r\n",
      "Successfully built pyspark\r\n",
      "Installing collected packages: py4j, pyspark\r\n",
      "  Attempting uninstall: py4j\r\n",
      "    Found existing installation: py4j 0.10.9.7\r\n",
      "    Uninstalling py4j-0.10.9.7:\r\n",
      "      Successfully uninstalled py4j-0.10.9.7\r\n",
      "Successfully installed py4j-0.10.9.5 pyspark-3.3.2\r\n",
      "\u001b[33mWARNING: Running pip as the 'root' user can result in broken permissions and conflicting behaviour with the system package manager. It is recommended to use a virtual environment instead: https://pip.pypa.io/warnings/venv\u001b[0m\u001b[33m\r\n",
      "\u001b[0m"
     ]
    }
   ],
   "source": [
    "!pip install pyspark"
   ]
  },
  {
   "cell_type": "code",
   "execution_count": 2,
   "id": "715d9e39",
   "metadata": {
    "_cell_guid": "b1076dfc-b9ad-4769-8c92-a6c4dae69d19",
    "_uuid": "8f2839f25d086af736a60e9eeb907d3b93b6e0e5",
    "execution": {
     "iopub.execute_input": "2023-03-08T16:10:11.711952Z",
     "iopub.status.busy": "2023-03-08T16:10:11.711516Z",
     "iopub.status.idle": "2023-03-08T16:10:11.771575Z",
     "shell.execute_reply": "2023-03-08T16:10:11.770417Z"
    },
    "papermill": {
     "duration": 0.085092,
     "end_time": "2023-03-08T16:10:11.774614",
     "exception": false,
     "start_time": "2023-03-08T16:10:11.689522",
     "status": "completed"
    },
    "tags": []
   },
   "outputs": [],
   "source": [
    "import numpy as np # linear algebra\n",
    "import pandas as pd # data processing, CSV file I/O (e.g. pd.read_csv)\n",
    "import requests, json\n",
    "\n",
    "from pyspark.sql import SparkSession"
   ]
  },
  {
   "cell_type": "markdown",
   "id": "975a003f",
   "metadata": {
    "papermill": {
     "duration": 0.01847,
     "end_time": "2023-03-08T16:10:11.811890",
     "exception": false,
     "start_time": "2023-03-08T16:10:11.793420",
     "status": "completed"
    },
    "tags": []
   },
   "source": [
    "- We will start by going through the basics of Spark Sessions \n",
    "\n",
    "- Create simple Dataframes\n",
    "\n",
    "- Understand how Spark Metastore works \n",
    "\n",
    "- Then bring in the data from the model API end point https://pyrite-ethereal-soccer.glitch.me/docs\n",
    "\n",
    "- Then learn to do Transformation and loading into files and other locations"
   ]
  },
  {
   "cell_type": "code",
   "execution_count": 3,
   "id": "cd828218",
   "metadata": {
    "execution": {
     "iopub.execute_input": "2023-03-08T16:10:11.851676Z",
     "iopub.status.busy": "2023-03-08T16:10:11.851240Z",
     "iopub.status.idle": "2023-03-08T16:10:17.356343Z",
     "shell.execute_reply": "2023-03-08T16:10:17.354873Z"
    },
    "papermill": {
     "duration": 5.530124,
     "end_time": "2023-03-08T16:10:17.360764",
     "exception": false,
     "start_time": "2023-03-08T16:10:11.830640",
     "status": "completed"
    },
    "tags": []
   },
   "outputs": [
    {
     "name": "stderr",
     "output_type": "stream",
     "text": [
      "Setting default log level to \"WARN\".\n",
      "To adjust logging level use sc.setLogLevel(newLevel). For SparkR, use setLogLevel(newLevel).\n"
     ]
    },
    {
     "name": "stdout",
     "output_type": "stream",
     "text": [
      "23/03/08 16:10:15 WARN NativeCodeLoader: Unable to load native-hadoop library for your platform... using builtin-java classes where applicable\n"
     ]
    }
   ],
   "source": [
    "spark = SparkSession. \\\n",
    "    builder. \\\n",
    "    appName('SparkOnKaggle'). \\\n",
    "    getOrCreate()"
   ]
  },
  {
   "cell_type": "code",
   "execution_count": 4,
   "id": "ea9653bb",
   "metadata": {
    "execution": {
     "iopub.execute_input": "2023-03-08T16:10:17.401277Z",
     "iopub.status.busy": "2023-03-08T16:10:17.400842Z",
     "iopub.status.idle": "2023-03-08T16:10:18.477510Z",
     "shell.execute_reply": "2023-03-08T16:10:18.476566Z"
    },
    "papermill": {
     "duration": 1.100139,
     "end_time": "2023-03-08T16:10:18.480210",
     "exception": false,
     "start_time": "2023-03-08T16:10:17.380071",
     "status": "completed"
    },
    "tags": []
   },
   "outputs": [
    {
     "data": {
      "text/html": [
       "\n",
       "            <div>\n",
       "                <p><b>SparkSession - in-memory</b></p>\n",
       "                \n",
       "        <div>\n",
       "            <p><b>SparkContext</b></p>\n",
       "\n",
       "            <p><a href=\"http://38316d51676e:4040\">Spark UI</a></p>\n",
       "\n",
       "            <dl>\n",
       "              <dt>Version</dt>\n",
       "                <dd><code>v3.3.2</code></dd>\n",
       "              <dt>Master</dt>\n",
       "                <dd><code>local[*]</code></dd>\n",
       "              <dt>AppName</dt>\n",
       "                <dd><code>SparkOnKaggle</code></dd>\n",
       "            </dl>\n",
       "        </div>\n",
       "        \n",
       "            </div>\n",
       "        "
      ],
      "text/plain": [
       "<pyspark.sql.session.SparkSession at 0x7f3e718c5dd0>"
      ]
     },
     "execution_count": 4,
     "metadata": {},
     "output_type": "execute_result"
    }
   ],
   "source": [
    "spark"
   ]
  },
  {
   "cell_type": "code",
   "execution_count": 5,
   "id": "f8834fdd",
   "metadata": {
    "execution": {
     "iopub.execute_input": "2023-03-08T16:10:18.521039Z",
     "iopub.status.busy": "2023-03-08T16:10:18.520664Z",
     "iopub.status.idle": "2023-03-08T16:10:18.527379Z",
     "shell.execute_reply": "2023-03-08T16:10:18.526189Z"
    },
    "papermill": {
     "duration": 0.030265,
     "end_time": "2023-03-08T16:10:18.529775",
     "exception": false,
     "start_time": "2023-03-08T16:10:18.499510",
     "status": "completed"
    },
    "tags": []
   },
   "outputs": [],
   "source": [
    "#Creating spark objects from regular python objects\n",
    "\n",
    "attendants = [(1, \"Smith\", \"Deo\", 1086.0, \"Linea\"),\n",
    "             (2, \"Kenry\", \"Jord\", 1950.0, \"Iran\"),\n",
    "             (3, \"Kick\", \"Boxer\", 7550.0, \"Kingome\"),\n",
    "             (4, \"Gill\", \"Nome\", 1500.0, \"New Wold\"),\n",
    "              (5, \"Nill\", \"While\", 6500.0, \"New Wold\"),\n",
    "              (6, \"Will\", \"Lobe\", 18900.0, \"Oreleans\")\n",
    "            ]"
   ]
  },
  {
   "cell_type": "code",
   "execution_count": 6,
   "id": "654f713b",
   "metadata": {
    "execution": {
     "iopub.execute_input": "2023-03-08T16:10:18.571047Z",
     "iopub.status.busy": "2023-03-08T16:10:18.570043Z",
     "iopub.status.idle": "2023-03-08T16:10:23.985561Z",
     "shell.execute_reply": "2023-03-08T16:10:23.984243Z"
    },
    "papermill": {
     "duration": 5.440513,
     "end_time": "2023-03-08T16:10:23.989475",
     "exception": false,
     "start_time": "2023-03-08T16:10:18.548962",
     "status": "completed"
    },
    "tags": []
   },
   "outputs": [
    {
     "name": "stderr",
     "output_type": "stream",
     "text": [
      "                                                                                \r"
     ]
    },
    {
     "name": "stdout",
     "output_type": "stream",
     "text": [
      "+------------+------+------+-------+-----------+\n",
      "|attendant_id|f_name|l_name| salary|Nationality|\n",
      "+------------+------+------+-------+-----------+\n",
      "|           1| Smith|   Deo| 1086.0|      Linea|\n",
      "|           2| Kenry|  Jord| 1950.0|       Iran|\n",
      "|           3|  Kick| Boxer| 7550.0|    Kingome|\n",
      "|           4|  Gill|  Nome| 1500.0|   New Wold|\n",
      "|           5|  Nill| While| 6500.0|   New Wold|\n",
      "|           6|  Will|  Lobe|18900.0|   Oreleans|\n",
      "+------------+------+------+-------+-----------+\n",
      "\n"
     ]
    }
   ],
   "source": [
    "attendantSDF = spark.createDataFrame(attendants, schema=\"\"\"attendant_id INT, f_name STRING,\n",
    "                                     l_name STRING, salary FLOAT, Nationality STRING\"\"\")\n",
    "attendantSDF.show()"
   ]
  },
  {
   "cell_type": "code",
   "execution_count": 7,
   "id": "3cbbcaf3",
   "metadata": {
    "execution": {
     "iopub.execute_input": "2023-03-08T16:10:24.051352Z",
     "iopub.status.busy": "2023-03-08T16:10:24.050806Z",
     "iopub.status.idle": "2023-03-08T16:10:24.280572Z",
     "shell.execute_reply": "2023-03-08T16:10:24.279482Z"
    },
    "papermill": {
     "duration": 0.263611,
     "end_time": "2023-03-08T16:10:24.283794",
     "exception": false,
     "start_time": "2023-03-08T16:10:24.020183",
     "status": "completed"
    },
    "tags": []
   },
   "outputs": [
    {
     "data": {
      "text/plain": [
       "[Row(attendant_id=1, f_name='Smith', l_name='Deo', salary=1086.0, Nationality='Linea'),\n",
       " Row(attendant_id=2, f_name='Kenry', l_name='Jord', salary=1950.0, Nationality='Iran'),\n",
       " Row(attendant_id=3, f_name='Kick', l_name='Boxer', salary=7550.0, Nationality='Kingome'),\n",
       " Row(attendant_id=4, f_name='Gill', l_name='Nome', salary=1500.0, Nationality='New Wold'),\n",
       " Row(attendant_id=5, f_name='Nill', l_name='While', salary=6500.0, Nationality='New Wold'),\n",
       " Row(attendant_id=6, f_name='Will', l_name='Lobe', salary=18900.0, Nationality='Oreleans')]"
      ]
     },
     "execution_count": 7,
     "metadata": {},
     "output_type": "execute_result"
    }
   ],
   "source": [
    "attendantSDF.collect()"
   ]
  },
  {
   "cell_type": "code",
   "execution_count": 8,
   "id": "89746060",
   "metadata": {
    "execution": {
     "iopub.execute_input": "2023-03-08T16:10:24.330309Z",
     "iopub.status.busy": "2023-03-08T16:10:24.329811Z",
     "iopub.status.idle": "2023-03-08T16:10:24.336898Z",
     "shell.execute_reply": "2023-03-08T16:10:24.335106Z"
    },
    "papermill": {
     "duration": 0.032118,
     "end_time": "2023-03-08T16:10:24.340669",
     "exception": false,
     "start_time": "2023-03-08T16:10:24.308551",
     "status": "completed"
    },
    "tags": []
   },
   "outputs": [],
   "source": [
    "from pyspark.sql.functions import *"
   ]
  },
  {
   "cell_type": "code",
   "execution_count": 9,
   "id": "1161aba0",
   "metadata": {
    "execution": {
     "iopub.execute_input": "2023-03-08T16:10:24.400180Z",
     "iopub.status.busy": "2023-03-08T16:10:24.399422Z",
     "iopub.status.idle": "2023-03-08T16:10:24.827731Z",
     "shell.execute_reply": "2023-03-08T16:10:24.826836Z"
    },
    "papermill": {
     "duration": 0.45888,
     "end_time": "2023-03-08T16:10:24.831550",
     "exception": false,
     "start_time": "2023-03-08T16:10:24.372670",
     "status": "completed"
    },
    "tags": []
   },
   "outputs": [
    {
     "name": "stdout",
     "output_type": "stream",
     "text": [
      "+------+------+---------+\n",
      "|f_name|l_name|full_name|\n",
      "+------+------+---------+\n",
      "| Smith|   Deo| DeoSmith|\n",
      "| Kenry|  Jord|JordKenry|\n",
      "|  Kick| Boxer|BoxerKick|\n",
      "|  Gill|  Nome| NomeGill|\n",
      "|  Nill| While|WhileNill|\n",
      "|  Will|  Lobe| LobeWill|\n",
      "+------+------+---------+\n",
      "\n"
     ]
    }
   ],
   "source": [
    "#Three different ways to initiate transformation on the dataframes\n",
    "#select\n",
    "attendantSDF.select(\"f_name\",\"l_name\",concat('l_name','f_name').alias('full_name')).show()"
   ]
  },
  {
   "cell_type": "code",
   "execution_count": 10,
   "id": "99d4eb8b",
   "metadata": {
    "execution": {
     "iopub.execute_input": "2023-03-08T16:10:24.883826Z",
     "iopub.status.busy": "2023-03-08T16:10:24.883341Z",
     "iopub.status.idle": "2023-03-08T16:10:25.269867Z",
     "shell.execute_reply": "2023-03-08T16:10:25.268484Z"
    },
    "papermill": {
     "duration": 0.41388,
     "end_time": "2023-03-08T16:10:25.275588",
     "exception": false,
     "start_time": "2023-03-08T16:10:24.861708",
     "status": "completed"
    },
    "tags": []
   },
   "outputs": [
    {
     "name": "stdout",
     "output_type": "stream",
     "text": [
      "+------------+------+------+-------+-----------+----------------+\n",
      "|attendant_id|f_name|l_name| salary|Nationality|        new_name|\n",
      "+------------+------+------+-------+-----------+----------------+\n",
      "|           1| Smith|   Deo| 1086.0|      Linea|  Linea ** Smith|\n",
      "|           2| Kenry|  Jord| 1950.0|       Iran|   Iran ** Kenry|\n",
      "|           3|  Kick| Boxer| 7550.0|    Kingome| Kingome ** Kick|\n",
      "|           4|  Gill|  Nome| 1500.0|   New Wold|New Wold ** Gill|\n",
      "|           5|  Nill| While| 6500.0|   New Wold|New Wold ** Nill|\n",
      "|           6|  Will|  Lobe|18900.0|   Oreleans|Oreleans ** Will|\n",
      "+------------+------+------+-------+-----------+----------------+\n",
      "\n"
     ]
    }
   ],
   "source": [
    "#Using withColumn method\n",
    "attendantSDF.withColumn('new_name',concat('Nationality',lit(' ** '),'f_name')).show()"
   ]
  },
  {
   "cell_type": "code",
   "execution_count": 11,
   "id": "88cb1cb9",
   "metadata": {
    "execution": {
     "iopub.execute_input": "2023-03-08T16:10:25.339296Z",
     "iopub.status.busy": "2023-03-08T16:10:25.338852Z",
     "iopub.status.idle": "2023-03-08T16:10:25.804794Z",
     "shell.execute_reply": "2023-03-08T16:10:25.802536Z"
    },
    "papermill": {
     "duration": 0.499292,
     "end_time": "2023-03-08T16:10:25.810299",
     "exception": false,
     "start_time": "2023-03-08T16:10:25.311007",
     "status": "completed"
    },
    "tags": []
   },
   "outputs": [
    {
     "name": "stdout",
     "output_type": "stream",
     "text": [
      "+----------+---------+\n",
      "|new_salary| new_name|\n",
      "+----------+---------+\n",
      "|    2172.0| SmithDeo|\n",
      "|    3900.0|KenryJord|\n",
      "|   15100.0|KickBoxer|\n",
      "|    3000.0| GillNome|\n",
      "|   13000.0|NillWhile|\n",
      "|   37800.0| WillLobe|\n",
      "+----------+---------+\n",
      "\n"
     ]
    }
   ],
   "source": [
    "#Using withColumn method\n",
    "attendantSDF.selectExpr(\"salary * 2 AS new_salary\", \"CONCAT(f_name,l_name) AS new_name\").show()"
   ]
  },
  {
   "cell_type": "code",
   "execution_count": 12,
   "id": "ba7e382c",
   "metadata": {
    "execution": {
     "iopub.execute_input": "2023-03-08T16:10:25.916521Z",
     "iopub.status.busy": "2023-03-08T16:10:25.915376Z",
     "iopub.status.idle": "2023-03-08T16:10:26.269512Z",
     "shell.execute_reply": "2023-03-08T16:10:26.267920Z"
    },
    "papermill": {
     "duration": 0.411306,
     "end_time": "2023-03-08T16:10:26.273101",
     "exception": false,
     "start_time": "2023-03-08T16:10:25.861795",
     "status": "completed"
    },
    "tags": []
   },
   "outputs": [
    {
     "name": "stdout",
     "output_type": "stream",
     "text": [
      "+------------+------+------+-------+\n",
      "|attendant_id|f_name|l_name| salary|\n",
      "+------------+------+------+-------+\n",
      "|           1| Smith|   Deo| 1086.0|\n",
      "|           2| Kenry|  Jord| 1950.0|\n",
      "|           3|  Kick| Boxer| 7550.0|\n",
      "|           4|  Gill|  Nome| 1500.0|\n",
      "|           5|  Nill| While| 6500.0|\n",
      "|           6|  Will|  Lobe|18900.0|\n",
      "+------------+------+------+-------+\n",
      "\n"
     ]
    }
   ],
   "source": [
    "attendantSDF.drop('Nationality').show()"
   ]
  },
  {
   "cell_type": "code",
   "execution_count": 13,
   "id": "88091ae2",
   "metadata": {
    "execution": {
     "iopub.execute_input": "2023-03-08T16:10:26.329021Z",
     "iopub.status.busy": "2023-03-08T16:10:26.328574Z",
     "iopub.status.idle": "2023-03-08T16:10:26.526754Z",
     "shell.execute_reply": "2023-03-08T16:10:26.525506Z"
    },
    "papermill": {
     "duration": 0.224401,
     "end_time": "2023-03-08T16:10:26.529628",
     "exception": false,
     "start_time": "2023-03-08T16:10:26.305227",
     "status": "completed"
    },
    "tags": []
   },
   "outputs": [
    {
     "data": {
      "text/plain": [
       "pyspark.sql.types.Row"
      ]
     },
     "execution_count": 13,
     "metadata": {},
     "output_type": "execute_result"
    }
   ],
   "source": [
    "type(attendantSDF.drop('Nationality').collect()[0])"
   ]
  },
  {
   "cell_type": "code",
   "execution_count": 14,
   "id": "6ebff9d2",
   "metadata": {
    "execution": {
     "iopub.execute_input": "2023-03-08T16:10:26.574168Z",
     "iopub.status.busy": "2023-03-08T16:10:26.573052Z",
     "iopub.status.idle": "2023-03-08T16:10:26.580787Z",
     "shell.execute_reply": "2023-03-08T16:10:26.579847Z"
    },
    "papermill": {
     "duration": 0.032255,
     "end_time": "2023-03-08T16:10:26.583205",
     "exception": false,
     "start_time": "2023-03-08T16:10:26.550950",
     "status": "completed"
    },
    "tags": []
   },
   "outputs": [
    {
     "data": {
      "text/plain": [
       "StructType([StructField('attendant_id', IntegerType(), True), StructField('f_name', StringType(), True), StructField('l_name', StringType(), True), StructField('salary', FloatType(), True), StructField('Nationality', StringType(), True)])"
      ]
     },
     "execution_count": 14,
     "metadata": {},
     "output_type": "execute_result"
    }
   ],
   "source": [
    "attendantSDF.schema"
   ]
  },
  {
   "cell_type": "code",
   "execution_count": 15,
   "id": "b06c5b25",
   "metadata": {
    "execution": {
     "iopub.execute_input": "2023-03-08T16:10:26.626825Z",
     "iopub.status.busy": "2023-03-08T16:10:26.625833Z",
     "iopub.status.idle": "2023-03-08T16:10:26.638174Z",
     "shell.execute_reply": "2023-03-08T16:10:26.636571Z"
    },
    "papermill": {
     "duration": 0.038055,
     "end_time": "2023-03-08T16:10:26.641571",
     "exception": false,
     "start_time": "2023-03-08T16:10:26.603516",
     "status": "completed"
    },
    "tags": []
   },
   "outputs": [
    {
     "name": "stdout",
     "output_type": "stream",
     "text": [
      "root\n",
      " |-- attendant_id: integer (nullable = true)\n",
      " |-- f_name: string (nullable = true)\n",
      " |-- l_name: string (nullable = true)\n",
      " |-- salary: float (nullable = true)\n",
      " |-- Nationality: string (nullable = true)\n",
      "\n"
     ]
    }
   ],
   "source": [
    "attendantSDF.printSchema()"
   ]
  },
  {
   "cell_type": "code",
   "execution_count": 16,
   "id": "3bf742ed",
   "metadata": {
    "execution": {
     "iopub.execute_input": "2023-03-08T16:10:26.704890Z",
     "iopub.status.busy": "2023-03-08T16:10:26.703455Z",
     "iopub.status.idle": "2023-03-08T16:10:28.195882Z",
     "shell.execute_reply": "2023-03-08T16:10:28.193461Z"
    },
    "papermill": {
     "duration": 1.52717,
     "end_time": "2023-03-08T16:10:28.198855",
     "exception": false,
     "start_time": "2023-03-08T16:10:26.671685",
     "status": "completed"
    },
    "tags": []
   },
   "outputs": [
    {
     "name": "stderr",
     "output_type": "stream",
     "text": [
      "                                                                                \r"
     ]
    }
   ],
   "source": [
    "attendantSDF.write.parquet(path='/kaggle/working/parquet',\n",
    "                          mode='overwrite',\n",
    "                          compression='snappy')"
   ]
  },
  {
   "cell_type": "code",
   "execution_count": 17,
   "id": "33a9134a",
   "metadata": {
    "execution": {
     "iopub.execute_input": "2023-03-08T16:10:28.241606Z",
     "iopub.status.busy": "2023-03-08T16:10:28.241127Z",
     "iopub.status.idle": "2023-03-08T16:10:29.352275Z",
     "shell.execute_reply": "2023-03-08T16:10:29.350754Z"
    },
    "papermill": {
     "duration": 1.13571,
     "end_time": "2023-03-08T16:10:29.355344",
     "exception": false,
     "start_time": "2023-03-08T16:10:28.219634",
     "status": "completed"
    },
    "tags": []
   },
   "outputs": [
    {
     "name": "stdout",
     "output_type": "stream",
     "text": [
      "_SUCCESS\r\n",
      "part-00000-cab34eaa-ca9b-4c64-a5cf-f8f39a25f885-c000.snappy.parquet\r\n",
      "part-00001-cab34eaa-ca9b-4c64-a5cf-f8f39a25f885-c000.snappy.parquet\r\n",
      "part-00002-cab34eaa-ca9b-4c64-a5cf-f8f39a25f885-c000.snappy.parquet\r\n",
      "part-00003-cab34eaa-ca9b-4c64-a5cf-f8f39a25f885-c000.snappy.parquet\r\n"
     ]
    }
   ],
   "source": [
    "!ls /kaggle/working/parquet/"
   ]
  },
  {
   "cell_type": "code",
   "execution_count": 18,
   "id": "1675516b",
   "metadata": {
    "execution": {
     "iopub.execute_input": "2023-03-08T16:10:29.398356Z",
     "iopub.status.busy": "2023-03-08T16:10:29.397941Z",
     "iopub.status.idle": "2023-03-08T16:10:30.157238Z",
     "shell.execute_reply": "2023-03-08T16:10:30.156003Z"
    },
    "papermill": {
     "duration": 0.785129,
     "end_time": "2023-03-08T16:10:30.160988",
     "exception": false,
     "start_time": "2023-03-08T16:10:29.375859",
     "status": "completed"
    },
    "tags": []
   },
   "outputs": [
    {
     "name": "stdout",
     "output_type": "stream",
     "text": [
      "+------------+------+------+-------+-----------+\n",
      "|attendant_id|f_name|l_name| salary|Nationality|\n",
      "+------------+------+------+-------+-----------+\n",
      "|           4|  Gill|  Nome| 1500.0|   New Wold|\n",
      "|           5|  Nill| While| 6500.0|   New Wold|\n",
      "|           6|  Will|  Lobe|18900.0|   Oreleans|\n",
      "|           2| Kenry|  Jord| 1950.0|       Iran|\n",
      "|           3|  Kick| Boxer| 7550.0|    Kingome|\n",
      "|           1| Smith|   Deo| 1086.0|      Linea|\n",
      "+------------+------+------+-------+-----------+\n",
      "\n"
     ]
    }
   ],
   "source": [
    "new_parquet_read = spark.read.parquet('/kaggle/working/parquet')\n",
    "new_parquet_read.show()"
   ]
  },
  {
   "cell_type": "code",
   "execution_count": 19,
   "id": "ad0d0b1c",
   "metadata": {
    "execution": {
     "iopub.execute_input": "2023-03-08T16:10:30.205343Z",
     "iopub.status.busy": "2023-03-08T16:10:30.204810Z",
     "iopub.status.idle": "2023-03-08T16:10:30.698873Z",
     "shell.execute_reply": "2023-03-08T16:10:30.697522Z"
    },
    "papermill": {
     "duration": 0.522851,
     "end_time": "2023-03-08T16:10:30.705016",
     "exception": false,
     "start_time": "2023-03-08T16:10:30.182165",
     "status": "completed"
    },
    "tags": []
   },
   "outputs": [],
   "source": [
    "attendantSDF.coalesce(1).write.mode('append').option(\"compression\",\"snappy\"). \\\n",
    "    option('sep','|').format('csv').save('/kaggle/working/csv/')"
   ]
  },
  {
   "cell_type": "code",
   "execution_count": 20,
   "id": "9e1cb859",
   "metadata": {
    "execution": {
     "iopub.execute_input": "2023-03-08T16:10:30.775020Z",
     "iopub.status.busy": "2023-03-08T16:10:30.774467Z",
     "iopub.status.idle": "2023-03-08T16:10:31.907774Z",
     "shell.execute_reply": "2023-03-08T16:10:31.906355Z"
    },
    "papermill": {
     "duration": 1.165079,
     "end_time": "2023-03-08T16:10:31.910685",
     "exception": false,
     "start_time": "2023-03-08T16:10:30.745606",
     "status": "completed"
    },
    "tags": []
   },
   "outputs": [
    {
     "name": "stdout",
     "output_type": "stream",
     "text": [
      "_SUCCESS  part-00000-aa5b6bbc-4730-4bd2-990f-5f6aa79fd6e3-c000.csv.snappy\r\n"
     ]
    }
   ],
   "source": [
    "!ls /kaggle/working/csv/"
   ]
  },
  {
   "cell_type": "code",
   "execution_count": 21,
   "id": "96c342a0",
   "metadata": {
    "execution": {
     "iopub.execute_input": "2023-03-08T16:10:31.955148Z",
     "iopub.status.busy": "2023-03-08T16:10:31.954602Z",
     "iopub.status.idle": "2023-03-08T16:10:32.315908Z",
     "shell.execute_reply": "2023-03-08T16:10:32.314918Z"
    },
    "papermill": {
     "duration": 0.386886,
     "end_time": "2023-03-08T16:10:32.318687",
     "exception": false,
     "start_time": "2023-03-08T16:10:31.931801",
     "status": "completed"
    },
    "tags": []
   },
   "outputs": [],
   "source": [
    "attendantSDF.coalesce(1).write.mode('overwrite').option(\"compression\",\"gzip\"). \\\n",
    "    option('sep','|').format('csv').save('/kaggle/working/csv_gzip/')"
   ]
  },
  {
   "cell_type": "code",
   "execution_count": 22,
   "id": "384be6b7",
   "metadata": {
    "execution": {
     "iopub.execute_input": "2023-03-08T16:10:32.376619Z",
     "iopub.status.busy": "2023-03-08T16:10:32.376017Z",
     "iopub.status.idle": "2023-03-08T16:10:33.557718Z",
     "shell.execute_reply": "2023-03-08T16:10:33.556549Z"
    },
    "papermill": {
     "duration": 1.220441,
     "end_time": "2023-03-08T16:10:33.560814",
     "exception": false,
     "start_time": "2023-03-08T16:10:32.340373",
     "status": "completed"
    },
    "tags": []
   },
   "outputs": [
    {
     "name": "stdout",
     "output_type": "stream",
     "text": [
      "_SUCCESS  part-00000-1328472d-71cb-423b-be0b-ed6067d5dcb6-c000.csv.gz\r\n"
     ]
    }
   ],
   "source": [
    "!ls /kaggle/working/csv_gzip/"
   ]
  },
  {
   "cell_type": "code",
   "execution_count": 23,
   "id": "f8ff2e81",
   "metadata": {
    "execution": {
     "iopub.execute_input": "2023-03-08T16:10:33.604216Z",
     "iopub.status.busy": "2023-03-08T16:10:33.603771Z",
     "iopub.status.idle": "2023-03-08T16:10:33.609239Z",
     "shell.execute_reply": "2023-03-08T16:10:33.608402Z"
    },
    "papermill": {
     "duration": 0.030548,
     "end_time": "2023-03-08T16:10:33.611767",
     "exception": false,
     "start_time": "2023-03-08T16:10:33.581219",
     "status": "completed"
    },
    "tags": []
   },
   "outputs": [],
   "source": [
    "spark.conf.set(\"spark.sql.shuffle.partitions\",'2')"
   ]
  },
  {
   "cell_type": "code",
   "execution_count": 24,
   "id": "e2904ec4",
   "metadata": {
    "execution": {
     "iopub.execute_input": "2023-03-08T16:10:33.657120Z",
     "iopub.status.busy": "2023-03-08T16:10:33.655962Z",
     "iopub.status.idle": "2023-03-08T16:10:33.770531Z",
     "shell.execute_reply": "2023-03-08T16:10:33.769367Z"
    },
    "papermill": {
     "duration": 0.14103,
     "end_time": "2023-03-08T16:10:33.774373",
     "exception": false,
     "start_time": "2023-03-08T16:10:33.633343",
     "status": "completed"
    },
    "tags": []
   },
   "outputs": [
    {
     "data": {
      "text/plain": [
       "DataFrame[]"
      ]
     },
     "execution_count": 24,
     "metadata": {},
     "output_type": "execute_result"
    }
   ],
   "source": [
    "spark.sql(\"DROP DATABASE IF EXISTS trial_database\")\n",
    "spark.sql(\"CREATE DATABASE trial_database\")\n",
    "spark.sql(\"USE DATABASE trial_database\")"
   ]
  },
  {
   "cell_type": "code",
   "execution_count": 25,
   "id": "8e14b22d",
   "metadata": {
    "execution": {
     "iopub.execute_input": "2023-03-08T16:10:33.841385Z",
     "iopub.status.busy": "2023-03-08T16:10:33.840162Z",
     "iopub.status.idle": "2023-03-08T16:10:33.855257Z",
     "shell.execute_reply": "2023-03-08T16:10:33.854080Z"
    },
    "papermill": {
     "duration": 0.051699,
     "end_time": "2023-03-08T16:10:33.858068",
     "exception": false,
     "start_time": "2023-03-08T16:10:33.806369",
     "status": "completed"
    },
    "tags": []
   },
   "outputs": [
    {
     "data": {
      "text/plain": [
       "'trial_database'"
      ]
     },
     "execution_count": 25,
     "metadata": {},
     "output_type": "execute_result"
    }
   ],
   "source": [
    "spark.catalog.currentDatabase()"
   ]
  },
  {
   "cell_type": "code",
   "execution_count": 26,
   "id": "8f9bd793",
   "metadata": {
    "execution": {
     "iopub.execute_input": "2023-03-08T16:10:33.921779Z",
     "iopub.status.busy": "2023-03-08T16:10:33.921367Z",
     "iopub.status.idle": "2023-03-08T16:10:34.315931Z",
     "shell.execute_reply": "2023-03-08T16:10:34.315068Z"
    },
    "papermill": {
     "duration": 0.428974,
     "end_time": "2023-03-08T16:10:34.318667",
     "exception": false,
     "start_time": "2023-03-08T16:10:33.889693",
     "status": "completed"
    },
    "tags": []
   },
   "outputs": [
    {
     "data": {
      "text/plain": [
       "[Database(name='default', description='default database', locationUri='file:/kaggle/working/spark-warehouse'),\n",
       " Database(name='trial_database', description='', locationUri='file:/kaggle/working/spark-warehouse/trial_database.db')]"
      ]
     },
     "execution_count": 26,
     "metadata": {},
     "output_type": "execute_result"
    }
   ],
   "source": [
    "spark.catalog.listDatabases()"
   ]
  },
  {
   "cell_type": "code",
   "execution_count": 27,
   "id": "a2384103",
   "metadata": {
    "execution": {
     "iopub.execute_input": "2023-03-08T16:10:34.381198Z",
     "iopub.status.busy": "2023-03-08T16:10:34.379354Z",
     "iopub.status.idle": "2023-03-08T16:10:35.229268Z",
     "shell.execute_reply": "2023-03-08T16:10:35.228028Z"
    },
    "papermill": {
     "duration": 0.889628,
     "end_time": "2023-03-08T16:10:35.232766",
     "exception": false,
     "start_time": "2023-03-08T16:10:34.343138",
     "status": "completed"
    },
    "tags": []
   },
   "outputs": [],
   "source": [
    "attendantSDF.write.saveAsTable(\"attendants\", mode='overwrite',partitionBy='Nationality')"
   ]
  },
  {
   "cell_type": "code",
   "execution_count": 28,
   "id": "da7bfb5d",
   "metadata": {
    "execution": {
     "iopub.execute_input": "2023-03-08T16:10:35.300593Z",
     "iopub.status.busy": "2023-03-08T16:10:35.299728Z",
     "iopub.status.idle": "2023-03-08T16:10:35.555242Z",
     "shell.execute_reply": "2023-03-08T16:10:35.554081Z"
    },
    "papermill": {
     "duration": 0.294478,
     "end_time": "2023-03-08T16:10:35.558525",
     "exception": false,
     "start_time": "2023-03-08T16:10:35.264047",
     "status": "completed"
    },
    "tags": []
   },
   "outputs": [
    {
     "data": {
      "text/plain": [
       "[Table(name='attendants', database='trial_database', description=None, tableType='MANAGED', isTemporary=False)]"
      ]
     },
     "execution_count": 28,
     "metadata": {},
     "output_type": "execute_result"
    }
   ],
   "source": [
    "spark.catalog.listTables()"
   ]
  },
  {
   "cell_type": "code",
   "execution_count": 29,
   "id": "3b98f4ef",
   "metadata": {
    "execution": {
     "iopub.execute_input": "2023-03-08T16:10:35.623165Z",
     "iopub.status.busy": "2023-03-08T16:10:35.622173Z",
     "iopub.status.idle": "2023-03-08T16:10:35.735538Z",
     "shell.execute_reply": "2023-03-08T16:10:35.734129Z"
    },
    "papermill": {
     "duration": 0.150528,
     "end_time": "2023-03-08T16:10:35.740188",
     "exception": false,
     "start_time": "2023-03-08T16:10:35.589660",
     "status": "completed"
    },
    "tags": []
   },
   "outputs": [
    {
     "name": "stdout",
     "output_type": "stream",
     "text": [
      "+----------------------------+-----------------------------------------------------------------+-------+\n",
      "|col_name                    |data_type                                                        |comment|\n",
      "+----------------------------+-----------------------------------------------------------------+-------+\n",
      "|attendant_id                |int                                                              |null   |\n",
      "|f_name                      |string                                                           |null   |\n",
      "|l_name                      |string                                                           |null   |\n",
      "|salary                      |float                                                            |null   |\n",
      "|Nationality                 |string                                                           |null   |\n",
      "|# Partition Information     |                                                                 |       |\n",
      "|# col_name                  |data_type                                                        |comment|\n",
      "|Nationality                 |string                                                           |null   |\n",
      "|                            |                                                                 |       |\n",
      "|# Detailed Table Information|                                                                 |       |\n",
      "|Database                    |trial_database                                                   |       |\n",
      "|Table                       |attendants                                                       |       |\n",
      "|Created Time                |Wed Mar 08 16:10:34 UTC 2023                                     |       |\n",
      "|Last Access                 |UNKNOWN                                                          |       |\n",
      "|Created By                  |Spark 3.3.2                                                      |       |\n",
      "|Type                        |MANAGED                                                          |       |\n",
      "|Provider                    |parquet                                                          |       |\n",
      "|Location                    |file:/kaggle/working/spark-warehouse/trial_database.db/attendants|       |\n",
      "|Partition Provider          |Catalog                                                          |       |\n",
      "+----------------------------+-----------------------------------------------------------------+-------+\n",
      "\n"
     ]
    }
   ],
   "source": [
    "spark.sql('DESCRIBE FORMATTED attendants').show(truncate=False)"
   ]
  },
  {
   "cell_type": "code",
   "execution_count": 30,
   "id": "0295ca50",
   "metadata": {
    "execution": {
     "iopub.execute_input": "2023-03-08T16:10:35.806656Z",
     "iopub.status.busy": "2023-03-08T16:10:35.806129Z",
     "iopub.status.idle": "2023-03-08T16:10:36.349037Z",
     "shell.execute_reply": "2023-03-08T16:10:36.347925Z"
    },
    "papermill": {
     "duration": 0.579259,
     "end_time": "2023-03-08T16:10:36.351907",
     "exception": false,
     "start_time": "2023-03-08T16:10:35.772648",
     "status": "completed"
    },
    "tags": []
   },
   "outputs": [
    {
     "data": {
      "text/plain": [
       "DataFrame[1: int, Smith: string, Deo: string, 1086.0: double, Linea: string]"
      ]
     },
     "execution_count": 30,
     "metadata": {},
     "output_type": "execute_result"
    }
   ],
   "source": [
    "spark.catalog.createTable(\"attendants_new_csv\",\n",
    "                                  path='/kaggle/working/csv/', \n",
    "                                 source='csv',\n",
    "                                 sep='|',\n",
    "                                 header='true',\n",
    "                                 inferSchema='true')"
   ]
  },
  {
   "cell_type": "code",
   "execution_count": 31,
   "id": "ffa3d93a",
   "metadata": {
    "execution": {
     "iopub.execute_input": "2023-03-08T16:10:36.418300Z",
     "iopub.status.busy": "2023-03-08T16:10:36.417342Z",
     "iopub.status.idle": "2023-03-08T16:10:36.472442Z",
     "shell.execute_reply": "2023-03-08T16:10:36.471109Z"
    },
    "papermill": {
     "duration": 0.091162,
     "end_time": "2023-03-08T16:10:36.475214",
     "exception": false,
     "start_time": "2023-03-08T16:10:36.384052",
     "status": "completed"
    },
    "tags": []
   },
   "outputs": [
    {
     "name": "stdout",
     "output_type": "stream",
     "text": [
      "+----------------------------+--------------------------------------+-------+\n",
      "|col_name                    |data_type                             |comment|\n",
      "+----------------------------+--------------------------------------+-------+\n",
      "|1                           |int                                   |null   |\n",
      "|Smith                       |string                                |null   |\n",
      "|Deo                         |string                                |null   |\n",
      "|1086.0                      |double                                |null   |\n",
      "|Linea                       |string                                |null   |\n",
      "|                            |                                      |       |\n",
      "|# Detailed Table Information|                                      |       |\n",
      "|Database                    |trial_database                        |       |\n",
      "|Table                       |attendants_new_csv                    |       |\n",
      "|Created Time                |Wed Mar 08 16:10:35 UTC 2023          |       |\n",
      "|Last Access                 |UNKNOWN                               |       |\n",
      "|Created By                  |Spark 3.3.2                           |       |\n",
      "|Type                        |EXTERNAL                              |       |\n",
      "|Provider                    |csv                                   |       |\n",
      "|Location                    |file:///kaggle/working/csv            |       |\n",
      "|Storage Properties          |[header=true, inferSchema=true, sep=|]|       |\n",
      "+----------------------------+--------------------------------------+-------+\n",
      "\n"
     ]
    }
   ],
   "source": [
    "spark.sql('DESCRIBE FORMATTED attendants_new_csv').show(truncate=False)"
   ]
  },
  {
   "cell_type": "code",
   "execution_count": 32,
   "id": "df38b21c",
   "metadata": {
    "execution": {
     "iopub.execute_input": "2023-03-08T16:10:36.520980Z",
     "iopub.status.busy": "2023-03-08T16:10:36.519706Z",
     "iopub.status.idle": "2023-03-08T16:10:36.548351Z",
     "shell.execute_reply": "2023-03-08T16:10:36.547120Z"
    },
    "papermill": {
     "duration": 0.054392,
     "end_time": "2023-03-08T16:10:36.551278",
     "exception": false,
     "start_time": "2023-03-08T16:10:36.496886",
     "status": "completed"
    },
    "tags": []
   },
   "outputs": [
    {
     "data": {
      "text/plain": [
       "DataFrame[]"
      ]
     },
     "execution_count": 32,
     "metadata": {},
     "output_type": "execute_result"
    }
   ],
   "source": [
    "spark.sql(f\"DROP DATABASE IF EXISTS trial_database CASCADE\")"
   ]
  },
  {
   "cell_type": "code",
   "execution_count": 33,
   "id": "e739b358",
   "metadata": {
    "execution": {
     "iopub.execute_input": "2023-03-08T16:10:36.597580Z",
     "iopub.status.busy": "2023-03-08T16:10:36.596246Z",
     "iopub.status.idle": "2023-03-08T16:10:36.692804Z",
     "shell.execute_reply": "2023-03-08T16:10:36.691547Z"
    },
    "papermill": {
     "duration": 0.122281,
     "end_time": "2023-03-08T16:10:36.695478",
     "exception": false,
     "start_time": "2023-03-08T16:10:36.573197",
     "status": "completed"
    },
    "tags": []
   },
   "outputs": [
    {
     "data": {
      "text/plain": [
       "[Database(name='default', description='default database', locationUri='file:/kaggle/working/spark-warehouse')]"
      ]
     },
     "execution_count": 33,
     "metadata": {},
     "output_type": "execute_result"
    }
   ],
   "source": [
    "spark.catalog.listDatabases()"
   ]
  },
  {
   "cell_type": "markdown",
   "id": "e6e6af07",
   "metadata": {
    "papermill": {
     "duration": 0.021504,
     "end_time": "2023-03-08T16:10:36.738844",
     "exception": false,
     "start_time": "2023-03-08T16:10:36.717340",
     "status": "completed"
    },
    "tags": []
   },
   "source": [
    "### Starting the ETL process from an API\n",
    "\n",
    "https://pyrite-ethereal-soccer.glitch.me/docs\n",
    "\n",
    "https://hugovk.github.io/top-pypi-packages/top-pypi-packages-30-days.json"
   ]
  },
  {
   "cell_type": "code",
   "execution_count": 34,
   "id": "cb0fc404",
   "metadata": {
    "execution": {
     "iopub.execute_input": "2023-03-08T16:10:36.783939Z",
     "iopub.status.busy": "2023-03-08T16:10:36.783548Z",
     "iopub.status.idle": "2023-03-08T16:10:37.441924Z",
     "shell.execute_reply": "2023-03-08T16:10:37.440804Z"
    },
    "papermill": {
     "duration": 0.684416,
     "end_time": "2023-03-08T16:10:37.445102",
     "exception": false,
     "start_time": "2023-03-08T16:10:36.760686",
     "status": "completed"
    },
    "tags": []
   },
   "outputs": [],
   "source": [
    "url = 'https://hugovk.github.io/top-pypi-packages/top-pypi-packages-30-days.json'\n",
    "res = requests.request(method='GET',url=url)\n",
    "data_json = res.json()"
   ]
  },
  {
   "cell_type": "code",
   "execution_count": 35,
   "id": "3279c044",
   "metadata": {
    "execution": {
     "iopub.execute_input": "2023-03-08T16:10:37.491381Z",
     "iopub.status.busy": "2023-03-08T16:10:37.490378Z",
     "iopub.status.idle": "2023-03-08T16:10:37.495041Z",
     "shell.execute_reply": "2023-03-08T16:10:37.494113Z"
    },
    "papermill": {
     "duration": 0.029898,
     "end_time": "2023-03-08T16:10:37.497318",
     "exception": false,
     "start_time": "2023-03-08T16:10:37.467420",
     "status": "completed"
    },
    "tags": []
   },
   "outputs": [],
   "source": [
    "main_data = data_json['rows']"
   ]
  },
  {
   "cell_type": "code",
   "execution_count": 36,
   "id": "e33fad43",
   "metadata": {
    "execution": {
     "iopub.execute_input": "2023-03-08T16:10:37.542957Z",
     "iopub.status.busy": "2023-03-08T16:10:37.542266Z",
     "iopub.status.idle": "2023-03-08T16:10:37.991873Z",
     "shell.execute_reply": "2023-03-08T16:10:37.990338Z"
    },
    "papermill": {
     "duration": 0.475767,
     "end_time": "2023-03-08T16:10:37.994707",
     "exception": false,
     "start_time": "2023-03-08T16:10:37.518940",
     "status": "completed"
    },
    "tags": []
   },
   "outputs": [],
   "source": [
    "spark.stop()"
   ]
  },
  {
   "cell_type": "code",
   "execution_count": 37,
   "id": "ead64fc7",
   "metadata": {
    "execution": {
     "iopub.execute_input": "2023-03-08T16:10:38.040770Z",
     "iopub.status.busy": "2023-03-08T16:10:38.040314Z",
     "iopub.status.idle": "2023-03-08T16:10:38.203867Z",
     "shell.execute_reply": "2023-03-08T16:10:38.202513Z"
    },
    "papermill": {
     "duration": 0.190044,
     "end_time": "2023-03-08T16:10:38.206592",
     "exception": false,
     "start_time": "2023-03-08T16:10:38.016548",
     "status": "completed"
    },
    "tags": []
   },
   "outputs": [],
   "source": [
    "etl_spark = SparkSession. \\\n",
    "    builder. \\\n",
    "    appName('ETL_spark'). \\\n",
    "    getOrCreate()"
   ]
  },
  {
   "cell_type": "code",
   "execution_count": 38,
   "id": "503aa874",
   "metadata": {
    "execution": {
     "iopub.execute_input": "2023-03-08T16:10:38.273299Z",
     "iopub.status.busy": "2023-03-08T16:10:38.272802Z",
     "iopub.status.idle": "2023-03-08T16:10:38.293906Z",
     "shell.execute_reply": "2023-03-08T16:10:38.292586Z"
    },
    "papermill": {
     "duration": 0.058158,
     "end_time": "2023-03-08T16:10:38.297090",
     "exception": false,
     "start_time": "2023-03-08T16:10:38.238932",
     "status": "completed"
    },
    "tags": []
   },
   "outputs": [
    {
     "data": {
      "text/html": [
       "\n",
       "            <div>\n",
       "                <p><b>SparkSession - in-memory</b></p>\n",
       "                \n",
       "        <div>\n",
       "            <p><b>SparkContext</b></p>\n",
       "\n",
       "            <p><a href=\"http://38316d51676e:4040\">Spark UI</a></p>\n",
       "\n",
       "            <dl>\n",
       "              <dt>Version</dt>\n",
       "                <dd><code>v3.3.2</code></dd>\n",
       "              <dt>Master</dt>\n",
       "                <dd><code>local[*]</code></dd>\n",
       "              <dt>AppName</dt>\n",
       "                <dd><code>ETL_spark</code></dd>\n",
       "            </dl>\n",
       "        </div>\n",
       "        \n",
       "            </div>\n",
       "        "
      ],
      "text/plain": [
       "<pyspark.sql.session.SparkSession at 0x7f3e700e9110>"
      ]
     },
     "execution_count": 38,
     "metadata": {},
     "output_type": "execute_result"
    }
   ],
   "source": [
    "etl_spark"
   ]
  },
  {
   "cell_type": "code",
   "execution_count": 39,
   "id": "ab2858d7",
   "metadata": {
    "execution": {
     "iopub.execute_input": "2023-03-08T16:10:38.356921Z",
     "iopub.status.busy": "2023-03-08T16:10:38.356524Z",
     "iopub.status.idle": "2023-03-08T16:10:38.534831Z",
     "shell.execute_reply": "2023-03-08T16:10:38.533713Z"
    },
    "papermill": {
     "duration": 0.206678,
     "end_time": "2023-03-08T16:10:38.537568",
     "exception": false,
     "start_time": "2023-03-08T16:10:38.330890",
     "status": "completed"
    },
    "tags": []
   },
   "outputs": [],
   "source": [
    "api_datadf = etl_spark.createDataFrame(data=main_data)"
   ]
  },
  {
   "cell_type": "code",
   "execution_count": 40,
   "id": "643a60cf",
   "metadata": {
    "execution": {
     "iopub.execute_input": "2023-03-08T16:10:38.583440Z",
     "iopub.status.busy": "2023-03-08T16:10:38.582320Z",
     "iopub.status.idle": "2023-03-08T16:10:38.589730Z",
     "shell.execute_reply": "2023-03-08T16:10:38.588677Z"
    },
    "papermill": {
     "duration": 0.032883,
     "end_time": "2023-03-08T16:10:38.591986",
     "exception": false,
     "start_time": "2023-03-08T16:10:38.559103",
     "status": "completed"
    },
    "tags": []
   },
   "outputs": [
    {
     "data": {
      "text/plain": [
       "StructType([StructField('download_count', LongType(), True), StructField('project', StringType(), True)])"
      ]
     },
     "execution_count": 40,
     "metadata": {},
     "output_type": "execute_result"
    }
   ],
   "source": [
    "api_datadf.schema"
   ]
  },
  {
   "cell_type": "code",
   "execution_count": 41,
   "id": "763fe3ac",
   "metadata": {
    "execution": {
     "iopub.execute_input": "2023-03-08T16:10:38.639136Z",
     "iopub.status.busy": "2023-03-08T16:10:38.638725Z",
     "iopub.status.idle": "2023-03-08T16:10:38.644709Z",
     "shell.execute_reply": "2023-03-08T16:10:38.643737Z"
    },
    "papermill": {
     "duration": 0.033801,
     "end_time": "2023-03-08T16:10:38.647613",
     "exception": false,
     "start_time": "2023-03-08T16:10:38.613812",
     "status": "completed"
    },
    "tags": []
   },
   "outputs": [
    {
     "name": "stdout",
     "output_type": "stream",
     "text": [
      "root\n",
      " |-- download_count: long (nullable = true)\n",
      " |-- project: string (nullable = true)\n",
      "\n"
     ]
    }
   ],
   "source": [
    "api_datadf.printSchema()"
   ]
  },
  {
   "cell_type": "code",
   "execution_count": 42,
   "id": "60efbb7b",
   "metadata": {
    "execution": {
     "iopub.execute_input": "2023-03-08T16:10:38.693977Z",
     "iopub.status.busy": "2023-03-08T16:10:38.693260Z",
     "iopub.status.idle": "2023-03-08T16:10:39.921654Z",
     "shell.execute_reply": "2023-03-08T16:10:39.920349Z"
    },
    "papermill": {
     "duration": 1.254632,
     "end_time": "2023-03-08T16:10:39.924169",
     "exception": false,
     "start_time": "2023-03-08T16:10:38.669537",
     "status": "completed"
    },
    "tags": []
   },
   "outputs": [
    {
     "data": {
      "text/plain": [
       "[{'ID': '0x2318',\n",
       "  'Delivery_person_ID': 'COIMBRES13DEL01',\n",
       "  'Type_of_Vehicle': 'electric_scooter',\n",
       "  'DeliveryPersonAge': 29.5,\n",
       "  'DeliveryPersonRatings': 4.6,\n",
       "  'TypeOfVehicle': 2.0,\n",
       "  'DeliveryPersonID': 2.0},\n",
       " {'ID': '0x3474',\n",
       "  'Delivery_person_ID': 'BANGRES15DEL01',\n",
       "  'Type_of_Vehicle': 'motorcycle',\n",
       "  'DeliveryPersonAge': 28.0,\n",
       "  'DeliveryPersonRatings': 4.6,\n",
       "  'TypeOfVehicle': 0.0,\n",
       "  'DeliveryPersonID': 266.0}]"
      ]
     },
     "execution_count": 42,
     "metadata": {},
     "output_type": "execute_result"
    }
   ],
   "source": [
    "# A bit more involved api.. using the pyrite api\n",
    "pyriteurl = \"https://pyrite-ethereal-soccer.glitch.me/biker/v1/deliveryd\"\n",
    "pyriteRes = requests.request(method='GET',url=pyriteurl)\n",
    "pyriteData = pyriteRes.json()\n",
    "pyriteData"
   ]
  },
  {
   "cell_type": "code",
   "execution_count": 43,
   "id": "2e184be7",
   "metadata": {
    "execution": {
     "iopub.execute_input": "2023-03-08T16:10:39.972385Z",
     "iopub.status.busy": "2023-03-08T16:10:39.971951Z",
     "iopub.status.idle": "2023-03-08T16:10:40.901125Z",
     "shell.execute_reply": "2023-03-08T16:10:40.899107Z"
    },
    "papermill": {
     "duration": 0.957447,
     "end_time": "2023-03-08T16:10:40.904223",
     "exception": false,
     "start_time": "2023-03-08T16:10:39.946776",
     "status": "completed"
    },
    "tags": []
   },
   "outputs": [
    {
     "name": "stderr",
     "output_type": "stream",
     "text": [
      "                                                                                \r"
     ]
    },
    {
     "name": "stdout",
     "output_type": "stream",
     "text": [
      "+-----------------+----------------+---------------------+------------------+------+-------------+----------------+\n",
      "|DeliveryPersonAge|DeliveryPersonID|DeliveryPersonRatings|Delivery_person_ID|    ID|TypeOfVehicle| Type_of_Vehicle|\n",
      "+-----------------+----------------+---------------------+------------------+------+-------------+----------------+\n",
      "|             29.5|             2.0|                  4.6|   COIMBRES13DEL01|0x2318|          2.0|electric_scooter|\n",
      "|             28.0|           266.0|                  4.6|    BANGRES15DEL01|0x3474|          0.0|      motorcycle|\n",
      "+-----------------+----------------+---------------------+------------------+------+-------------+----------------+\n",
      "\n"
     ]
    }
   ],
   "source": [
    "pyriteSDF = etl_spark.createDataFrame(data = pyriteData)\n",
    "pyriteSDF.show()"
   ]
  },
  {
   "cell_type": "code",
   "execution_count": 44,
   "id": "15277114",
   "metadata": {
    "execution": {
     "iopub.execute_input": "2023-03-08T16:10:40.975506Z",
     "iopub.status.busy": "2023-03-08T16:10:40.974606Z",
     "iopub.status.idle": "2023-03-08T16:10:40.982127Z",
     "shell.execute_reply": "2023-03-08T16:10:40.980960Z"
    },
    "papermill": {
     "duration": 0.049101,
     "end_time": "2023-03-08T16:10:40.987750",
     "exception": false,
     "start_time": "2023-03-08T16:10:40.938649",
     "status": "completed"
    },
    "tags": []
   },
   "outputs": [
    {
     "name": "stdout",
     "output_type": "stream",
     "text": [
      "root\n",
      " |-- DeliveryPersonAge: double (nullable = true)\n",
      " |-- DeliveryPersonID: double (nullable = true)\n",
      " |-- DeliveryPersonRatings: double (nullable = true)\n",
      " |-- Delivery_person_ID: string (nullable = true)\n",
      " |-- ID: string (nullable = true)\n",
      " |-- TypeOfVehicle: double (nullable = true)\n",
      " |-- Type_of_Vehicle: string (nullable = true)\n",
      "\n"
     ]
    }
   ],
   "source": [
    "pyriteSDF.printSchema()"
   ]
  },
  {
   "cell_type": "code",
   "execution_count": 45,
   "id": "277c2861",
   "metadata": {
    "execution": {
     "iopub.execute_input": "2023-03-08T16:10:41.057722Z",
     "iopub.status.busy": "2023-03-08T16:10:41.056643Z",
     "iopub.status.idle": "2023-03-08T16:10:41.213139Z",
     "shell.execute_reply": "2023-03-08T16:10:41.211655Z"
    },
    "papermill": {
     "duration": 0.196187,
     "end_time": "2023-03-08T16:10:41.217730",
     "exception": false,
     "start_time": "2023-03-08T16:10:41.021543",
     "status": "completed"
    },
    "tags": []
   },
   "outputs": [
    {
     "data": {
      "text/plain": [
       "[Database(name='api_database', description='', locationUri='file:/kaggle/working/spark-warehouse/api_database.db'),\n",
       " Database(name='default', description='default database', locationUri='file:/kaggle/working/spark-warehouse')]"
      ]
     },
     "execution_count": 45,
     "metadata": {},
     "output_type": "execute_result"
    }
   ],
   "source": [
    "#Writing the data to spark catalog\n",
    "etl_spark.sql(\"CREATE DATABASE IF NOT EXISTS api_database\")\n",
    "etl_spark.sql(\"USE DATABASE api_database\")\n",
    "etl_spark.catalog.listDatabases()"
   ]
  },
  {
   "cell_type": "code",
   "execution_count": 46,
   "id": "21d3346a",
   "metadata": {
    "execution": {
     "iopub.execute_input": "2023-03-08T16:10:41.343278Z",
     "iopub.status.busy": "2023-03-08T16:10:41.341860Z",
     "iopub.status.idle": "2023-03-08T16:10:42.034271Z",
     "shell.execute_reply": "2023-03-08T16:10:42.032623Z"
    },
    "papermill": {
     "duration": 0.760346,
     "end_time": "2023-03-08T16:10:42.038786",
     "exception": false,
     "start_time": "2023-03-08T16:10:41.278440",
     "status": "completed"
    },
    "tags": []
   },
   "outputs": [
    {
     "name": "stdout",
     "output_type": "stream",
     "text": [
      "+-----------------+----------------+---------------------+------------------+------+-------------+----------------+\n",
      "|DeliveryPersonAge|DeliveryPersonID|DeliveryPersonRatings|Delivery_person_ID|ID    |TypeOfVehicle|Type_of_Vehicle |\n",
      "+-----------------+----------------+---------------------+------------------+------+-------------+----------------+\n",
      "|29.5             |2.0             |4.6                  |COIMBRES13DEL01   |0x2318|2.0          |electric_scooter|\n",
      "|28.0             |266.0           |4.6                  |BANGRES15DEL01    |0x3474|0.0          |motorcycle      |\n",
      "+-----------------+----------------+---------------------+------------------+------+-------------+----------------+\n",
      "\n"
     ]
    }
   ],
   "source": [
    "pyriteSDF.write.saveAsTable(\"pyrite_table\")\n",
    "etl_spark.sql(\"SELECT * FROM pyrite_table\").show(truncate=False)"
   ]
  },
  {
   "cell_type": "code",
   "execution_count": 47,
   "id": "d9c53d6c",
   "metadata": {
    "execution": {
     "iopub.execute_input": "2023-03-08T16:10:42.109963Z",
     "iopub.status.busy": "2023-03-08T16:10:42.109479Z",
     "iopub.status.idle": "2023-03-08T16:10:42.269210Z",
     "shell.execute_reply": "2023-03-08T16:10:42.267815Z"
    },
    "papermill": {
     "duration": 0.198073,
     "end_time": "2023-03-08T16:10:42.272737",
     "exception": false,
     "start_time": "2023-03-08T16:10:42.074664",
     "status": "completed"
    },
    "tags": []
   },
   "outputs": [
    {
     "name": "stdout",
     "output_type": "stream",
     "text": [
      "+------------+------------+-----------+\n",
      "|   namespace|   tableName|isTemporary|\n",
      "+------------+------------+-----------+\n",
      "|api_database|pyrite_table|      false|\n",
      "+------------+------------+-----------+\n",
      "\n"
     ]
    }
   ],
   "source": [
    "etl_spark.sql(\"SHOW TABLES\").show()"
   ]
  },
  {
   "cell_type": "code",
   "execution_count": 48,
   "id": "3032db29",
   "metadata": {
    "execution": {
     "iopub.execute_input": "2023-03-08T16:10:42.320548Z",
     "iopub.status.busy": "2023-03-08T16:10:42.320149Z",
     "iopub.status.idle": "2023-03-08T16:10:42.380508Z",
     "shell.execute_reply": "2023-03-08T16:10:42.379304Z"
    },
    "papermill": {
     "duration": 0.088028,
     "end_time": "2023-03-08T16:10:42.384299",
     "exception": false,
     "start_time": "2023-03-08T16:10:42.296271",
     "status": "completed"
    },
    "tags": []
   },
   "outputs": [
    {
     "name": "stdout",
     "output_type": "stream",
     "text": [
      "+---------+--------+-----------+\n",
      "|namespace|viewName|isTemporary|\n",
      "+---------+--------+-----------+\n",
      "+---------+--------+-----------+\n",
      "\n"
     ]
    }
   ],
   "source": [
    "etl_spark.sql(\"SHOW VIEWS\").show()"
   ]
  },
  {
   "cell_type": "code",
   "execution_count": 49,
   "id": "b1a1fd66",
   "metadata": {
    "execution": {
     "iopub.execute_input": "2023-03-08T16:10:42.457145Z",
     "iopub.status.busy": "2023-03-08T16:10:42.456190Z",
     "iopub.status.idle": "2023-03-08T16:10:42.543423Z",
     "shell.execute_reply": "2023-03-08T16:10:42.542204Z"
    },
    "papermill": {
     "duration": 0.129209,
     "end_time": "2023-03-08T16:10:42.548480",
     "exception": false,
     "start_time": "2023-03-08T16:10:42.419271",
     "status": "completed"
    },
    "tags": []
   },
   "outputs": [
    {
     "name": "stdout",
     "output_type": "stream",
     "text": [
      "+------------+\n",
      "|   namespace|\n",
      "+------------+\n",
      "|api_database|\n",
      "|     default|\n",
      "+------------+\n",
      "\n"
     ]
    }
   ],
   "source": [
    "etl_spark.sql(\"SHOW DATABASES\").show()"
   ]
  },
  {
   "cell_type": "code",
   "execution_count": 50,
   "id": "e0022d17",
   "metadata": {
    "execution": {
     "iopub.execute_input": "2023-03-08T16:10:42.621363Z",
     "iopub.status.busy": "2023-03-08T16:10:42.620484Z",
     "iopub.status.idle": "2023-03-08T16:10:42.735840Z",
     "shell.execute_reply": "2023-03-08T16:10:42.734604Z"
    },
    "papermill": {
     "duration": 0.156706,
     "end_time": "2023-03-08T16:10:42.739459",
     "exception": false,
     "start_time": "2023-03-08T16:10:42.582753",
     "status": "completed"
    },
    "tags": []
   },
   "outputs": [
    {
     "data": {
      "text/plain": [
       "[Table(name='pyrite_table', database='api_database', description=None, tableType='MANAGED', isTemporary=False)]"
      ]
     },
     "execution_count": 50,
     "metadata": {},
     "output_type": "execute_result"
    }
   ],
   "source": [
    "etl_spark.catalog.listTables()"
   ]
  },
  {
   "cell_type": "code",
   "execution_count": 51,
   "id": "a18034a3",
   "metadata": {
    "execution": {
     "iopub.execute_input": "2023-03-08T16:10:42.810419Z",
     "iopub.status.busy": "2023-03-08T16:10:42.809026Z",
     "iopub.status.idle": "2023-03-08T16:10:43.154722Z",
     "shell.execute_reply": "2023-03-08T16:10:43.153493Z"
    },
    "papermill": {
     "duration": 0.383742,
     "end_time": "2023-03-08T16:10:43.157491",
     "exception": false,
     "start_time": "2023-03-08T16:10:42.773749",
     "status": "completed"
    },
    "tags": []
   },
   "outputs": [],
   "source": [
    "pyriteSDF.coalesce(1).write.csv(path='/kaggle/working/pyrite_csv',\n",
    "                               sep='|',header=True,\n",
    "                               mode='overwrite')"
   ]
  },
  {
   "cell_type": "code",
   "execution_count": 52,
   "id": "075743ab",
   "metadata": {
    "execution": {
     "iopub.execute_input": "2023-03-08T16:10:43.205006Z",
     "iopub.status.busy": "2023-03-08T16:10:43.204590Z",
     "iopub.status.idle": "2023-03-08T16:10:44.306479Z",
     "shell.execute_reply": "2023-03-08T16:10:44.304797Z"
    },
    "papermill": {
     "duration": 1.128687,
     "end_time": "2023-03-08T16:10:44.309185",
     "exception": false,
     "start_time": "2023-03-08T16:10:43.180498",
     "status": "completed"
    },
    "tags": []
   },
   "outputs": [
    {
     "name": "stdout",
     "output_type": "stream",
     "text": [
      "_SUCCESS  part-00000-19599321-ebe4-4223-b145-2594d3677d78-c000.csv\r\n"
     ]
    }
   ],
   "source": [
    "!ls /kaggle/working/pyrite_csv/"
   ]
  },
  {
   "cell_type": "code",
   "execution_count": 53,
   "id": "83574777",
   "metadata": {
    "execution": {
     "iopub.execute_input": "2023-03-08T16:10:44.367616Z",
     "iopub.status.busy": "2023-03-08T16:10:44.366428Z",
     "iopub.status.idle": "2023-03-08T16:10:45.491924Z",
     "shell.execute_reply": "2023-03-08T16:10:45.490774Z"
    },
    "papermill": {
     "duration": 1.162245,
     "end_time": "2023-03-08T16:10:45.494564",
     "exception": false,
     "start_time": "2023-03-08T16:10:44.332319",
     "status": "completed"
    },
    "tags": []
   },
   "outputs": [
    {
     "name": "stdout",
     "output_type": "stream",
     "text": [
      "cat: /kaggle/working/pyrite_csv/part-00000-fbd2b9b0-c6f1-4d69-80c9-7a0497eab97b-c000.csv: No such file or directory\r\n"
     ]
    }
   ],
   "source": [
    "!cat /kaggle/working/pyrite_csv/part-00000-fbd2b9b0-c6f1-4d69-80c9-7a0497eab97b-c000.csv"
   ]
  }
 ],
 "metadata": {
  "kernelspec": {
   "display_name": "Python 3",
   "language": "python",
   "name": "python3"
  },
  "language_info": {
   "codemirror_mode": {
    "name": "ipython",
    "version": 3
   },
   "file_extension": ".py",
   "mimetype": "text/x-python",
   "name": "python",
   "nbconvert_exporter": "python",
   "pygments_lexer": "ipython3",
   "version": "3.7.12"
  },
  "papermill": {
   "default_parameters": {},
   "duration": 92.920675,
   "end_time": "2023-03-08T16:10:48.140144",
   "environment_variables": {},
   "exception": null,
   "input_path": "__notebook__.ipynb",
   "output_path": "__notebook__.ipynb",
   "parameters": {},
   "start_time": "2023-03-08T16:09:15.219469",
   "version": "2.4.0"
  }
 },
 "nbformat": 4,
 "nbformat_minor": 5
}
