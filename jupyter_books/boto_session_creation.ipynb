{
 "cells": [
  {
   "cell_type": "markdown",
   "id": "622b2730",
   "metadata": {},
   "source": [
    "### How to create Boto3 Session"
   ]
  },
  {
   "cell_type": "markdown",
   "id": "cf20cfcd",
   "metadata": {},
   "source": [
    "#### Not required to execute if already installed\n",
    "!pip install awswrangler boto3 pandas configparser"
   ]
  },
  {
   "cell_type": "code",
   "execution_count": 1,
   "id": "dfae5969",
   "metadata": {},
   "outputs": [],
   "source": [
    "#import below libraries\n",
    "import awswrangler as wr\n",
    "import pandas as pd\n",
    "import boto3\n",
    "import warnings \n",
    "warnings.filterwarnings('ignore')\n",
    "import configparser"
   ]
  },
  {
   "cell_type": "code",
   "execution_count": 2,
   "id": "ea4583f6",
   "metadata": {},
   "outputs": [],
   "source": [
    "#reading the credentials securely.\n",
    "credents = configparser.ConfigParser()"
   ]
  },
  {
   "cell_type": "code",
   "execution_count": 3,
   "id": "6dc2cbdc",
   "metadata": {},
   "outputs": [],
   "source": [
    "#use read_file method\n",
    "credents.read_file(open('credentials.config'))"
   ]
  },
  {
   "cell_type": "code",
   "execution_count": 4,
   "id": "aae18d56",
   "metadata": {},
   "outputs": [],
   "source": [
    "#Reading in the credentials into Python variables. No can see them\n",
    "aws_key = credents[\"AWS\"][\"KEY\"]\n",
    "aws_secret = credents[\"AWS\"][\"SECRET\"]\n",
    "region = credents[\"AWS\"][\"REGION\"]"
   ]
  },
  {
   "cell_type": "code",
   "execution_count": null,
   "id": "aa406607",
   "metadata": {},
   "outputs": [],
   "source": [
    "boto3.Session()"
   ]
  },
  {
   "cell_type": "code",
   "execution_count": 5,
   "id": "f5f06721",
   "metadata": {},
   "outputs": [],
   "source": [
    "#Creating the Session\n",
    "your_session = boto3.Session(aws_access_key_id=aws_key,\n",
    "                            aws_secret_access_key=aws_secret,\n",
    "                            region_name=region)"
   ]
  },
  {
   "cell_type": "markdown",
   "id": "db0c9dad",
   "metadata": {},
   "source": [
    "### Using the wr.s3.list_buckets() to verify your session"
   ]
  },
  {
   "cell_type": "code",
   "execution_count": 6,
   "id": "a95576c0",
   "metadata": {},
   "outputs": [
    {
     "data": {
      "text/plain": [
       "['athena-query-res-jan',\n",
       " 'aws-athena-query-results-642924624251-us-east-1',\n",
       " 'aws-glue-assets-642924624251-us-east-1',\n",
       " 'boto-bucket-16',\n",
       " 'cf-templates-10npfdhh8wtky-us-east-1',\n",
       " 'de-yt-starterdata-bkp',\n",
       " 'destination-folder',\n",
       " 'elasticbeanstalk-us-east-1-642924624251',\n",
       " 'pipe-line-source']"
      ]
     },
     "execution_count": 6,
     "metadata": {},
     "output_type": "execute_result"
    }
   ],
   "source": [
    "#verifying your session by listing the buckets\n",
    "your_buckets = wr.s3.list_buckets(boto3_session=your_session)\n",
    "your_buckets"
   ]
  },
  {
   "cell_type": "markdown",
   "id": "5b6d1bd3",
   "metadata": {},
   "source": [
    "### If the above command throws error, then \n",
    "\n",
    "1. Check if your Access credentials are active in AWS Console\n",
    "2. Check you Internet Connection\n",
    "3. Check your permissions in AWS console, if your account is provided by your company"
   ]
  }
 ],
 "metadata": {
  "kernelspec": {
   "display_name": "Python 3 (ipykernel)",
   "language": "python",
   "name": "python3"
  },
  "language_info": {
   "codemirror_mode": {
    "name": "ipython",
    "version": 3
   },
   "file_extension": ".py",
   "mimetype": "text/x-python",
   "name": "python",
   "nbconvert_exporter": "python",
   "pygments_lexer": "ipython3",
   "version": "3.10.8"
  }
 },
 "nbformat": 4,
 "nbformat_minor": 5
}
