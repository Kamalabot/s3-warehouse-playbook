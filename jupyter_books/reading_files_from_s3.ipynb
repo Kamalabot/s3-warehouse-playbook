{
 "cells": [
  {
   "cell_type": "markdown",
   "id": "b7d2624e",
   "metadata": {},
   "source": [
    "### Reading the files into AWS Wrangler and writing to S3"
   ]
  },
  {
   "cell_type": "code",
   "execution_count": 1,
   "id": "dfae5969",
   "metadata": {},
   "outputs": [],
   "source": [
    "#import below libraries\n",
    "import awswrangler as wr\n",
    "import pandas as pd\n",
    "import boto3\n",
    "import warnings \n",
    "warnings.filterwarnings('ignore')\n",
    "import configparser"
   ]
  },
  {
   "cell_type": "code",
   "execution_count": 2,
   "id": "ea4583f6",
   "metadata": {},
   "outputs": [],
   "source": [
    "#reading the credentials securely.\n",
    "credents = configparser.ConfigParser()"
   ]
  },
  {
   "cell_type": "code",
   "execution_count": 3,
   "id": "6dc2cbdc",
   "metadata": {},
   "outputs": [],
   "source": [
    "#use read_file method\n",
    "credents.read_file(open('credentials.config'))"
   ]
  },
  {
   "cell_type": "code",
   "execution_count": 4,
   "id": "aae18d56",
   "metadata": {},
   "outputs": [],
   "source": [
    "#Reading in the credentials into Python variables. No can see them\n",
    "aws_key = credents[\"AWS\"][\"KEY\"]\n",
    "aws_secret = credents[\"AWS\"][\"SECRET\"]\n",
    "region = credents[\"AWS\"][\"REGION\"]"
   ]
  },
  {
   "cell_type": "code",
   "execution_count": 5,
   "id": "f5f06721",
   "metadata": {},
   "outputs": [],
   "source": [
    "#Creating the Session\n",
    "your_session = boto3.Session(aws_access_key_id=aws_key,\n",
    "                            aws_secret_access_key=aws_secret,\n",
    "                            region_name=region)"
   ]
  },
  {
   "cell_type": "markdown",
   "id": "c1c47673",
   "metadata": {},
   "source": [
    "### Since we are reading from S3. The bucket will be source"
   ]
  },
  {
   "cell_type": "code",
   "execution_count": 6,
   "id": "dbd42002",
   "metadata": {},
   "outputs": [],
   "source": [
    "source_bucket = \"s3://destination-folder\""
   ]
  },
  {
   "cell_type": "code",
   "execution_count": 7,
   "id": "57ecce05",
   "metadata": {},
   "outputs": [
    {
     "data": {
      "text/plain": [
       "[]"
      ]
     },
     "execution_count": 7,
     "metadata": {},
     "output_type": "execute_result"
    }
   ],
   "source": [
    "wr.s3.list_directories(path=source_bucket,boto3_session=your_session)"
   ]
  },
  {
   "cell_type": "code",
   "execution_count": 37,
   "id": "8386fdaa",
   "metadata": {},
   "outputs": [],
   "source": [
    "csv_folder = \"/csv\"\n",
    "excel_folder = \"/excel\"\n",
    "parquet_folder = \"/parquet\"\n",
    "json_folder = '/json'"
   ]
  },
  {
   "cell_type": "code",
   "execution_count": 39,
   "id": "b6dced11",
   "metadata": {},
   "outputs": [
    {
     "data": {
      "text/plain": [
       "'s3://destination-folder/csv'"
      ]
     },
     "execution_count": 39,
     "metadata": {},
     "output_type": "execute_result"
    }
   ],
   "source": [
    "#Always build the path for making it easy for programming\n",
    "csv_path = source_bucket + csv_folder\n",
    "csv_path"
   ]
  },
  {
   "cell_type": "markdown",
   "id": "62be6772",
   "metadata": {},
   "source": [
    "### Reading CSV file inside S3"
   ]
  },
  {
   "cell_type": "markdown",
   "id": "f66cd715",
   "metadata": {},
   "source": [
    "wr.s3.read_csv( path: Union[str, List[str]],\n",
    "    \n",
    "    path_suffix: Union[str, List[str], NoneType] = None,\n",
    "    \n",
    "    path_ignore_suffix: Union[str, List[str], NoneType] = None,\n",
    "    \n",
    "    boto3_session: Optional[boto3.session.Session] = None,\n",
    "    \n",
    "    chunksize: Optional[int] = None,\n",
    "    \n",
    "    dataset: bool = False) "
   ]
  },
  {
   "cell_type": "code",
   "execution_count": 40,
   "id": "65f465a9",
   "metadata": {},
   "outputs": [],
   "source": [
    "read_wr_csv = wr.s3.read_csv(path=csv_path,\n",
    "                             boto3_session=your_session,)"
   ]
  },
  {
   "cell_type": "code",
   "execution_count": 41,
   "id": "aa022748",
   "metadata": {},
   "outputs": [
    {
     "data": {
      "text/html": [
       "<div>\n",
       "<style scoped>\n",
       "    .dataframe tbody tr th:only-of-type {\n",
       "        vertical-align: middle;\n",
       "    }\n",
       "\n",
       "    .dataframe tbody tr th {\n",
       "        vertical-align: top;\n",
       "    }\n",
       "\n",
       "    .dataframe thead th {\n",
       "        text-align: right;\n",
       "    }\n",
       "</style>\n",
       "<table border=\"1\" class=\"dataframe\">\n",
       "  <thead>\n",
       "    <tr style=\"text-align: right;\">\n",
       "      <th></th>\n",
       "      <th>Unnamed: 0</th>\n",
       "      <th>id</th>\n",
       "      <th>name</th>\n",
       "      <th>E-mail</th>\n",
       "      <th>Salary</th>\n",
       "      <th>occupation</th>\n",
       "    </tr>\n",
       "  </thead>\n",
       "  <tbody>\n",
       "    <tr>\n",
       "      <th>0</th>\n",
       "      <td>0</td>\n",
       "      <td>1</td>\n",
       "      <td>Joel</td>\n",
       "      <td>Joel@Athena.com</td>\n",
       "      <td>187069</td>\n",
       "      <td>Mathematician</td>\n",
       "    </tr>\n",
       "    <tr>\n",
       "      <th>1</th>\n",
       "      <td>1</td>\n",
       "      <td>2</td>\n",
       "      <td>Afro</td>\n",
       "      <td>Afro@Glue.aws.in</td>\n",
       "      <td>752689</td>\n",
       "      <td>Physicist</td>\n",
       "    </tr>\n",
       "    <tr>\n",
       "      <th>2</th>\n",
       "      <td>2</td>\n",
       "      <td>3</td>\n",
       "      <td>Beatles</td>\n",
       "      <td>beatles@lambda.com</td>\n",
       "      <td>975682</td>\n",
       "      <td>Algorist</td>\n",
       "    </tr>\n",
       "    <tr>\n",
       "      <th>3</th>\n",
       "      <td>3</td>\n",
       "      <td>4</td>\n",
       "      <td>Snoop Dog</td>\n",
       "      <td>snoopy@apigateway.com</td>\n",
       "      <td>752689</td>\n",
       "      <td>Artificial Rapper</td>\n",
       "    </tr>\n",
       "  </tbody>\n",
       "</table>\n",
       "</div>"
      ],
      "text/plain": [
       "   Unnamed: 0  id       name                 E-mail  Salary         occupation\n",
       "0           0   1       Joel        Joel@Athena.com  187069      Mathematician\n",
       "1           1   2       Afro       Afro@Glue.aws.in  752689          Physicist\n",
       "2           2   3    Beatles     beatles@lambda.com  975682           Algorist\n",
       "3           3   4  Snoop Dog  snoopy@apigateway.com  752689  Artificial Rapper"
      ]
     },
     "execution_count": 41,
     "metadata": {},
     "output_type": "execute_result"
    }
   ],
   "source": [
    "read_wr_csv"
   ]
  },
  {
   "cell_type": "code",
   "execution_count": 42,
   "id": "75449c22",
   "metadata": {},
   "outputs": [
    {
     "data": {
      "text/plain": [
       "pandas.core.frame.DataFrame"
      ]
     },
     "execution_count": 42,
     "metadata": {},
     "output_type": "execute_result"
    }
   ],
   "source": [
    "type(read_wr_csv)"
   ]
  },
  {
   "cell_type": "code",
   "execution_count": 43,
   "id": "4766dabd",
   "metadata": {},
   "outputs": [
    {
     "data": {
      "text/html": [
       "<div>\n",
       "<style scoped>\n",
       "    .dataframe tbody tr th:only-of-type {\n",
       "        vertical-align: middle;\n",
       "    }\n",
       "\n",
       "    .dataframe tbody tr th {\n",
       "        vertical-align: top;\n",
       "    }\n",
       "\n",
       "    .dataframe thead th {\n",
       "        text-align: right;\n",
       "    }\n",
       "</style>\n",
       "<table border=\"1\" class=\"dataframe\">\n",
       "  <thead>\n",
       "    <tr style=\"text-align: right;\">\n",
       "      <th></th>\n",
       "      <th>Unnamed: 0</th>\n",
       "      <th>id</th>\n",
       "      <th>name</th>\n",
       "      <th>E-mail</th>\n",
       "      <th>Salary</th>\n",
       "      <th>occupation</th>\n",
       "    </tr>\n",
       "  </thead>\n",
       "  <tbody>\n",
       "    <tr>\n",
       "      <th>2</th>\n",
       "      <td>2</td>\n",
       "      <td>3</td>\n",
       "      <td>Beatles</td>\n",
       "      <td>beatles@lambda.com</td>\n",
       "      <td>975682</td>\n",
       "      <td>Algorist</td>\n",
       "    </tr>\n",
       "  </tbody>\n",
       "</table>\n",
       "</div>"
      ],
      "text/plain": [
       "   Unnamed: 0  id     name              E-mail  Salary occupation\n",
       "2           2   3  Beatles  beatles@lambda.com  975682   Algorist"
      ]
     },
     "execution_count": 43,
     "metadata": {},
     "output_type": "execute_result"
    }
   ],
   "source": [
    "read_wr_csv[read_wr_csv.Salary > 900000]"
   ]
  },
  {
   "cell_type": "markdown",
   "id": "507dbf4e",
   "metadata": {},
   "source": [
    "### Commonly used params in wr.s3.to_csv()\n",
    "wr.s3.to_csv(df: pandas.core.frame.DataFrame,\n",
    "    \n",
    "    path: Optional[str] = None,\n",
    "    \n",
    "    index: bool = True,\n",
    "    \n",
    "    boto3_session: Optional[boto3.session.Session] = None,\n",
    "    \n",
    "    dataset: bool = False,\n",
    "    \n",
    "    filename_prefix: Optional[str] = None,\n",
    "    \n",
    "    partition_cols: Optional[List[str]] = None,\n",
    "    \n",
    "    bucketing_info: Optional[Tuple[List[str], int]] = None,\n",
    "    \n",
    "    database: Optional[str] = None,\n",
    "    \n",
    "    table: Optional[str] = None)"
   ]
  },
  {
   "cell_type": "markdown",
   "id": "53aa1414",
   "metadata": {},
   "source": [
    "#### Reading xls file : Need to give full path"
   ]
  },
  {
   "cell_type": "code",
   "execution_count": 44,
   "id": "3fb543b5",
   "metadata": {},
   "outputs": [
    {
     "data": {
      "text/plain": [
       "'s3://destination-folder/excel'"
      ]
     },
     "execution_count": 44,
     "metadata": {},
     "output_type": "execute_result"
    }
   ],
   "source": [
    "#Always build the path for making it easy for programming\n",
    "excel_path = source_bucket + excel_folder\n",
    "excel_path"
   ]
  },
  {
   "cell_type": "markdown",
   "id": "f6c01179",
   "metadata": {},
   "source": [
    "### You have to provide the full path for the XLS files with Prefix"
   ]
  },
  {
   "cell_type": "code",
   "execution_count": 45,
   "id": "efacbe8b",
   "metadata": {},
   "outputs": [
    {
     "data": {
      "text/html": [
       "<div>\n",
       "<style scoped>\n",
       "    .dataframe tbody tr th:only-of-type {\n",
       "        vertical-align: middle;\n",
       "    }\n",
       "\n",
       "    .dataframe tbody tr th {\n",
       "        vertical-align: top;\n",
       "    }\n",
       "\n",
       "    .dataframe thead th {\n",
       "        text-align: right;\n",
       "    }\n",
       "</style>\n",
       "<table border=\"1\" class=\"dataframe\">\n",
       "  <thead>\n",
       "    <tr style=\"text-align: right;\">\n",
       "      <th></th>\n",
       "      <th>Unnamed: 0</th>\n",
       "      <th>id</th>\n",
       "      <th>name</th>\n",
       "      <th>E-mail</th>\n",
       "      <th>Salary</th>\n",
       "      <th>occupation</th>\n",
       "    </tr>\n",
       "  </thead>\n",
       "  <tbody>\n",
       "    <tr>\n",
       "      <th>0</th>\n",
       "      <td>0</td>\n",
       "      <td>1</td>\n",
       "      <td>Joel</td>\n",
       "      <td>Joel@Athena.com</td>\n",
       "      <td>187069</td>\n",
       "      <td>Mathematician</td>\n",
       "    </tr>\n",
       "    <tr>\n",
       "      <th>1</th>\n",
       "      <td>1</td>\n",
       "      <td>2</td>\n",
       "      <td>Afro</td>\n",
       "      <td>Afro@Glue.aws.in</td>\n",
       "      <td>752689</td>\n",
       "      <td>Physicist</td>\n",
       "    </tr>\n",
       "    <tr>\n",
       "      <th>2</th>\n",
       "      <td>2</td>\n",
       "      <td>3</td>\n",
       "      <td>Beatles</td>\n",
       "      <td>beatles@lambda.com</td>\n",
       "      <td>975682</td>\n",
       "      <td>Algorist</td>\n",
       "    </tr>\n",
       "    <tr>\n",
       "      <th>3</th>\n",
       "      <td>3</td>\n",
       "      <td>4</td>\n",
       "      <td>Snoop Dog</td>\n",
       "      <td>snoopy@apigateway.com</td>\n",
       "      <td>752689</td>\n",
       "      <td>Artificial Rapper</td>\n",
       "    </tr>\n",
       "  </tbody>\n",
       "</table>\n",
       "</div>"
      ],
      "text/plain": [
       "   Unnamed: 0  id       name                 E-mail  Salary         occupation\n",
       "0           0   1       Joel        Joel@Athena.com  187069      Mathematician\n",
       "1           1   2       Afro       Afro@Glue.aws.in  752689          Physicist\n",
       "2           2   3    Beatles     beatles@lambda.com  975682           Algorist\n",
       "3           3   4  Snoop Dog  snoopy@apigateway.com  752689  Artificial Rapper"
      ]
     },
     "execution_count": 45,
     "metadata": {},
     "output_type": "execute_result"
    }
   ],
   "source": [
    "read_excel = wr.s3.read_excel(path=excel_path + '/write_top_earners.xls',\n",
    "                              boto3_session=your_session)\n",
    "read_excel"
   ]
  },
  {
   "cell_type": "markdown",
   "id": "ed693238",
   "metadata": {},
   "source": [
    "#### reading parquet file"
   ]
  },
  {
   "cell_type": "code",
   "execution_count": 46,
   "id": "4d45cd83",
   "metadata": {},
   "outputs": [
    {
     "data": {
      "text/plain": [
       "'s3://destination-folder/parquet'"
      ]
     },
     "execution_count": 46,
     "metadata": {},
     "output_type": "execute_result"
    }
   ],
   "source": [
    "source = source_bucket+parquet_folder\n",
    "source"
   ]
  },
  {
   "cell_type": "code",
   "execution_count": 47,
   "id": "780b5cd0",
   "metadata": {},
   "outputs": [
    {
     "data": {
      "text/plain": [
       "['s3://destination-folder/parquet/db1c4a0fa56c4db9b9d6044cd94cd5e1.snappy.parquet',\n",
       " 's3://destination-folder/parquet_exercise/7530e940483a46ce8ca246de57a3291c.snappy.parquet']"
      ]
     },
     "execution_count": 47,
     "metadata": {},
     "output_type": "execute_result"
    }
   ],
   "source": [
    "wr.s3.list_objects(path=source,boto3_session=your_session)"
   ]
  },
  {
   "cell_type": "code",
   "execution_count": 49,
   "id": "8f1b521e",
   "metadata": {},
   "outputs": [
    {
     "name": "stderr",
     "output_type": "stream",
     "text": [
      "Exception ignored in: <function _S3ObjectBase.__del__ at 0x7f88a1e1b910>\n",
      "Traceback (most recent call last):\n",
      "  File \"/home/solverbot/.local/lib/python3.10/site-packages/awswrangler/s3/_fs.py\", line 243, in __del__\n",
      "    self.close()\n",
      "  File \"/home/solverbot/.local/lib/python3.10/site-packages/awswrangler/s3/_fs.py\", line 474, in close\n",
      "    _utils.try_it(\n",
      "  File \"/home/solverbot/.local/lib/python3.10/site-packages/awswrangler/_utils.py\", line 348, in try_it\n",
      "    return f(**kwargs)\n",
      "  File \"/home/solverbot/.local/lib/python3.10/site-packages/botocore/client.py\", line 507, in _api_call\n",
      "    return self._make_api_call(operation_name, kwargs)\n",
      "  File \"/home/solverbot/.local/lib/python3.10/site-packages/botocore/client.py\", line 902, in _make_api_call\n",
      "    request_dict = self._convert_to_request_dict(\n",
      "  File \"/home/solverbot/.local/lib/python3.10/site-packages/botocore/client.py\", line 973, in _convert_to_request_dict\n",
      "    request_dict = self._serializer.serialize_to_request(\n",
      "  File \"/home/solverbot/.local/lib/python3.10/site-packages/botocore/validate.py\", line 381, in serialize_to_request\n",
      "    raise ParamValidationError(report=report.generate_report())\n",
      "botocore.exceptions.ParamValidationError: Parameter validation failed:\n",
      "Invalid length for parameter Key, value: 0, valid min length: 1\n"
     ]
    },
    {
     "data": {
      "text/html": [
       "<div>\n",
       "<style scoped>\n",
       "    .dataframe tbody tr th:only-of-type {\n",
       "        vertical-align: middle;\n",
       "    }\n",
       "\n",
       "    .dataframe tbody tr th {\n",
       "        vertical-align: top;\n",
       "    }\n",
       "\n",
       "    .dataframe thead th {\n",
       "        text-align: right;\n",
       "    }\n",
       "</style>\n",
       "<table border=\"1\" class=\"dataframe\">\n",
       "  <thead>\n",
       "    <tr style=\"text-align: right;\">\n",
       "      <th></th>\n",
       "      <th>id</th>\n",
       "      <th>name</th>\n",
       "      <th>E-mail</th>\n",
       "      <th>Salary</th>\n",
       "      <th>occupation</th>\n",
       "    </tr>\n",
       "  </thead>\n",
       "  <tbody>\n",
       "    <tr>\n",
       "      <th>0</th>\n",
       "      <td>1</td>\n",
       "      <td>Joel</td>\n",
       "      <td>Joel@Athena.com</td>\n",
       "      <td>187069</td>\n",
       "      <td>Mathematician</td>\n",
       "    </tr>\n",
       "    <tr>\n",
       "      <th>1</th>\n",
       "      <td>2</td>\n",
       "      <td>Afro</td>\n",
       "      <td>Afro@Glue.aws.in</td>\n",
       "      <td>752689</td>\n",
       "      <td>Physicist</td>\n",
       "    </tr>\n",
       "    <tr>\n",
       "      <th>2</th>\n",
       "      <td>3</td>\n",
       "      <td>Beatles</td>\n",
       "      <td>beatles@lambda.com</td>\n",
       "      <td>975682</td>\n",
       "      <td>Algorist</td>\n",
       "    </tr>\n",
       "    <tr>\n",
       "      <th>3</th>\n",
       "      <td>4</td>\n",
       "      <td>Snoop Dog</td>\n",
       "      <td>snoopy@apigateway.com</td>\n",
       "      <td>752689</td>\n",
       "      <td>Artificial Rapper</td>\n",
       "    </tr>\n",
       "  </tbody>\n",
       "</table>\n",
       "</div>"
      ],
      "text/plain": [
       "   id       name                 E-mail  Salary         occupation\n",
       "0   1       Joel        Joel@Athena.com  187069      Mathematician\n",
       "1   2       Afro       Afro@Glue.aws.in  752689          Physicist\n",
       "2   3    Beatles     beatles@lambda.com  975682           Algorist\n",
       "3   4  Snoop Dog  snoopy@apigateway.com  752689  Artificial Rapper"
      ]
     },
     "execution_count": 49,
     "metadata": {},
     "output_type": "execute_result"
    }
   ],
   "source": [
    "read_parquet = wr.s3.read_parquet(path=source+\"/db1c4a0fa56c4db9b9d6044cd94cd5e1.snappy.parquet\",\n",
    "                              boto3_session=your_session)\n",
    "read_parquet"
   ]
  },
  {
   "cell_type": "markdown",
   "id": "75ec8faf",
   "metadata": {},
   "source": [
    "#### reading json file"
   ]
  },
  {
   "cell_type": "code",
   "execution_count": 50,
   "id": "13060584",
   "metadata": {},
   "outputs": [
    {
     "data": {
      "text/plain": [
       "'s3://destination-folder/json'"
      ]
     },
     "execution_count": 50,
     "metadata": {},
     "output_type": "execute_result"
    }
   ],
   "source": [
    "source = source_bucket+ json_folder\n",
    "source"
   ]
  },
  {
   "cell_type": "code",
   "execution_count": 51,
   "id": "19d13d19",
   "metadata": {},
   "outputs": [],
   "source": [
    "json_read = wr.s3.read_json(path= source,\n",
    "    boto3_session=your_session)"
   ]
  },
  {
   "cell_type": "code",
   "execution_count": 52,
   "id": "bb37e2b0",
   "metadata": {},
   "outputs": [
    {
     "data": {
      "text/html": [
       "<div>\n",
       "<style scoped>\n",
       "    .dataframe tbody tr th:only-of-type {\n",
       "        vertical-align: middle;\n",
       "    }\n",
       "\n",
       "    .dataframe tbody tr th {\n",
       "        vertical-align: top;\n",
       "    }\n",
       "\n",
       "    .dataframe thead th {\n",
       "        text-align: right;\n",
       "    }\n",
       "</style>\n",
       "<table border=\"1\" class=\"dataframe\">\n",
       "  <thead>\n",
       "    <tr style=\"text-align: right;\">\n",
       "      <th></th>\n",
       "      <th>id</th>\n",
       "      <th>name</th>\n",
       "      <th>E-mail</th>\n",
       "      <th>Salary</th>\n",
       "      <th>occupation</th>\n",
       "    </tr>\n",
       "  </thead>\n",
       "  <tbody>\n",
       "    <tr>\n",
       "      <th>0</th>\n",
       "      <td>1</td>\n",
       "      <td>Joel</td>\n",
       "      <td>Joel@Athena.com</td>\n",
       "      <td>187069</td>\n",
       "      <td>Mathematician</td>\n",
       "    </tr>\n",
       "    <tr>\n",
       "      <th>1</th>\n",
       "      <td>2</td>\n",
       "      <td>Afro</td>\n",
       "      <td>Afro@Glue.aws.in</td>\n",
       "      <td>752689</td>\n",
       "      <td>Physicist</td>\n",
       "    </tr>\n",
       "    <tr>\n",
       "      <th>2</th>\n",
       "      <td>3</td>\n",
       "      <td>Beatles</td>\n",
       "      <td>beatles@lambda.com</td>\n",
       "      <td>975682</td>\n",
       "      <td>Algorist</td>\n",
       "    </tr>\n",
       "    <tr>\n",
       "      <th>3</th>\n",
       "      <td>4</td>\n",
       "      <td>Snoop Dog</td>\n",
       "      <td>snoopy@apigateway.com</td>\n",
       "      <td>752689</td>\n",
       "      <td>Artificial Rapper</td>\n",
       "    </tr>\n",
       "  </tbody>\n",
       "</table>\n",
       "</div>"
      ],
      "text/plain": [
       "   id       name                 E-mail  Salary         occupation\n",
       "0   1       Joel        Joel@Athena.com  187069      Mathematician\n",
       "1   2       Afro       Afro@Glue.aws.in  752689          Physicist\n",
       "2   3    Beatles     beatles@lambda.com  975682           Algorist\n",
       "3   4  Snoop Dog  snoopy@apigateway.com  752689  Artificial Rapper"
      ]
     },
     "execution_count": 52,
     "metadata": {},
     "output_type": "execute_result"
    }
   ],
   "source": [
    "json_read"
   ]
  },
  {
   "cell_type": "markdown",
   "id": "ab417f85",
   "metadata": {},
   "source": [
    "#### reading fwf file"
   ]
  },
  {
   "cell_type": "code",
   "execution_count": 9,
   "id": "2a166146",
   "metadata": {},
   "outputs": [
    {
     "data": {
      "text/plain": [
       "'s3://destination-folder'"
      ]
     },
     "execution_count": 9,
     "metadata": {},
     "output_type": "execute_result"
    }
   ],
   "source": [
    "source = source_bucket\n",
    "source"
   ]
  },
  {
   "cell_type": "code",
   "execution_count": 53,
   "id": "b0bd5843",
   "metadata": {},
   "outputs": [
    {
     "name": "stdout",
     "output_type": "stream",
     "text": [
      "earners_jets.csv      top_earners_list.txt\r\n",
      "top_earners_list.csv  top_earners_list.xlsx\r\n"
     ]
    }
   ],
   "source": [
    "!ls source_folder/"
   ]
  },
  {
   "cell_type": "code",
   "execution_count": 54,
   "id": "b1185122",
   "metadata": {},
   "outputs": [
    {
     "name": "stdout",
     "output_type": "stream",
     "text": [
      "id\tname\tE-mail\tSalary\toccupation\r\n",
      "1\tJoel\tJoel@Athena.com\t187069\tMathematician\r\n",
      "2\tAfro\tAfro@Glue.aws.in\t752689\tPhysicist\r\n",
      "3\tBeatles\tbeatles@lambda.com\t975682\tAlgorist\r\n",
      "4\tSnoop Dog\tsnoopy@apigateway.com\t752689\tArtificial Rapper\r\n"
     ]
    }
   ],
   "source": [
    "!cat source_folder/top_earners_list.txt"
   ]
  },
  {
   "cell_type": "code",
   "execution_count": 12,
   "id": "f8837429",
   "metadata": {},
   "outputs": [],
   "source": [
    "wr.s3.upload(local_file='source_folder/top_earners_list.txt',path=source+'/top_earners_list.txt',\n",
    "             boto3_session=your_session,)"
   ]
  },
  {
   "cell_type": "code",
   "execution_count": 31,
   "id": "c01c73db",
   "metadata": {},
   "outputs": [
    {
     "data": {
      "text/html": [
       "<div>\n",
       "<style scoped>\n",
       "    .dataframe tbody tr th:only-of-type {\n",
       "        vertical-align: middle;\n",
       "    }\n",
       "\n",
       "    .dataframe tbody tr th {\n",
       "        vertical-align: top;\n",
       "    }\n",
       "\n",
       "    .dataframe thead th {\n",
       "        text-align: right;\n",
       "    }\n",
       "</style>\n",
       "<table border=\"1\" class=\"dataframe\">\n",
       "  <thead>\n",
       "    <tr style=\"text-align: right;\">\n",
       "      <th></th>\n",
       "      <th>id</th>\n",
       "      <th>name</th>\n",
       "      <th>E-mail</th>\n",
       "      <th>Salary</th>\n",
       "      <th>occupation</th>\n",
       "    </tr>\n",
       "  </thead>\n",
       "  <tbody>\n",
       "    <tr>\n",
       "      <th>0</th>\n",
       "      <td>1</td>\n",
       "      <td>oel</td>\n",
       "      <td>oel@At</td>\n",
       "      <td>ena.co</td>\n",
       "      <td>187069\\tMa</td>\n",
       "    </tr>\n",
       "    <tr>\n",
       "      <th>1</th>\n",
       "      <td>2</td>\n",
       "      <td>fro</td>\n",
       "      <td>fro@Gl</td>\n",
       "      <td>e.aws.</td>\n",
       "      <td>n\\t752689\\tP</td>\n",
       "    </tr>\n",
       "    <tr>\n",
       "      <th>2</th>\n",
       "      <td>3</td>\n",
       "      <td>eatl</td>\n",
       "      <td>s\\tbeat</td>\n",
       "      <td>es@lam</td>\n",
       "      <td>da.com\\t975</td>\n",
       "    </tr>\n",
       "    <tr>\n",
       "      <th>3</th>\n",
       "      <td>4</td>\n",
       "      <td>noop</td>\n",
       "      <td>Dog\\tsn</td>\n",
       "      <td>opy@ap</td>\n",
       "      <td>gateway.co</td>\n",
       "    </tr>\n",
       "  </tbody>\n",
       "</table>\n",
       "</div>"
      ],
      "text/plain": [
       "   id  name   E-mail  Salary    occupation\n",
       "0   1   oel   oel@At  ena.co    187069\\tMa\n",
       "1   2   fro   fro@Gl  e.aws.  n\\t752689\\tP\n",
       "2   3  eatl  s\\tbeat  es@lam   da.com\\t975\n",
       "3   4  noop  Dog\\tsn  opy@ap    gateway.co"
      ]
     },
     "execution_count": 31,
     "metadata": {},
     "output_type": "execute_result"
    }
   ],
   "source": [
    "pd.read_fwf('source_folder/top_earners_list.txt',infer_nrows=True,colspecs='infer',)"
   ]
  },
  {
   "cell_type": "code",
   "execution_count": 27,
   "id": "f062d058",
   "metadata": {},
   "outputs": [],
   "source": [
    "fwf_read = wr.s3.read_fwf(path= source +'/top_earners_list.txt',\n",
    "                          boto3_session=your_session,ignore_empty=True,)"
   ]
  },
  {
   "cell_type": "code",
   "execution_count": 28,
   "id": "c5c1602b",
   "metadata": {},
   "outputs": [
    {
     "data": {
      "text/html": [
       "<div>\n",
       "<style scoped>\n",
       "    .dataframe tbody tr th:only-of-type {\n",
       "        vertical-align: middle;\n",
       "    }\n",
       "\n",
       "    .dataframe tbody tr th {\n",
       "        vertical-align: top;\n",
       "    }\n",
       "\n",
       "    .dataframe thead th {\n",
       "        text-align: right;\n",
       "    }\n",
       "</style>\n",
       "<table border=\"1\" class=\"dataframe\">\n",
       "  <thead>\n",
       "    <tr style=\"text-align: right;\">\n",
       "      <th></th>\n",
       "      <th>id\\tname\\tE-mail\\tSalary\\toccupation</th>\n",
       "      <th>Unnamed: 1</th>\n",
       "    </tr>\n",
       "  </thead>\n",
       "  <tbody>\n",
       "    <tr>\n",
       "      <th>0</th>\n",
       "      <td>1\\tJoel\\tJoel@Athena.com\\t187069\\tMathematician</td>\n",
       "      <td>NaN</td>\n",
       "    </tr>\n",
       "    <tr>\n",
       "      <th>1</th>\n",
       "      <td>2\\tAfro\\tAfro@Glue.aws.in\\t752689\\tPhysicist</td>\n",
       "      <td>NaN</td>\n",
       "    </tr>\n",
       "    <tr>\n",
       "      <th>2</th>\n",
       "      <td>3\\tBeatles\\tbeatles@lambda.com\\t975682\\tAlgorist</td>\n",
       "      <td>NaN</td>\n",
       "    </tr>\n",
       "    <tr>\n",
       "      <th>3</th>\n",
       "      <td>4\\tSnoop Dog\\tsnoopy@apigateway.com\\t752689\\tA...</td>\n",
       "      <td>Rapper</td>\n",
       "    </tr>\n",
       "  </tbody>\n",
       "</table>\n",
       "</div>"
      ],
      "text/plain": [
       "                id\\tname\\tE-mail\\tSalary\\toccupation Unnamed: 1\n",
       "0    1\\tJoel\\tJoel@Athena.com\\t187069\\tMathematician        NaN\n",
       "1       2\\tAfro\\tAfro@Glue.aws.in\\t752689\\tPhysicist        NaN\n",
       "2   3\\tBeatles\\tbeatles@lambda.com\\t975682\\tAlgorist        NaN\n",
       "3  4\\tSnoop Dog\\tsnoopy@apigateway.com\\t752689\\tA...     Rapper"
      ]
     },
     "execution_count": 28,
     "metadata": {},
     "output_type": "execute_result"
    }
   ],
   "source": [
    "fwf_read"
   ]
  },
  {
   "cell_type": "code",
   "execution_count": 36,
   "id": "b4286370",
   "metadata": {},
   "outputs": [],
   "source": [
    "wr.s3.download(path=source+\"/top_earners_list.txt\",boto3_session=your_session,\n",
    "              local_file=\"local_destination/top_earners_download.txt\")"
   ]
  },
  {
   "cell_type": "markdown",
   "id": "51361717",
   "metadata": {},
   "source": [
    "#### Cleaning up"
   ]
  },
  {
   "cell_type": "code",
   "execution_count": 60,
   "id": "d0290742",
   "metadata": {},
   "outputs": [],
   "source": [
    "wr.s3.delete_objects(path=source_bucket,boto3_session=your_session)"
   ]
  },
  {
   "cell_type": "code",
   "execution_count": 62,
   "id": "6b568db8",
   "metadata": {},
   "outputs": [
    {
     "data": {
      "text/plain": [
       "[]"
      ]
     },
     "execution_count": 62,
     "metadata": {},
     "output_type": "execute_result"
    }
   ],
   "source": [
    "# Verify the data is written using list_objects\n",
    "\n",
    "wr.s3.list_objects(source_bucket,boto3_session=your_session)"
   ]
  },
  {
   "cell_type": "code",
   "execution_count": null,
   "id": "f8a3d04e",
   "metadata": {},
   "outputs": [],
   "source": []
  }
 ],
 "metadata": {
  "kernelspec": {
   "display_name": "Python 3 (ipykernel)",
   "language": "python",
   "name": "python3"
  },
  "language_info": {
   "codemirror_mode": {
    "name": "ipython",
    "version": 3
   },
   "file_extension": ".py",
   "mimetype": "text/x-python",
   "name": "python",
   "nbconvert_exporter": "python",
   "pygments_lexer": "ipython3",
   "version": "3.10.8"
  }
 },
 "nbformat": 4,
 "nbformat_minor": 5
}
