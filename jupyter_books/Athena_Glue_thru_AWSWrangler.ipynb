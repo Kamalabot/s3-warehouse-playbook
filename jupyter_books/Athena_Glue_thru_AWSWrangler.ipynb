{
 "cells": [
  {
   "cell_type": "markdown",
   "id": "83e48b3a",
   "metadata": {},
   "source": [
    "### Querying Athena and Glue through AWS Wrangler"
   ]
  },
  {
   "cell_type": "code",
   "execution_count": 20,
   "id": "dfae5969",
   "metadata": {},
   "outputs": [],
   "source": [
    "#import below libraries\n",
    "import awswrangler as wr\n",
    "import pandas as pd\n",
    "import boto3\n",
    "import warnings \n",
    "warnings.filterwarnings('ignore')\n",
    "import configparser"
   ]
  },
  {
   "cell_type": "code",
   "execution_count": 21,
   "id": "ea4583f6",
   "metadata": {},
   "outputs": [],
   "source": [
    "#reading the credentials securely.\n",
    "credents = configparser.ConfigParser()"
   ]
  },
  {
   "cell_type": "code",
   "execution_count": 22,
   "id": "6dc2cbdc",
   "metadata": {},
   "outputs": [],
   "source": [
    "#use read_file method\n",
    "credents.read_file(open('credentials.config'))"
   ]
  },
  {
   "cell_type": "code",
   "execution_count": 23,
   "id": "aae18d56",
   "metadata": {},
   "outputs": [],
   "source": [
    "#Reading in the credentials into Python variables. No can see them\n",
    "aws_key = credents[\"AWS\"][\"KEY\"]\n",
    "aws_secret = credents[\"AWS\"][\"SECRET\"]\n",
    "region = credents[\"AWS\"][\"REGION\"]"
   ]
  },
  {
   "cell_type": "code",
   "execution_count": 24,
   "id": "f5f06721",
   "metadata": {},
   "outputs": [],
   "source": [
    "#Creating the Session\n",
    "your_session = boto3.Session(aws_access_key_id=aws_key,\n",
    "                            aws_secret_access_key=aws_secret,\n",
    "                            region_name=region)"
   ]
  },
  {
   "cell_type": "code",
   "execution_count": 6,
   "id": "5536d4ae",
   "metadata": {},
   "outputs": [],
   "source": [
    "destination_bucket = \"s3://destination-folder\""
   ]
  },
  {
   "cell_type": "code",
   "execution_count": 25,
   "id": "383ced0b",
   "metadata": {},
   "outputs": [
    {
     "data": {
      "text/plain": [
       "[]"
      ]
     },
     "execution_count": 25,
     "metadata": {},
     "output_type": "execute_result"
    }
   ],
   "source": [
    "wr.s3.list_objects(boto3_session=your_session,\n",
    "                   path=destination_bucket)"
   ]
  },
  {
   "cell_type": "markdown",
   "id": "659e9aa2",
   "metadata": {},
   "source": [
    "### Writing pandas Dataframe to S3"
   ]
  },
  {
   "cell_type": "code",
   "execution_count": 26,
   "id": "4bde2ab8",
   "metadata": {},
   "outputs": [
    {
     "name": "stdout",
     "output_type": "stream",
     "text": [
      "earners_jets.csv      top_earners_list.txt\r\n",
      "top_earners_list.csv  top_earners_list.xlsx\r\n"
     ]
    }
   ],
   "source": [
    "#source location\n",
    "!ls source_folder/"
   ]
  },
  {
   "cell_type": "code",
   "execution_count": 27,
   "id": "5f952ade",
   "metadata": {},
   "outputs": [
    {
     "data": {
      "text/html": [
       "<div>\n",
       "<style scoped>\n",
       "    .dataframe tbody tr th:only-of-type {\n",
       "        vertical-align: middle;\n",
       "    }\n",
       "\n",
       "    .dataframe tbody tr th {\n",
       "        vertical-align: top;\n",
       "    }\n",
       "\n",
       "    .dataframe thead th {\n",
       "        text-align: right;\n",
       "    }\n",
       "</style>\n",
       "<table border=\"1\" class=\"dataframe\">\n",
       "  <thead>\n",
       "    <tr style=\"text-align: right;\">\n",
       "      <th></th>\n",
       "      <th>id</th>\n",
       "      <th>name</th>\n",
       "      <th>E-mail</th>\n",
       "      <th>Salary</th>\n",
       "      <th>occupation</th>\n",
       "    </tr>\n",
       "  </thead>\n",
       "  <tbody>\n",
       "    <tr>\n",
       "      <th>0</th>\n",
       "      <td>1</td>\n",
       "      <td>Joel</td>\n",
       "      <td>Joel@Athena.com</td>\n",
       "      <td>187069</td>\n",
       "      <td>Mathematician</td>\n",
       "    </tr>\n",
       "    <tr>\n",
       "      <th>1</th>\n",
       "      <td>2</td>\n",
       "      <td>Afro</td>\n",
       "      <td>Afro@Glue.aws.in</td>\n",
       "      <td>752689</td>\n",
       "      <td>Physicist</td>\n",
       "    </tr>\n",
       "    <tr>\n",
       "      <th>2</th>\n",
       "      <td>3</td>\n",
       "      <td>Beatles</td>\n",
       "      <td>beatles@lambda.com</td>\n",
       "      <td>975682</td>\n",
       "      <td>Algorist</td>\n",
       "    </tr>\n",
       "    <tr>\n",
       "      <th>3</th>\n",
       "      <td>4</td>\n",
       "      <td>Snoop Dog</td>\n",
       "      <td>snoopy@apigateway.com</td>\n",
       "      <td>752689</td>\n",
       "      <td>Artificial Rapper</td>\n",
       "    </tr>\n",
       "  </tbody>\n",
       "</table>\n",
       "</div>"
      ],
      "text/plain": [
       "   id       name                 E-mail  Salary         occupation\n",
       "0   1       Joel        Joel@Athena.com  187069      Mathematician\n",
       "1   2       Afro       Afro@Glue.aws.in  752689          Physicist\n",
       "2   3    Beatles     beatles@lambda.com  975682           Algorist\n",
       "3   4  Snoop Dog  snoopy@apigateway.com  752689  Artificial Rapper"
      ]
     },
     "execution_count": 27,
     "metadata": {},
     "output_type": "execute_result"
    }
   ],
   "source": [
    "earners_csv = pd.read_csv(\"source_folder/top_earners_list.csv\")\n",
    "earners_csv"
   ]
  },
  {
   "cell_type": "code",
   "execution_count": 28,
   "id": "cb079b71",
   "metadata": {},
   "outputs": [
    {
     "data": {
      "text/html": [
       "<div>\n",
       "<style scoped>\n",
       "    .dataframe tbody tr th:only-of-type {\n",
       "        vertical-align: middle;\n",
       "    }\n",
       "\n",
       "    .dataframe tbody tr th {\n",
       "        vertical-align: top;\n",
       "    }\n",
       "\n",
       "    .dataframe thead th {\n",
       "        text-align: right;\n",
       "    }\n",
       "</style>\n",
       "<table border=\"1\" class=\"dataframe\">\n",
       "  <thead>\n",
       "    <tr style=\"text-align: right;\">\n",
       "      <th></th>\n",
       "      <th>id</th>\n",
       "      <th>personal_jet</th>\n",
       "      <th>distance_covered</th>\n",
       "    </tr>\n",
       "  </thead>\n",
       "  <tbody>\n",
       "    <tr>\n",
       "      <th>0</th>\n",
       "      <td>1</td>\n",
       "      <td>Jet 777x</td>\n",
       "      <td>589865</td>\n",
       "    </tr>\n",
       "    <tr>\n",
       "      <th>1</th>\n",
       "      <td>2</td>\n",
       "      <td>Global 7500</td>\n",
       "      <td>7987856</td>\n",
       "    </tr>\n",
       "    <tr>\n",
       "      <th>2</th>\n",
       "      <td>3</td>\n",
       "      <td>Falcon 8X</td>\n",
       "      <td>5125768</td>\n",
       "    </tr>\n",
       "    <tr>\n",
       "      <th>3</th>\n",
       "      <td>4</td>\n",
       "      <td>Phenom 300</td>\n",
       "      <td>312687</td>\n",
       "    </tr>\n",
       "  </tbody>\n",
       "</table>\n",
       "</div>"
      ],
      "text/plain": [
       "   id  personal_jet   distance_covered\n",
       "0   1      Jet 777x             589865\n",
       "1   2   Global 7500            7987856\n",
       "2   3     Falcon 8X            5125768\n",
       "3   4    Phenom 300             312687"
      ]
     },
     "execution_count": 28,
     "metadata": {},
     "output_type": "execute_result"
    }
   ],
   "source": [
    "earners_jets = pd.read_csv(\"source_folder/earners_jets.csv\")\n",
    "earners_jets"
   ]
  },
  {
   "cell_type": "markdown",
   "id": "7bd8d2ca",
   "metadata": {},
   "source": [
    "## Create new database"
   ]
  },
  {
   "cell_type": "code",
   "execution_count": 29,
   "id": "9135d22b",
   "metadata": {},
   "outputs": [
    {
     "data": {
      "text/html": [
       "<div>\n",
       "<style scoped>\n",
       "    .dataframe tbody tr th:only-of-type {\n",
       "        vertical-align: middle;\n",
       "    }\n",
       "\n",
       "    .dataframe tbody tr th {\n",
       "        vertical-align: top;\n",
       "    }\n",
       "\n",
       "    .dataframe thead th {\n",
       "        text-align: right;\n",
       "    }\n",
       "</style>\n",
       "<table border=\"1\" class=\"dataframe\">\n",
       "  <thead>\n",
       "    <tr style=\"text-align: right;\">\n",
       "      <th></th>\n",
       "      <th>Database</th>\n",
       "      <th>Description</th>\n",
       "    </tr>\n",
       "  </thead>\n",
       "  <tbody>\n",
       "    <tr>\n",
       "      <th>0</th>\n",
       "      <td>default</td>\n",
       "      <td>Default Hive database</td>\n",
       "    </tr>\n",
       "    <tr>\n",
       "      <th>1</th>\n",
       "      <td>localhivedb</td>\n",
       "      <td></td>\n",
       "    </tr>\n",
       "    <tr>\n",
       "      <th>2</th>\n",
       "      <td>youtube_data</td>\n",
       "      <td></td>\n",
       "    </tr>\n",
       "  </tbody>\n",
       "</table>\n",
       "</div>"
      ],
      "text/plain": [
       "       Database            Description\n",
       "0       default  Default Hive database\n",
       "1   localhivedb                       \n",
       "2  youtube_data                       "
      ]
     },
     "execution_count": 29,
     "metadata": {},
     "output_type": "execute_result"
    }
   ],
   "source": [
    "wr.catalog.databases(boto3_session=your_session)"
   ]
  },
  {
   "cell_type": "code",
   "execution_count": 32,
   "id": "819fe2a2",
   "metadata": {},
   "outputs": [],
   "source": [
    "wr.catalog.create_database(name='learning_db',\n",
    "                           boto3_session=your_session)"
   ]
  },
  {
   "cell_type": "code",
   "execution_count": 33,
   "id": "782a5da6",
   "metadata": {},
   "outputs": [
    {
     "data": {
      "text/html": [
       "<div>\n",
       "<style scoped>\n",
       "    .dataframe tbody tr th:only-of-type {\n",
       "        vertical-align: middle;\n",
       "    }\n",
       "\n",
       "    .dataframe tbody tr th {\n",
       "        vertical-align: top;\n",
       "    }\n",
       "\n",
       "    .dataframe thead th {\n",
       "        text-align: right;\n",
       "    }\n",
       "</style>\n",
       "<table border=\"1\" class=\"dataframe\">\n",
       "  <thead>\n",
       "    <tr style=\"text-align: right;\">\n",
       "      <th></th>\n",
       "      <th>Database</th>\n",
       "      <th>Table</th>\n",
       "      <th>Description</th>\n",
       "      <th>TableType</th>\n",
       "      <th>Columns</th>\n",
       "      <th>Partitions</th>\n",
       "    </tr>\n",
       "  </thead>\n",
       "  <tbody>\n",
       "  </tbody>\n",
       "</table>\n",
       "</div>"
      ],
      "text/plain": [
       "Empty DataFrame\n",
       "Columns: [Database, Table, Description, TableType, Columns, Partitions]\n",
       "Index: []"
      ]
     },
     "execution_count": 33,
     "metadata": {},
     "output_type": "execute_result"
    }
   ],
   "source": [
    "# Create the new database which will have no tables now\n",
    "wr.catalog.tables(database='learning_db',\\\n",
    "                  boto3_session=your_session)"
   ]
  },
  {
   "cell_type": "markdown",
   "id": "94985633",
   "metadata": {},
   "source": [
    "#### Writing the above 2 dataframes into the Glue Catalog"
   ]
  },
  {
   "cell_type": "code",
   "execution_count": 34,
   "id": "74f7815d",
   "metadata": {},
   "outputs": [
    {
     "data": {
      "text/plain": [
       "{'paths': ['s3://destination-folder/earners/135e751a83f148a9a09b82f052d594b1.csv'],\n",
       " 'partitions_values': {}}"
      ]
     },
     "execution_count": 34,
     "metadata": {},
     "output_type": "execute_result"
    }
   ],
   "source": [
    "wr.s3.to_csv(df=earners_csv,\n",
    "        path=destination_bucket + '/earners',\n",
    "             database='learning_db',table='top_earners',\n",
    "             dataset=True,\n",
    "    boto3_session=your_session)"
   ]
  },
  {
   "cell_type": "code",
   "execution_count": 35,
   "id": "8a0bfcf9",
   "metadata": {},
   "outputs": [
    {
     "data": {
      "text/plain": [
       "{'paths': ['s3://destination-folder/jets/6b9abc63e78e4b3b8679fa5a8aa49b46.csv'],\n",
       " 'partitions_values': {}}"
      ]
     },
     "execution_count": 35,
     "metadata": {},
     "output_type": "execute_result"
    }
   ],
   "source": [
    "wr.s3.to_csv(df=earners_jets,\n",
    "        path=destination_bucket + '/jets',\n",
    "             database='learning_db',table='their_jets',\n",
    "             dataset=True,\n",
    "    boto3_session=your_session)"
   ]
  },
  {
   "cell_type": "code",
   "execution_count": 24,
   "id": "a2ce9cff",
   "metadata": {},
   "outputs": [
    {
     "data": {
      "text/plain": [
       "['s3://destination-folder/csv/3eeab4db07e14a9c8b3ffe013a1db840.csv',\n",
       " 's3://destination-folder/top_earners/1e3c702e9a434ccb894691c16c9425ea.csv']"
      ]
     },
     "execution_count": 24,
     "metadata": {},
     "output_type": "execute_result"
    }
   ],
   "source": [
    "# Verify the data is written using list_objects\n",
    "\n",
    "wr.s3.list_objects(destination_bucket,boto3_session=your_session)"
   ]
  },
  {
   "cell_type": "markdown",
   "id": "168d9b89",
   "metadata": {},
   "source": [
    "### Bringing in Athena \n",
    "\n",
    "## Very important : These queries are chargeable by AWS.\n",
    "\n",
    "1) Describing the above tables"
   ]
  },
  {
   "cell_type": "code",
   "execution_count": 36,
   "id": "0a030419",
   "metadata": {},
   "outputs": [
    {
     "data": {
      "text/html": [
       "<div>\n",
       "<style scoped>\n",
       "    .dataframe tbody tr th:only-of-type {\n",
       "        vertical-align: middle;\n",
       "    }\n",
       "\n",
       "    .dataframe tbody tr th {\n",
       "        vertical-align: top;\n",
       "    }\n",
       "\n",
       "    .dataframe thead th {\n",
       "        text-align: right;\n",
       "    }\n",
       "</style>\n",
       "<table border=\"1\" class=\"dataframe\">\n",
       "  <thead>\n",
       "    <tr style=\"text-align: right;\">\n",
       "      <th></th>\n",
       "      <th>Column Name</th>\n",
       "      <th>Type</th>\n",
       "      <th>Partition</th>\n",
       "      <th>Comment</th>\n",
       "    </tr>\n",
       "  </thead>\n",
       "  <tbody>\n",
       "    <tr>\n",
       "      <th>0</th>\n",
       "      <td>__index_level_0__</td>\n",
       "      <td>bigint</td>\n",
       "      <td>False</td>\n",
       "      <td></td>\n",
       "    </tr>\n",
       "    <tr>\n",
       "      <th>1</th>\n",
       "      <td>id</td>\n",
       "      <td>bigint</td>\n",
       "      <td>False</td>\n",
       "      <td></td>\n",
       "    </tr>\n",
       "    <tr>\n",
       "      <th>2</th>\n",
       "      <td>_personal_jet</td>\n",
       "      <td>string</td>\n",
       "      <td>False</td>\n",
       "      <td></td>\n",
       "    </tr>\n",
       "    <tr>\n",
       "      <th>3</th>\n",
       "      <td>_distance_covered</td>\n",
       "      <td>bigint</td>\n",
       "      <td>False</td>\n",
       "      <td></td>\n",
       "    </tr>\n",
       "  </tbody>\n",
       "</table>\n",
       "</div>"
      ],
      "text/plain": [
       "         Column Name    Type  Partition Comment\n",
       "0  __index_level_0__  bigint      False        \n",
       "1                 id  bigint      False        \n",
       "2      _personal_jet  string      False        \n",
       "3  _distance_covered  bigint      False        "
      ]
     },
     "execution_count": 36,
     "metadata": {},
     "output_type": "execute_result"
    }
   ],
   "source": [
    "wr.athena.describe_table(database='learning_db',table='their_jets',\n",
    "                         boto3_session=your_session)"
   ]
  },
  {
   "cell_type": "code",
   "execution_count": 37,
   "id": "c827d308",
   "metadata": {},
   "outputs": [
    {
     "data": {
      "text/html": [
       "<div>\n",
       "<style scoped>\n",
       "    .dataframe tbody tr th:only-of-type {\n",
       "        vertical-align: middle;\n",
       "    }\n",
       "\n",
       "    .dataframe tbody tr th {\n",
       "        vertical-align: top;\n",
       "    }\n",
       "\n",
       "    .dataframe thead th {\n",
       "        text-align: right;\n",
       "    }\n",
       "</style>\n",
       "<table border=\"1\" class=\"dataframe\">\n",
       "  <thead>\n",
       "    <tr style=\"text-align: right;\">\n",
       "      <th></th>\n",
       "      <th>Column Name</th>\n",
       "      <th>Type</th>\n",
       "      <th>Partition</th>\n",
       "      <th>Comment</th>\n",
       "    </tr>\n",
       "  </thead>\n",
       "  <tbody>\n",
       "    <tr>\n",
       "      <th>0</th>\n",
       "      <td>__index_level_0__</td>\n",
       "      <td>bigint</td>\n",
       "      <td>False</td>\n",
       "      <td></td>\n",
       "    </tr>\n",
       "    <tr>\n",
       "      <th>1</th>\n",
       "      <td>id</td>\n",
       "      <td>bigint</td>\n",
       "      <td>False</td>\n",
       "      <td></td>\n",
       "    </tr>\n",
       "    <tr>\n",
       "      <th>2</th>\n",
       "      <td>name</td>\n",
       "      <td>string</td>\n",
       "      <td>False</td>\n",
       "      <td></td>\n",
       "    </tr>\n",
       "    <tr>\n",
       "      <th>3</th>\n",
       "      <td>e_mail</td>\n",
       "      <td>string</td>\n",
       "      <td>False</td>\n",
       "      <td></td>\n",
       "    </tr>\n",
       "    <tr>\n",
       "      <th>4</th>\n",
       "      <td>salary</td>\n",
       "      <td>bigint</td>\n",
       "      <td>False</td>\n",
       "      <td></td>\n",
       "    </tr>\n",
       "    <tr>\n",
       "      <th>5</th>\n",
       "      <td>occupation</td>\n",
       "      <td>string</td>\n",
       "      <td>False</td>\n",
       "      <td></td>\n",
       "    </tr>\n",
       "  </tbody>\n",
       "</table>\n",
       "</div>"
      ],
      "text/plain": [
       "         Column Name    Type  Partition Comment\n",
       "0  __index_level_0__  bigint      False        \n",
       "1                 id  bigint      False        \n",
       "2               name  string      False        \n",
       "3             e_mail  string      False        \n",
       "4             salary  bigint      False        \n",
       "5         occupation  string      False        "
      ]
     },
     "execution_count": 37,
     "metadata": {},
     "output_type": "execute_result"
    }
   ],
   "source": [
    "wr.athena.describe_table(database='learning_db',table='top_earners',\n",
    "                         boto3_session=your_session)"
   ]
  },
  {
   "cell_type": "code",
   "execution_count": 38,
   "id": "33fe8c87",
   "metadata": {},
   "outputs": [
    {
     "data": {
      "text/html": [
       "<div>\n",
       "<style scoped>\n",
       "    .dataframe tbody tr th:only-of-type {\n",
       "        vertical-align: middle;\n",
       "    }\n",
       "\n",
       "    .dataframe tbody tr th {\n",
       "        vertical-align: top;\n",
       "    }\n",
       "\n",
       "    .dataframe thead th {\n",
       "        text-align: right;\n",
       "    }\n",
       "</style>\n",
       "<table border=\"1\" class=\"dataframe\">\n",
       "  <thead>\n",
       "    <tr style=\"text-align: right;\">\n",
       "      <th></th>\n",
       "      <th>__index_level_0__</th>\n",
       "      <th>id</th>\n",
       "      <th>name</th>\n",
       "      <th>e_mail</th>\n",
       "      <th>salary</th>\n",
       "      <th>occupation</th>\n",
       "    </tr>\n",
       "  </thead>\n",
       "  <tbody>\n",
       "    <tr>\n",
       "      <th>0</th>\n",
       "      <td>0</td>\n",
       "      <td>1</td>\n",
       "      <td>Joel</td>\n",
       "      <td>Joel@Athena.com</td>\n",
       "      <td>187069</td>\n",
       "      <td>Mathematician</td>\n",
       "    </tr>\n",
       "    <tr>\n",
       "      <th>1</th>\n",
       "      <td>1</td>\n",
       "      <td>2</td>\n",
       "      <td>Afro</td>\n",
       "      <td>Afro@Glue.aws.in</td>\n",
       "      <td>752689</td>\n",
       "      <td>Physicist</td>\n",
       "    </tr>\n",
       "    <tr>\n",
       "      <th>2</th>\n",
       "      <td>2</td>\n",
       "      <td>3</td>\n",
       "      <td>Beatles</td>\n",
       "      <td>beatles@lambda.com</td>\n",
       "      <td>975682</td>\n",
       "      <td>Algorist</td>\n",
       "    </tr>\n",
       "    <tr>\n",
       "      <th>3</th>\n",
       "      <td>3</td>\n",
       "      <td>4</td>\n",
       "      <td>Snoop Dog</td>\n",
       "      <td>snoopy@apigateway.com</td>\n",
       "      <td>752689</td>\n",
       "      <td>Artificial Rapper</td>\n",
       "    </tr>\n",
       "  </tbody>\n",
       "</table>\n",
       "</div>"
      ],
      "text/plain": [
       "   __index_level_0__  id       name                 e_mail  salary  \\\n",
       "0                  0   1       Joel        Joel@Athena.com  187069   \n",
       "1                  1   2       Afro       Afro@Glue.aws.in  752689   \n",
       "2                  2   3    Beatles     beatles@lambda.com  975682   \n",
       "3                  3   4  Snoop Dog  snoopy@apigateway.com  752689   \n",
       "\n",
       "          occupation  \n",
       "0      Mathematician  \n",
       "1          Physicist  \n",
       "2           Algorist  \n",
       "3  Artificial Rapper  "
      ]
     },
     "execution_count": 38,
     "metadata": {},
     "output_type": "execute_result"
    }
   ],
   "source": [
    "wr.athena.read_sql_query(sql='SELECT * FROM top_earners',\n",
    "                         boto3_session=your_session,database='learning_db')"
   ]
  },
  {
   "cell_type": "code",
   "execution_count": 39,
   "id": "02f5ea8d",
   "metadata": {
    "scrolled": true
   },
   "outputs": [],
   "source": [
    "list_execution = wr.athena.list_query_executions(boto3_session=your_session)"
   ]
  },
  {
   "cell_type": "code",
   "execution_count": 40,
   "id": "42e57747",
   "metadata": {},
   "outputs": [
    {
     "data": {
      "text/plain": [
       "104"
      ]
     },
     "execution_count": 40,
     "metadata": {},
     "output_type": "execute_result"
    }
   ],
   "source": [
    "#Number of queries to Athena\n",
    "len(list_execution)"
   ]
  },
  {
   "cell_type": "code",
   "execution_count": 42,
   "id": "55cffc01",
   "metadata": {},
   "outputs": [
    {
     "data": {
      "text/plain": [
       "'b32bf2d0-f573-4168-8316-8a1ac836ae88'"
      ]
     },
     "execution_count": 42,
     "metadata": {},
     "output_type": "execute_result"
    }
   ],
   "source": [
    "#Getting the last query_id\n",
    "list_execution[-1]"
   ]
  },
  {
   "cell_type": "code",
   "execution_count": 43,
   "id": "7d5cea1c",
   "metadata": {
    "scrolled": true
   },
   "outputs": [
    {
     "ename": "InvalidRequestException",
     "evalue": "An error occurred (InvalidRequestException) when calling the GetQueryResults operation: Could not find results",
     "output_type": "error",
     "traceback": [
      "\u001b[0;31m---------------------------------------------------------------------------\u001b[0m",
      "\u001b[0;31mInvalidRequestException\u001b[0m                   Traceback (most recent call last)",
      "Cell \u001b[0;32mIn[43], line 1\u001b[0m\n\u001b[0;32m----> 1\u001b[0m \u001b[43mwr\u001b[49m\u001b[38;5;241;43m.\u001b[39;49m\u001b[43mathena\u001b[49m\u001b[38;5;241;43m.\u001b[39;49m\u001b[43mget_query_results\u001b[49m\u001b[43m(\u001b[49m\u001b[43mboto3_session\u001b[49m\u001b[38;5;241;43m=\u001b[39;49m\u001b[43myour_session\u001b[49m\u001b[43m,\u001b[49m\n\u001b[1;32m      2\u001b[0m \u001b[43m                            \u001b[49m\u001b[43mquery_execution_id\u001b[49m\u001b[38;5;241;43m=\u001b[39;49m\u001b[38;5;124;43m'\u001b[39;49m\u001b[38;5;124;43mb32bf2d0-f573-4168-8316-8a1ac836ae88\u001b[39;49m\u001b[38;5;124;43m'\u001b[39;49m\u001b[43m)\u001b[49m\n",
      "File \u001b[0;32m~/.local/lib/python3.10/site-packages/awswrangler/_config.py:496\u001b[0m, in \u001b[0;36mapply_configs.<locals>.wrapper\u001b[0;34m(*args_raw, **kwargs)\u001b[0m\n\u001b[1;32m    494\u001b[0m         \u001b[38;5;28;01mdel\u001b[39;00m args[name]\n\u001b[1;32m    495\u001b[0m         args \u001b[38;5;241m=\u001b[39m {\u001b[38;5;241m*\u001b[39m\u001b[38;5;241m*\u001b[39margs, \u001b[38;5;241m*\u001b[39m\u001b[38;5;241m*\u001b[39mkeywords}\n\u001b[0;32m--> 496\u001b[0m \u001b[38;5;28;01mreturn\u001b[39;00m \u001b[43mfunction\u001b[49m\u001b[43m(\u001b[49m\u001b[38;5;241;43m*\u001b[39;49m\u001b[38;5;241;43m*\u001b[39;49m\u001b[43margs\u001b[49m\u001b[43m)\u001b[49m\n",
      "File \u001b[0;32m~/.local/lib/python3.10/site-packages/awswrangler/athena/_read.py:629\u001b[0m, in \u001b[0;36mget_query_results\u001b[0;34m(query_execution_id, use_threads, boto3_session, categories, chunksize, s3_additional_kwargs, pyarrow_additional_kwargs)\u001b[0m\n\u001b[1;32m    575\u001b[0m \u001b[38;5;129m@apply_configs\u001b[39m\n\u001b[1;32m    576\u001b[0m \u001b[38;5;28;01mdef\u001b[39;00m \u001b[38;5;21mget_query_results\u001b[39m(\n\u001b[1;32m    577\u001b[0m     query_execution_id: \u001b[38;5;28mstr\u001b[39m,\n\u001b[0;32m   (...)\u001b[0m\n\u001b[1;32m    583\u001b[0m     pyarrow_additional_kwargs: Optional[Dict[\u001b[38;5;28mstr\u001b[39m, Any]] \u001b[38;5;241m=\u001b[39m \u001b[38;5;28;01mNone\u001b[39;00m,\n\u001b[1;32m    584\u001b[0m ) \u001b[38;5;241m-\u001b[39m\u001b[38;5;241m>\u001b[39m Union[pd\u001b[38;5;241m.\u001b[39mDataFrame, Iterator[pd\u001b[38;5;241m.\u001b[39mDataFrame]]:\n\u001b[1;32m    585\u001b[0m     \u001b[38;5;124;03m\"\"\"Get AWS Athena SQL query results as a Pandas DataFrame.\u001b[39;00m\n\u001b[1;32m    586\u001b[0m \n\u001b[1;32m    587\u001b[0m \u001b[38;5;124;03m    Parameters\u001b[39;00m\n\u001b[0;32m   (...)\u001b[0m\n\u001b[1;32m    627\u001b[0m \n\u001b[1;32m    628\u001b[0m \u001b[38;5;124;03m    \"\"\"\u001b[39;00m\n\u001b[0;32m--> 629\u001b[0m     query_metadata: _QueryMetadata \u001b[38;5;241m=\u001b[39m \u001b[43m_get_query_metadata\u001b[49m\u001b[43m(\u001b[49m\n\u001b[1;32m    630\u001b[0m \u001b[43m        \u001b[49m\u001b[43mquery_execution_id\u001b[49m\u001b[38;5;241;43m=\u001b[39;49m\u001b[43mquery_execution_id\u001b[49m\u001b[43m,\u001b[49m\n\u001b[1;32m    631\u001b[0m \u001b[43m        \u001b[49m\u001b[43mboto3_session\u001b[49m\u001b[38;5;241;43m=\u001b[39;49m\u001b[43mboto3_session\u001b[49m\u001b[43m,\u001b[49m\n\u001b[1;32m    632\u001b[0m \u001b[43m        \u001b[49m\u001b[43mcategories\u001b[49m\u001b[38;5;241;43m=\u001b[39;49m\u001b[43mcategories\u001b[49m\u001b[43m,\u001b[49m\n\u001b[1;32m    633\u001b[0m \u001b[43m        \u001b[49m\u001b[43mmetadata_cache_manager\u001b[49m\u001b[38;5;241;43m=\u001b[39;49m\u001b[43m_cache_manager\u001b[49m\u001b[43m,\u001b[49m\n\u001b[1;32m    634\u001b[0m \u001b[43m    \u001b[49m\u001b[43m)\u001b[49m\n\u001b[1;32m    635\u001b[0m     client_athena: boto3\u001b[38;5;241m.\u001b[39mclient \u001b[38;5;241m=\u001b[39m _utils\u001b[38;5;241m.\u001b[39mclient(service_name\u001b[38;5;241m=\u001b[39m\u001b[38;5;124m\"\u001b[39m\u001b[38;5;124mathena\u001b[39m\u001b[38;5;124m\"\u001b[39m, session\u001b[38;5;241m=\u001b[39mboto3_session)\n\u001b[1;32m    636\u001b[0m     query_info: Dict[\u001b[38;5;28mstr\u001b[39m, Any] \u001b[38;5;241m=\u001b[39m client_athena\u001b[38;5;241m.\u001b[39mget_query_execution(QueryExecutionId\u001b[38;5;241m=\u001b[39mquery_execution_id)[\n\u001b[1;32m    637\u001b[0m         \u001b[38;5;124m\"\u001b[39m\u001b[38;5;124mQueryExecution\u001b[39m\u001b[38;5;124m\"\u001b[39m\n\u001b[1;32m    638\u001b[0m     ]\n",
      "File \u001b[0;32m~/.local/lib/python3.10/site-packages/awswrangler/athena/_utils.py:201\u001b[0m, in \u001b[0;36m_get_query_metadata\u001b[0;34m(query_execution_id, boto3_session, categories, query_execution_payload, metadata_cache_manager)\u001b[0m\n\u001b[1;32m    199\u001b[0m \u001b[38;5;28;01melse\u001b[39;00m:\n\u001b[1;32m    200\u001b[0m     _query_execution_payload \u001b[38;5;241m=\u001b[39m wait_query(query_execution_id\u001b[38;5;241m=\u001b[39mquery_execution_id, boto3_session\u001b[38;5;241m=\u001b[39mboto3_session)\n\u001b[0;32m--> 201\u001b[0m cols_types: Dict[\u001b[38;5;28mstr\u001b[39m, \u001b[38;5;28mstr\u001b[39m] \u001b[38;5;241m=\u001b[39m \u001b[43mget_query_columns_types\u001b[49m\u001b[43m(\u001b[49m\n\u001b[1;32m    202\u001b[0m \u001b[43m    \u001b[49m\u001b[43mquery_execution_id\u001b[49m\u001b[38;5;241;43m=\u001b[39;49m\u001b[43mquery_execution_id\u001b[49m\u001b[43m,\u001b[49m\u001b[43m \u001b[49m\u001b[43mboto3_session\u001b[49m\u001b[38;5;241;43m=\u001b[39;49m\u001b[43mboto3_session\u001b[49m\n\u001b[1;32m    203\u001b[0m \u001b[43m\u001b[49m\u001b[43m)\u001b[49m\n\u001b[1;32m    204\u001b[0m _logger\u001b[38;5;241m.\u001b[39mdebug(\u001b[38;5;124m\"\u001b[39m\u001b[38;5;124mcols_types: \u001b[39m\u001b[38;5;132;01m%s\u001b[39;00m\u001b[38;5;124m\"\u001b[39m, cols_types)\n\u001b[1;32m    205\u001b[0m dtype: Dict[\u001b[38;5;28mstr\u001b[39m, \u001b[38;5;28mstr\u001b[39m] \u001b[38;5;241m=\u001b[39m {}\n",
      "File \u001b[0;32m~/.local/lib/python3.10/site-packages/awswrangler/athena/_utils.py:323\u001b[0m, in \u001b[0;36mget_query_columns_types\u001b[0;34m(query_execution_id, boto3_session)\u001b[0m\n\u001b[1;32m    297\u001b[0m \u001b[38;5;124;03m\"\"\"Get the data type of all columns queried.\u001b[39;00m\n\u001b[1;32m    298\u001b[0m \n\u001b[1;32m    299\u001b[0m \u001b[38;5;124;03mhttps://docs.aws.amazon.com/athena/latest/ug/data-types.html\u001b[39;00m\n\u001b[0;32m   (...)\u001b[0m\n\u001b[1;32m    318\u001b[0m \n\u001b[1;32m    319\u001b[0m \u001b[38;5;124;03m\"\"\"\u001b[39;00m\n\u001b[1;32m    320\u001b[0m client_athena: boto3\u001b[38;5;241m.\u001b[39mclient \u001b[38;5;241m=\u001b[39m _utils\u001b[38;5;241m.\u001b[39mclient(\n\u001b[1;32m    321\u001b[0m     service_name\u001b[38;5;241m=\u001b[39m\u001b[38;5;124m\"\u001b[39m\u001b[38;5;124mathena\u001b[39m\u001b[38;5;124m\"\u001b[39m, session\u001b[38;5;241m=\u001b[39m_utils\u001b[38;5;241m.\u001b[39mensure_session(session\u001b[38;5;241m=\u001b[39mboto3_session)\n\u001b[1;32m    322\u001b[0m )\n\u001b[0;32m--> 323\u001b[0m response: Dict[\u001b[38;5;28mstr\u001b[39m, Any] \u001b[38;5;241m=\u001b[39m \u001b[43mclient_athena\u001b[49m\u001b[38;5;241;43m.\u001b[39;49m\u001b[43mget_query_results\u001b[49m\u001b[43m(\u001b[49m\u001b[43mQueryExecutionId\u001b[49m\u001b[38;5;241;43m=\u001b[39;49m\u001b[43mquery_execution_id\u001b[49m\u001b[43m,\u001b[49m\u001b[43m \u001b[49m\u001b[43mMaxResults\u001b[49m\u001b[38;5;241;43m=\u001b[39;49m\u001b[38;5;241;43m1\u001b[39;49m\u001b[43m)\u001b[49m\n\u001b[1;32m    324\u001b[0m col_info: List[Dict[\u001b[38;5;28mstr\u001b[39m, \u001b[38;5;28mstr\u001b[39m]] \u001b[38;5;241m=\u001b[39m response[\u001b[38;5;124m\"\u001b[39m\u001b[38;5;124mResultSet\u001b[39m\u001b[38;5;124m\"\u001b[39m][\u001b[38;5;124m\"\u001b[39m\u001b[38;5;124mResultSetMetadata\u001b[39m\u001b[38;5;124m\"\u001b[39m][\u001b[38;5;124m\"\u001b[39m\u001b[38;5;124mColumnInfo\u001b[39m\u001b[38;5;124m\"\u001b[39m]\n\u001b[1;32m    325\u001b[0m \u001b[38;5;28;01mreturn\u001b[39;00m \u001b[38;5;28mdict\u001b[39m(\n\u001b[1;32m    326\u001b[0m     (c[\u001b[38;5;124m\"\u001b[39m\u001b[38;5;124mName\u001b[39m\u001b[38;5;124m\"\u001b[39m], \u001b[38;5;124mf\u001b[39m\u001b[38;5;124m\"\u001b[39m\u001b[38;5;132;01m{\u001b[39;00mc[\u001b[38;5;124m'\u001b[39m\u001b[38;5;124mType\u001b[39m\u001b[38;5;124m'\u001b[39m]\u001b[38;5;132;01m}\u001b[39;00m\u001b[38;5;124m(\u001b[39m\u001b[38;5;132;01m{\u001b[39;00mc[\u001b[38;5;124m'\u001b[39m\u001b[38;5;124mPrecision\u001b[39m\u001b[38;5;124m'\u001b[39m]\u001b[38;5;132;01m}\u001b[39;00m\u001b[38;5;124m,\u001b[39m\u001b[38;5;132;01m{\u001b[39;00mc\u001b[38;5;241m.\u001b[39mget(\u001b[38;5;124m'\u001b[39m\u001b[38;5;124mScale\u001b[39m\u001b[38;5;124m'\u001b[39m, \u001b[38;5;241m0\u001b[39m)\u001b[38;5;132;01m}\u001b[39;00m\u001b[38;5;124m)\u001b[39m\u001b[38;5;124m\"\u001b[39m)\n\u001b[1;32m    327\u001b[0m     \u001b[38;5;28;01mif\u001b[39;00m c[\u001b[38;5;124m\"\u001b[39m\u001b[38;5;124mType\u001b[39m\u001b[38;5;124m\"\u001b[39m] \u001b[38;5;129;01min\u001b[39;00m [\u001b[38;5;124m\"\u001b[39m\u001b[38;5;124mdecimal\u001b[39m\u001b[38;5;124m\"\u001b[39m]\n\u001b[1;32m    328\u001b[0m     \u001b[38;5;28;01melse\u001b[39;00m (c[\u001b[38;5;124m\"\u001b[39m\u001b[38;5;124mName\u001b[39m\u001b[38;5;124m\"\u001b[39m], c[\u001b[38;5;124m\"\u001b[39m\u001b[38;5;124mType\u001b[39m\u001b[38;5;124m\"\u001b[39m])\n\u001b[1;32m    329\u001b[0m     \u001b[38;5;28;01mfor\u001b[39;00m c \u001b[38;5;129;01min\u001b[39;00m col_info\n\u001b[1;32m    330\u001b[0m )\n",
      "File \u001b[0;32m~/.local/lib/python3.10/site-packages/botocore/client.py:507\u001b[0m, in \u001b[0;36mClientCreator._create_api_method.<locals>._api_call\u001b[0;34m(self, *args, **kwargs)\u001b[0m\n\u001b[1;32m    503\u001b[0m     \u001b[38;5;28;01mraise\u001b[39;00m \u001b[38;5;167;01mTypeError\u001b[39;00m(\n\u001b[1;32m    504\u001b[0m         \u001b[38;5;124mf\u001b[39m\u001b[38;5;124m\"\u001b[39m\u001b[38;5;132;01m{\u001b[39;00mpy_operation_name\u001b[38;5;132;01m}\u001b[39;00m\u001b[38;5;124m() only accepts keyword arguments.\u001b[39m\u001b[38;5;124m\"\u001b[39m\n\u001b[1;32m    505\u001b[0m     )\n\u001b[1;32m    506\u001b[0m \u001b[38;5;66;03m# The \"self\" in this scope is referring to the BaseClient.\u001b[39;00m\n\u001b[0;32m--> 507\u001b[0m \u001b[38;5;28;01mreturn\u001b[39;00m \u001b[38;5;28;43mself\u001b[39;49m\u001b[38;5;241;43m.\u001b[39;49m\u001b[43m_make_api_call\u001b[49m\u001b[43m(\u001b[49m\u001b[43moperation_name\u001b[49m\u001b[43m,\u001b[49m\u001b[43m \u001b[49m\u001b[43mkwargs\u001b[49m\u001b[43m)\u001b[49m\n",
      "File \u001b[0;32m~/.local/lib/python3.10/site-packages/botocore/client.py:943\u001b[0m, in \u001b[0;36mBaseClient._make_api_call\u001b[0;34m(self, operation_name, api_params)\u001b[0m\n\u001b[1;32m    941\u001b[0m     error_code \u001b[38;5;241m=\u001b[39m parsed_response\u001b[38;5;241m.\u001b[39mget(\u001b[38;5;124m\"\u001b[39m\u001b[38;5;124mError\u001b[39m\u001b[38;5;124m\"\u001b[39m, {})\u001b[38;5;241m.\u001b[39mget(\u001b[38;5;124m\"\u001b[39m\u001b[38;5;124mCode\u001b[39m\u001b[38;5;124m\"\u001b[39m)\n\u001b[1;32m    942\u001b[0m     error_class \u001b[38;5;241m=\u001b[39m \u001b[38;5;28mself\u001b[39m\u001b[38;5;241m.\u001b[39mexceptions\u001b[38;5;241m.\u001b[39mfrom_code(error_code)\n\u001b[0;32m--> 943\u001b[0m     \u001b[38;5;28;01mraise\u001b[39;00m error_class(parsed_response, operation_name)\n\u001b[1;32m    944\u001b[0m \u001b[38;5;28;01melse\u001b[39;00m:\n\u001b[1;32m    945\u001b[0m     \u001b[38;5;28;01mreturn\u001b[39;00m parsed_response\n",
      "\u001b[0;31mInvalidRequestException\u001b[0m: An error occurred (InvalidRequestException) when calling the GetQueryResults operation: Could not find results"
     ]
    }
   ],
   "source": [
    "wr.athena.get_query_results(boto3_session=your_session,\n",
    "                            query_execution_id='b32bf2d0-f573-4168-8316-8a1ac836ae88')"
   ]
  },
  {
   "cell_type": "code",
   "execution_count": 44,
   "id": "9a1f835f",
   "metadata": {},
   "outputs": [
    {
     "data": {
      "text/plain": [
       "\"CREATE EXTERNAL TABLE `their_jets`( `__index_level_0__` bigint, `id` bigint, `_personal_jet` string, `_distance_covered` bigint) ROW FORMAT DELIMITED FIELDS TERMINATED BY ',' WITH SERDEPROPERTIES ( 'escape.delim'='\\\\\\\\') STORED AS INPUTFORMAT 'org.apache.hadoop.mapred.TextInputFormat' OUTPUTFORMAT 'org.apache.hadoop.hive.ql.io.HiveIgnoreKeyTextOutputFormat' LOCATION 's3://destination-folder/jets' TBLPROPERTIES ( 'areColumnsQuoted'='false', 'classification'='csv', 'columnsOrdered'='true', 'compressionType'='none', 'delimiter'=',', 'projection.enabled'='false', 'typeOfData'='file')\""
      ]
     },
     "execution_count": 44,
     "metadata": {},
     "output_type": "execute_result"
    }
   ],
   "source": [
    "wr.athena.show_create_table(table='their_jets',\n",
    "                            database='learning_db',\n",
    "                           boto3_session=your_session)"
   ]
  },
  {
   "cell_type": "code",
   "execution_count": 47,
   "id": "563bb5cd",
   "metadata": {},
   "outputs": [
    {
     "data": {
      "text/plain": [
       "['s3://destination-folder/joined_table/tables/98776d83-13f7-4563-86fe-ab5c46688d6c-manifest.csv',\n",
       " 's3://destination-folder/joined_table/tables/98776d83-13f7-4563-86fe-ab5c46688d6c.metadata',\n",
       " 's3://destination-folder/joined_table/temp_table_94fef8978bfc43feb930bea9b87dd2c2/20230223_060506_00011_c7z7e_75760ae5-8cf7-415b-a954-3d7c20ef5790']"
      ]
     },
     "execution_count": 47,
     "metadata": {},
     "output_type": "execute_result"
    }
   ],
   "source": [
    "wr.s3.list_objects(path=destination_bucket+'/joined_table',\n",
    "                  boto3_session=your_session)"
   ]
  },
  {
   "cell_type": "code",
   "execution_count": 45,
   "id": "3807d170",
   "metadata": {},
   "outputs": [],
   "source": [
    "joined_df = wr.athena.read_sql_query(sql=\"\"\"SELECT t.id, t.e_mail,\n",
    "                            salary,occupation,j._distance_covered, \n",
    "                            j._personal_jet\n",
    "                            FROM their_jets as j\n",
    "                            JOIN top_earners as t \n",
    "                            ON j.id = t.id\"\"\",\n",
    "                        database='learning_db',\n",
    "                        s3_output=destination_bucket+'/joined_table',\n",
    "                         boto3_session=your_session)"
   ]
  },
  {
   "cell_type": "code",
   "execution_count": 46,
   "id": "2cf13d77",
   "metadata": {},
   "outputs": [
    {
     "data": {
      "text/html": [
       "<div>\n",
       "<style scoped>\n",
       "    .dataframe tbody tr th:only-of-type {\n",
       "        vertical-align: middle;\n",
       "    }\n",
       "\n",
       "    .dataframe tbody tr th {\n",
       "        vertical-align: top;\n",
       "    }\n",
       "\n",
       "    .dataframe thead th {\n",
       "        text-align: right;\n",
       "    }\n",
       "</style>\n",
       "<table border=\"1\" class=\"dataframe\">\n",
       "  <thead>\n",
       "    <tr style=\"text-align: right;\">\n",
       "      <th></th>\n",
       "      <th>id</th>\n",
       "      <th>e_mail</th>\n",
       "      <th>salary</th>\n",
       "      <th>occupation</th>\n",
       "      <th>_distance_covered</th>\n",
       "      <th>_personal_jet</th>\n",
       "    </tr>\n",
       "  </thead>\n",
       "  <tbody>\n",
       "    <tr>\n",
       "      <th>0</th>\n",
       "      <td>1</td>\n",
       "      <td>Joel@Athena.com</td>\n",
       "      <td>187069</td>\n",
       "      <td>Mathematician</td>\n",
       "      <td>589865</td>\n",
       "      <td>Jet 777x</td>\n",
       "    </tr>\n",
       "    <tr>\n",
       "      <th>1</th>\n",
       "      <td>2</td>\n",
       "      <td>Afro@Glue.aws.in</td>\n",
       "      <td>752689</td>\n",
       "      <td>Physicist</td>\n",
       "      <td>7987856</td>\n",
       "      <td>Global 7500</td>\n",
       "    </tr>\n",
       "    <tr>\n",
       "      <th>2</th>\n",
       "      <td>3</td>\n",
       "      <td>beatles@lambda.com</td>\n",
       "      <td>975682</td>\n",
       "      <td>Algorist</td>\n",
       "      <td>5125768</td>\n",
       "      <td>Falcon 8X</td>\n",
       "    </tr>\n",
       "    <tr>\n",
       "      <th>3</th>\n",
       "      <td>4</td>\n",
       "      <td>snoopy@apigateway.com</td>\n",
       "      <td>752689</td>\n",
       "      <td>Artificial Rapper</td>\n",
       "      <td>312687</td>\n",
       "      <td>Phenom 300</td>\n",
       "    </tr>\n",
       "  </tbody>\n",
       "</table>\n",
       "</div>"
      ],
      "text/plain": [
       "   id                 e_mail  salary         occupation  _distance_covered  \\\n",
       "0   1        Joel@Athena.com  187069      Mathematician             589865   \n",
       "1   2       Afro@Glue.aws.in  752689          Physicist            7987856   \n",
       "2   3     beatles@lambda.com  975682           Algorist            5125768   \n",
       "3   4  snoopy@apigateway.com  752689  Artificial Rapper             312687   \n",
       "\n",
       "  _personal_jet  \n",
       "0      Jet 777x  \n",
       "1   Global 7500  \n",
       "2     Falcon 8X  \n",
       "3    Phenom 300  "
      ]
     },
     "execution_count": 46,
     "metadata": {},
     "output_type": "execute_result"
    }
   ],
   "source": [
    "joined_df"
   ]
  },
  {
   "cell_type": "code",
   "execution_count": 13,
   "id": "9176deb0",
   "metadata": {},
   "outputs": [
    {
     "data": {
      "text/plain": [
       "[]"
      ]
     },
     "execution_count": 13,
     "metadata": {},
     "output_type": "execute_result"
    }
   ],
   "source": [
    "wr.s3.list_objects(path=destination_bucket,\n",
    "                   boto3_session=your_session)"
   ]
  },
  {
   "cell_type": "code",
   "execution_count": null,
   "id": "a83e70f5",
   "metadata": {},
   "outputs": [],
   "source": [
    "### This query will not work\n",
    "#wr.athena.read_sql_query(sql='SELECT * FROM jets_earners',\n",
    " #                       boto3_session=your_session,\n",
    "  #                       database='learning_db',\n",
    "   #                      data_source=destination_bucket+\"/joined_table\")"
   ]
  },
  {
   "cell_type": "code",
   "execution_count": 48,
   "id": "e8ca0daa",
   "metadata": {},
   "outputs": [
    {
     "data": {
      "text/plain": [
       "_QueryMetadata(execution_id='4fd4a8ff-3325-4805-a87a-cd73d3ed7870', dtype={'rows': 'Int64'}, parse_timestamps=[], parse_dates=[], converters={}, binaries=[], output_location='s3://destination-folder/unload_location/4fd4a8ff-3325-4805-a87a-cd73d3ed7870', manifest_location='s3://destination-folder/unload_location/4fd4a8ff-3325-4805-a87a-cd73d3ed7870-manifest.csv', raw_payload={'QueryExecutionId': '4fd4a8ff-3325-4805-a87a-cd73d3ed7870', 'Query': \"UNLOAD (SELECT t.id, t.e_mail,\\n                            salary,occupation,j._distance_covered, \\n                            j._personal_jet\\n                            FROM their_jets as j\\n                            JOIN top_earners as t \\n                            ON j.id = t.id) TO 's3://destination-folder/unload_location' WITH (  format='PARQUET')\", 'StatementType': 'DML', 'ResultConfiguration': {'OutputLocation': 's3://destination-folder/unload_location/4fd4a8ff-3325-4805-a87a-cd73d3ed7870'}, 'QueryExecutionContext': {'Database': 'learning_db'}, 'Status': {'State': 'SUCCEEDED', 'SubmissionDateTime': datetime.datetime(2023, 2, 23, 11, 37, 34, 282000, tzinfo=tzlocal()), 'CompletionDateTime': datetime.datetime(2023, 2, 23, 11, 37, 35, 657000, tzinfo=tzlocal())}, 'Statistics': {'EngineExecutionTimeInMillis': 1213, 'DataScannedInBytes': 289, 'DataManifestLocation': 's3://destination-folder/unload_location/4fd4a8ff-3325-4805-a87a-cd73d3ed7870-manifest.csv', 'TotalExecutionTimeInMillis': 1375, 'QueryQueueTimeInMillis': 139, 'QueryPlanningTimeInMillis': 184, 'ServiceProcessingTimeInMillis': 23}, 'WorkGroup': 'primary', 'EngineVersion': {'SelectedEngineVersion': 'AUTO', 'EffectiveEngineVersion': 'Athena engine version 2'}})"
      ]
     },
     "execution_count": 48,
     "metadata": {},
     "output_type": "execute_result"
    }
   ],
   "source": [
    "wr.athena.unload(sql=\"\"\"SELECT t.id, t.e_mail,\n",
    "                            salary,occupation,j._distance_covered, \n",
    "                            j._personal_jet\n",
    "                            FROM their_jets as j\n",
    "                            JOIN top_earners as t \n",
    "                            ON j.id = t.id\"\"\",\n",
    "                        database='learning_db',\n",
    "                        path=destination_bucket+'/unload_location',\n",
    "                         boto3_session=your_session)"
   ]
  },
  {
   "cell_type": "markdown",
   "id": "4d35fd98",
   "metadata": {},
   "source": [
    "#### Cleaning up the files"
   ]
  },
  {
   "cell_type": "code",
   "execution_count": 51,
   "id": "b6a6902a",
   "metadata": {},
   "outputs": [],
   "source": [
    "wr.catalog.delete_database(boto3_session=your_session,\n",
    "                           name='learning_db')"
   ]
  },
  {
   "cell_type": "code",
   "execution_count": 52,
   "id": "413bf644",
   "metadata": {},
   "outputs": [],
   "source": [
    "wr.s3.delete_objects(path=destination_bucket,boto3_session=your_session)"
   ]
  },
  {
   "cell_type": "code",
   "execution_count": 49,
   "id": "755a98c1",
   "metadata": {},
   "outputs": [
    {
     "data": {
      "text/plain": [
       "['s3://destination-folder/unload_location/20230223_060734_00048_9np7p_6e4d1eca-c3ec-4f94-8ba3-de86f6599d61',\n",
       " 's3://destination-folder/unload_location/4fd4a8ff-3325-4805-a87a-cd73d3ed7870-manifest.csv',\n",
       " 's3://destination-folder/unload_location/4fd4a8ff-3325-4805-a87a-cd73d3ed7870.metadata']"
      ]
     },
     "execution_count": 49,
     "metadata": {},
     "output_type": "execute_result"
    }
   ],
   "source": [
    "# Verify the data is written using list_objects\n",
    "\n",
    "wr.s3.list_objects(destination_bucket+\"/unload_location\",boto3_session=your_session)"
   ]
  },
  {
   "cell_type": "code",
   "execution_count": 50,
   "id": "45fcee04",
   "metadata": {},
   "outputs": [
    {
     "data": {
      "text/html": [
       "<div>\n",
       "<style scoped>\n",
       "    .dataframe tbody tr th:only-of-type {\n",
       "        vertical-align: middle;\n",
       "    }\n",
       "\n",
       "    .dataframe tbody tr th {\n",
       "        vertical-align: top;\n",
       "    }\n",
       "\n",
       "    .dataframe thead th {\n",
       "        text-align: right;\n",
       "    }\n",
       "</style>\n",
       "<table border=\"1\" class=\"dataframe\">\n",
       "  <thead>\n",
       "    <tr style=\"text-align: right;\">\n",
       "      <th></th>\n",
       "      <th>id</th>\n",
       "      <th>e_mail</th>\n",
       "      <th>salary</th>\n",
       "      <th>occupation</th>\n",
       "      <th>_distance_covered</th>\n",
       "      <th>_personal_jet</th>\n",
       "    </tr>\n",
       "  </thead>\n",
       "  <tbody>\n",
       "    <tr>\n",
       "      <th>0</th>\n",
       "      <td>1</td>\n",
       "      <td>Joel@Athena.com</td>\n",
       "      <td>187069</td>\n",
       "      <td>Mathematician</td>\n",
       "      <td>589865</td>\n",
       "      <td>Jet 777x</td>\n",
       "    </tr>\n",
       "    <tr>\n",
       "      <th>1</th>\n",
       "      <td>2</td>\n",
       "      <td>Afro@Glue.aws.in</td>\n",
       "      <td>752689</td>\n",
       "      <td>Physicist</td>\n",
       "      <td>7987856</td>\n",
       "      <td>Global 7500</td>\n",
       "    </tr>\n",
       "    <tr>\n",
       "      <th>2</th>\n",
       "      <td>3</td>\n",
       "      <td>beatles@lambda.com</td>\n",
       "      <td>975682</td>\n",
       "      <td>Algorist</td>\n",
       "      <td>5125768</td>\n",
       "      <td>Falcon 8X</td>\n",
       "    </tr>\n",
       "    <tr>\n",
       "      <th>3</th>\n",
       "      <td>4</td>\n",
       "      <td>snoopy@apigateway.com</td>\n",
       "      <td>752689</td>\n",
       "      <td>Artificial Rapper</td>\n",
       "      <td>312687</td>\n",
       "      <td>Phenom 300</td>\n",
       "    </tr>\n",
       "  </tbody>\n",
       "</table>\n",
       "</div>"
      ],
      "text/plain": [
       "   id                 e_mail  salary         occupation  _distance_covered  \\\n",
       "0   1        Joel@Athena.com  187069      Mathematician             589865   \n",
       "1   2       Afro@Glue.aws.in  752689          Physicist            7987856   \n",
       "2   3     beatles@lambda.com  975682           Algorist            5125768   \n",
       "3   4  snoopy@apigateway.com  752689  Artificial Rapper             312687   \n",
       "\n",
       "  _personal_jet  \n",
       "0      Jet 777x  \n",
       "1   Global 7500  \n",
       "2     Falcon 8X  \n",
       "3    Phenom 300  "
      ]
     },
     "execution_count": 50,
     "metadata": {},
     "output_type": "execute_result"
    }
   ],
   "source": [
    "new_parquet = destination_bucket + '/unload_location/20230223_060734_00048_9np7p_6e4d1eca-c3ec-4f94-8ba3-de86f6599d61'\n",
    "joined_table = wr.s3.read_parquet(path=new_parquet,boto3_session=your_session)\n",
    "joined_table"
   ]
  },
  {
   "cell_type": "code",
   "execution_count": 53,
   "id": "3be243c0",
   "metadata": {},
   "outputs": [],
   "source": [
    "wr.s3.delete_objects(path=destination_bucket+'/unload_location',boto3_session=your_session)"
   ]
  }
 ],
 "metadata": {
  "kernelspec": {
   "display_name": "Python 3 (ipykernel)",
   "language": "python",
   "name": "python3"
  },
  "language_info": {
   "codemirror_mode": {
    "name": "ipython",
    "version": 3
   },
   "file_extension": ".py",
   "mimetype": "text/x-python",
   "name": "python",
   "nbconvert_exporter": "python",
   "pygments_lexer": "ipython3",
   "version": "3.10.8"
  }
 },
 "nbformat": 4,
 "nbformat_minor": 5
}
