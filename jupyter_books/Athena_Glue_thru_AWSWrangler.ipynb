{
 "cells": [
  {
   "cell_type": "markdown",
   "id": "83e48b3a",
   "metadata": {},
   "source": [
    "### Querying Athena and Glue through AWS Wrangler"
   ]
  },
  {
   "cell_type": "code",
   "execution_count": 40,
   "id": "dfae5969",
   "metadata": {},
   "outputs": [],
   "source": [
    "#import below libraries\n",
    "import awswrangler as wr\n",
    "import pandas as pd\n",
    "import boto3\n",
    "import warnings \n",
    "warnings.filterwarnings('ignore')\n",
    "import configparser"
   ]
  },
  {
   "cell_type": "code",
   "execution_count": 41,
   "id": "ea4583f6",
   "metadata": {},
   "outputs": [],
   "source": [
    "#reading the credentials securely.\n",
    "credents = configparser.ConfigParser()"
   ]
  },
  {
   "cell_type": "code",
   "execution_count": 42,
   "id": "6dc2cbdc",
   "metadata": {},
   "outputs": [],
   "source": [
    "#use read_file method\n",
    "credents.read_file(open('credentials.config'))"
   ]
  },
  {
   "cell_type": "code",
   "execution_count": 43,
   "id": "aae18d56",
   "metadata": {},
   "outputs": [],
   "source": [
    "#Reading in the credentials into Python variables. No can see them\n",
    "aws_key = credents[\"AWS\"][\"KEY\"]\n",
    "aws_secret = credents[\"AWS\"][\"SECRET\"]\n",
    "region = credents[\"AWS\"][\"REGION\"]"
   ]
  },
  {
   "cell_type": "code",
   "execution_count": 44,
   "id": "f5f06721",
   "metadata": {},
   "outputs": [],
   "source": [
    "#Creating the Session\n",
    "your_session = boto3.Session(aws_access_key_id=aws_key,\n",
    "                            aws_secret_access_key=aws_secret,\n",
    "                            region_name=region)"
   ]
  },
  {
   "cell_type": "code",
   "execution_count": 45,
   "id": "5536d4ae",
   "metadata": {},
   "outputs": [],
   "source": [
    "destination_bucket = \"s3://destination-folder\""
   ]
  },
  {
   "cell_type": "code",
   "execution_count": 46,
   "id": "383ced0b",
   "metadata": {},
   "outputs": [
    {
     "data": {
      "text/plain": [
       "[]"
      ]
     },
     "execution_count": 46,
     "metadata": {},
     "output_type": "execute_result"
    }
   ],
   "source": [
    "wr.s3.list_objects(boto3_session=your_session,\n",
    "                   path=destination_bucket)"
   ]
  },
  {
   "cell_type": "markdown",
   "id": "659e9aa2",
   "metadata": {},
   "source": [
    "### Writing pandas Dataframe to S3"
   ]
  },
  {
   "cell_type": "code",
   "execution_count": 47,
   "id": "5f952ade",
   "metadata": {},
   "outputs": [
    {
     "data": {
      "text/html": [
       "<div>\n",
       "<style scoped>\n",
       "    .dataframe tbody tr th:only-of-type {\n",
       "        vertical-align: middle;\n",
       "    }\n",
       "\n",
       "    .dataframe tbody tr th {\n",
       "        vertical-align: top;\n",
       "    }\n",
       "\n",
       "    .dataframe thead th {\n",
       "        text-align: right;\n",
       "    }\n",
       "</style>\n",
       "<table border=\"1\" class=\"dataframe\">\n",
       "  <thead>\n",
       "    <tr style=\"text-align: right;\">\n",
       "      <th></th>\n",
       "      <th>id</th>\n",
       "      <th>name</th>\n",
       "      <th>E-mail</th>\n",
       "      <th>Salary</th>\n",
       "      <th>occupation</th>\n",
       "    </tr>\n",
       "  </thead>\n",
       "  <tbody>\n",
       "    <tr>\n",
       "      <th>0</th>\n",
       "      <td>1</td>\n",
       "      <td>Joel</td>\n",
       "      <td>Joel@Athena.com</td>\n",
       "      <td>187069</td>\n",
       "      <td>Mathematician</td>\n",
       "    </tr>\n",
       "    <tr>\n",
       "      <th>1</th>\n",
       "      <td>2</td>\n",
       "      <td>Afro</td>\n",
       "      <td>Afro@Glue.aws.in</td>\n",
       "      <td>752689</td>\n",
       "      <td>Physicist</td>\n",
       "    </tr>\n",
       "    <tr>\n",
       "      <th>2</th>\n",
       "      <td>3</td>\n",
       "      <td>Beatles</td>\n",
       "      <td>beatles@lambda.com</td>\n",
       "      <td>975682</td>\n",
       "      <td>Algorist</td>\n",
       "    </tr>\n",
       "    <tr>\n",
       "      <th>3</th>\n",
       "      <td>4</td>\n",
       "      <td>Snoop Dog</td>\n",
       "      <td>snoopy@apigateway.com</td>\n",
       "      <td>752689</td>\n",
       "      <td>Artificial Rapper</td>\n",
       "    </tr>\n",
       "  </tbody>\n",
       "</table>\n",
       "</div>"
      ],
      "text/plain": [
       "   id       name                 E-mail  Salary         occupation\n",
       "0   1       Joel        Joel@Athena.com  187069      Mathematician\n",
       "1   2       Afro       Afro@Glue.aws.in  752689          Physicist\n",
       "2   3    Beatles     beatles@lambda.com  975682           Algorist\n",
       "3   4  Snoop Dog  snoopy@apigateway.com  752689  Artificial Rapper"
      ]
     },
     "execution_count": 47,
     "metadata": {},
     "output_type": "execute_result"
    }
   ],
   "source": [
    "earners_csv = pd.read_csv(\"source_folder/top_earners_list.csv\")\n",
    "earners_csv"
   ]
  },
  {
   "cell_type": "code",
   "execution_count": 48,
   "id": "cb079b71",
   "metadata": {},
   "outputs": [
    {
     "data": {
      "text/html": [
       "<div>\n",
       "<style scoped>\n",
       "    .dataframe tbody tr th:only-of-type {\n",
       "        vertical-align: middle;\n",
       "    }\n",
       "\n",
       "    .dataframe tbody tr th {\n",
       "        vertical-align: top;\n",
       "    }\n",
       "\n",
       "    .dataframe thead th {\n",
       "        text-align: right;\n",
       "    }\n",
       "</style>\n",
       "<table border=\"1\" class=\"dataframe\">\n",
       "  <thead>\n",
       "    <tr style=\"text-align: right;\">\n",
       "      <th></th>\n",
       "      <th>id</th>\n",
       "      <th>personal_jet</th>\n",
       "      <th>distance_covered</th>\n",
       "    </tr>\n",
       "  </thead>\n",
       "  <tbody>\n",
       "    <tr>\n",
       "      <th>0</th>\n",
       "      <td>1</td>\n",
       "      <td>Jet 777x</td>\n",
       "      <td>589865</td>\n",
       "    </tr>\n",
       "    <tr>\n",
       "      <th>1</th>\n",
       "      <td>2</td>\n",
       "      <td>Global 7500</td>\n",
       "      <td>7987856</td>\n",
       "    </tr>\n",
       "    <tr>\n",
       "      <th>2</th>\n",
       "      <td>3</td>\n",
       "      <td>Falcon 8X</td>\n",
       "      <td>5125768</td>\n",
       "    </tr>\n",
       "    <tr>\n",
       "      <th>3</th>\n",
       "      <td>4</td>\n",
       "      <td>Phenom 300</td>\n",
       "      <td>312687</td>\n",
       "    </tr>\n",
       "  </tbody>\n",
       "</table>\n",
       "</div>"
      ],
      "text/plain": [
       "   id  personal_jet   distance_covered\n",
       "0   1      Jet 777x             589865\n",
       "1   2   Global 7500            7987856\n",
       "2   3     Falcon 8X            5125768\n",
       "3   4    Phenom 300             312687"
      ]
     },
     "execution_count": 48,
     "metadata": {},
     "output_type": "execute_result"
    }
   ],
   "source": [
    "earners_jets = pd.read_csv(\"source_folder/earners_jets.csv\")\n",
    "earners_jets"
   ]
  },
  {
   "cell_type": "markdown",
   "id": "7bd8d2ca",
   "metadata": {},
   "source": [
    "## Create new database"
   ]
  },
  {
   "cell_type": "code",
   "execution_count": 49,
   "id": "9135d22b",
   "metadata": {},
   "outputs": [
    {
     "data": {
      "text/html": [
       "<div>\n",
       "<style scoped>\n",
       "    .dataframe tbody tr th:only-of-type {\n",
       "        vertical-align: middle;\n",
       "    }\n",
       "\n",
       "    .dataframe tbody tr th {\n",
       "        vertical-align: top;\n",
       "    }\n",
       "\n",
       "    .dataframe thead th {\n",
       "        text-align: right;\n",
       "    }\n",
       "</style>\n",
       "<table border=\"1\" class=\"dataframe\">\n",
       "  <thead>\n",
       "    <tr style=\"text-align: right;\">\n",
       "      <th></th>\n",
       "      <th>Database</th>\n",
       "      <th>Description</th>\n",
       "    </tr>\n",
       "  </thead>\n",
       "  <tbody>\n",
       "    <tr>\n",
       "      <th>0</th>\n",
       "      <td>default</td>\n",
       "      <td>Default Hive database</td>\n",
       "    </tr>\n",
       "    <tr>\n",
       "      <th>1</th>\n",
       "      <td>localhivedb</td>\n",
       "      <td></td>\n",
       "    </tr>\n",
       "    <tr>\n",
       "      <th>2</th>\n",
       "      <td>youtube_data</td>\n",
       "      <td></td>\n",
       "    </tr>\n",
       "  </tbody>\n",
       "</table>\n",
       "</div>"
      ],
      "text/plain": [
       "       Database            Description\n",
       "0       default  Default Hive database\n",
       "1   localhivedb                       \n",
       "2  youtube_data                       "
      ]
     },
     "execution_count": 49,
     "metadata": {},
     "output_type": "execute_result"
    }
   ],
   "source": [
    "wr.catalog.databases(boto3_session=your_session)"
   ]
  },
  {
   "cell_type": "code",
   "execution_count": 50,
   "id": "819fe2a2",
   "metadata": {},
   "outputs": [],
   "source": [
    "wr.catalog.create_database(name='learning_db',\n",
    "                           boto3_session=your_session)"
   ]
  },
  {
   "cell_type": "code",
   "execution_count": 51,
   "id": "782a5da6",
   "metadata": {},
   "outputs": [
    {
     "data": {
      "text/html": [
       "<div>\n",
       "<style scoped>\n",
       "    .dataframe tbody tr th:only-of-type {\n",
       "        vertical-align: middle;\n",
       "    }\n",
       "\n",
       "    .dataframe tbody tr th {\n",
       "        vertical-align: top;\n",
       "    }\n",
       "\n",
       "    .dataframe thead th {\n",
       "        text-align: right;\n",
       "    }\n",
       "</style>\n",
       "<table border=\"1\" class=\"dataframe\">\n",
       "  <thead>\n",
       "    <tr style=\"text-align: right;\">\n",
       "      <th></th>\n",
       "      <th>Database</th>\n",
       "      <th>Table</th>\n",
       "      <th>Description</th>\n",
       "      <th>TableType</th>\n",
       "      <th>Columns</th>\n",
       "      <th>Partitions</th>\n",
       "    </tr>\n",
       "  </thead>\n",
       "  <tbody>\n",
       "  </tbody>\n",
       "</table>\n",
       "</div>"
      ],
      "text/plain": [
       "Empty DataFrame\n",
       "Columns: [Database, Table, Description, TableType, Columns, Partitions]\n",
       "Index: []"
      ]
     },
     "execution_count": 51,
     "metadata": {},
     "output_type": "execute_result"
    }
   ],
   "source": [
    "# Create the new database which will have no tables now\n",
    "wr.catalog.tables(database='learning_db',\\\n",
    "                  boto3_session=your_session)"
   ]
  },
  {
   "cell_type": "markdown",
   "id": "94985633",
   "metadata": {},
   "source": [
    "#### Writing the above 2 dataframes into the Glue Catalog"
   ]
  },
  {
   "cell_type": "code",
   "execution_count": 52,
   "id": "74f7815d",
   "metadata": {},
   "outputs": [
    {
     "data": {
      "text/plain": [
       "{'paths': ['s3://destination-folder/earners/82cfca54cb284ceda3db98cdc902630c.csv'],\n",
       " 'partitions_values': {}}"
      ]
     },
     "execution_count": 52,
     "metadata": {},
     "output_type": "execute_result"
    }
   ],
   "source": [
    "wr.s3.to_csv(df=earners_csv,\n",
    "        path=destination_bucket + '/earners',\n",
    "             database='learning_db',table='top_earners',\n",
    "             dataset=True,\n",
    "    boto3_session=your_session)"
   ]
  },
  {
   "cell_type": "code",
   "execution_count": 53,
   "id": "8a0bfcf9",
   "metadata": {},
   "outputs": [
    {
     "data": {
      "text/plain": [
       "{'paths': ['s3://destination-folder/jets/cdc4756cc9a345d8b80c8ad867fcb7b8.csv'],\n",
       " 'partitions_values': {}}"
      ]
     },
     "execution_count": 53,
     "metadata": {},
     "output_type": "execute_result"
    }
   ],
   "source": [
    "wr.s3.to_csv(df=earners_jets,\n",
    "        path=destination_bucket + '/jets',\n",
    "             database='learning_db',table='their_jets',\n",
    "             dataset=True,\n",
    "    boto3_session=your_session)"
   ]
  },
  {
   "cell_type": "code",
   "execution_count": 24,
   "id": "a2ce9cff",
   "metadata": {},
   "outputs": [
    {
     "data": {
      "text/plain": [
       "['s3://destination-folder/csv/3eeab4db07e14a9c8b3ffe013a1db840.csv',\n",
       " 's3://destination-folder/top_earners/1e3c702e9a434ccb894691c16c9425ea.csv']"
      ]
     },
     "execution_count": 24,
     "metadata": {},
     "output_type": "execute_result"
    }
   ],
   "source": [
    "# Verify the data is written using list_objects\n",
    "\n",
    "wr.s3.list_objects(destination_bucket,boto3_session=your_session)"
   ]
  },
  {
   "cell_type": "markdown",
   "id": "168d9b89",
   "metadata": {},
   "source": [
    "### Bringing in Athena \n",
    "\n",
    "## Very important : These queries are chargeable by AWS.\n",
    "\n",
    "1) Describing the above tables"
   ]
  },
  {
   "cell_type": "code",
   "execution_count": 25,
   "id": "0a030419",
   "metadata": {},
   "outputs": [
    {
     "data": {
      "text/html": [
       "<div>\n",
       "<style scoped>\n",
       "    .dataframe tbody tr th:only-of-type {\n",
       "        vertical-align: middle;\n",
       "    }\n",
       "\n",
       "    .dataframe tbody tr th {\n",
       "        vertical-align: top;\n",
       "    }\n",
       "\n",
       "    .dataframe thead th {\n",
       "        text-align: right;\n",
       "    }\n",
       "</style>\n",
       "<table border=\"1\" class=\"dataframe\">\n",
       "  <thead>\n",
       "    <tr style=\"text-align: right;\">\n",
       "      <th></th>\n",
       "      <th>Column Name</th>\n",
       "      <th>Type</th>\n",
       "      <th>Partition</th>\n",
       "      <th>Comment</th>\n",
       "    </tr>\n",
       "  </thead>\n",
       "  <tbody>\n",
       "    <tr>\n",
       "      <th>0</th>\n",
       "      <td>__index_level_0__</td>\n",
       "      <td>bigint</td>\n",
       "      <td>False</td>\n",
       "      <td></td>\n",
       "    </tr>\n",
       "    <tr>\n",
       "      <th>1</th>\n",
       "      <td>id</td>\n",
       "      <td>bigint</td>\n",
       "      <td>False</td>\n",
       "      <td></td>\n",
       "    </tr>\n",
       "    <tr>\n",
       "      <th>2</th>\n",
       "      <td>_personal_jet</td>\n",
       "      <td>string</td>\n",
       "      <td>False</td>\n",
       "      <td></td>\n",
       "    </tr>\n",
       "    <tr>\n",
       "      <th>3</th>\n",
       "      <td>_distance_covered</td>\n",
       "      <td>bigint</td>\n",
       "      <td>False</td>\n",
       "      <td></td>\n",
       "    </tr>\n",
       "  </tbody>\n",
       "</table>\n",
       "</div>"
      ],
      "text/plain": [
       "         Column Name    Type  Partition Comment\n",
       "0  __index_level_0__  bigint      False        \n",
       "1                 id  bigint      False        \n",
       "2      _personal_jet  string      False        \n",
       "3  _distance_covered  bigint      False        "
      ]
     },
     "execution_count": 25,
     "metadata": {},
     "output_type": "execute_result"
    }
   ],
   "source": [
    "wr.athena.describe_table(database='learning_db',table='their_jets',\n",
    "                         boto3_session=your_session)"
   ]
  },
  {
   "cell_type": "code",
   "execution_count": 26,
   "id": "c827d308",
   "metadata": {},
   "outputs": [
    {
     "data": {
      "text/html": [
       "<div>\n",
       "<style scoped>\n",
       "    .dataframe tbody tr th:only-of-type {\n",
       "        vertical-align: middle;\n",
       "    }\n",
       "\n",
       "    .dataframe tbody tr th {\n",
       "        vertical-align: top;\n",
       "    }\n",
       "\n",
       "    .dataframe thead th {\n",
       "        text-align: right;\n",
       "    }\n",
       "</style>\n",
       "<table border=\"1\" class=\"dataframe\">\n",
       "  <thead>\n",
       "    <tr style=\"text-align: right;\">\n",
       "      <th></th>\n",
       "      <th>Column Name</th>\n",
       "      <th>Type</th>\n",
       "      <th>Partition</th>\n",
       "      <th>Comment</th>\n",
       "    </tr>\n",
       "  </thead>\n",
       "  <tbody>\n",
       "    <tr>\n",
       "      <th>0</th>\n",
       "      <td>__index_level_0__</td>\n",
       "      <td>bigint</td>\n",
       "      <td>False</td>\n",
       "      <td></td>\n",
       "    </tr>\n",
       "    <tr>\n",
       "      <th>1</th>\n",
       "      <td>id</td>\n",
       "      <td>bigint</td>\n",
       "      <td>False</td>\n",
       "      <td></td>\n",
       "    </tr>\n",
       "    <tr>\n",
       "      <th>2</th>\n",
       "      <td>name</td>\n",
       "      <td>string</td>\n",
       "      <td>False</td>\n",
       "      <td></td>\n",
       "    </tr>\n",
       "    <tr>\n",
       "      <th>3</th>\n",
       "      <td>e_mail</td>\n",
       "      <td>string</td>\n",
       "      <td>False</td>\n",
       "      <td></td>\n",
       "    </tr>\n",
       "    <tr>\n",
       "      <th>4</th>\n",
       "      <td>salary</td>\n",
       "      <td>bigint</td>\n",
       "      <td>False</td>\n",
       "      <td></td>\n",
       "    </tr>\n",
       "    <tr>\n",
       "      <th>5</th>\n",
       "      <td>occupation</td>\n",
       "      <td>string</td>\n",
       "      <td>False</td>\n",
       "      <td></td>\n",
       "    </tr>\n",
       "  </tbody>\n",
       "</table>\n",
       "</div>"
      ],
      "text/plain": [
       "         Column Name    Type  Partition Comment\n",
       "0  __index_level_0__  bigint      False        \n",
       "1                 id  bigint      False        \n",
       "2               name  string      False        \n",
       "3             e_mail  string      False        \n",
       "4             salary  bigint      False        \n",
       "5         occupation  string      False        "
      ]
     },
     "execution_count": 26,
     "metadata": {},
     "output_type": "execute_result"
    }
   ],
   "source": [
    "wr.athena.describe_table(database='learning_db',table='top_earners',\n",
    "                         boto3_session=your_session)"
   ]
  },
  {
   "cell_type": "code",
   "execution_count": 26,
   "id": "33fe8c87",
   "metadata": {},
   "outputs": [
    {
     "data": {
      "text/html": [
       "<div>\n",
       "<style scoped>\n",
       "    .dataframe tbody tr th:only-of-type {\n",
       "        vertical-align: middle;\n",
       "    }\n",
       "\n",
       "    .dataframe tbody tr th {\n",
       "        vertical-align: top;\n",
       "    }\n",
       "\n",
       "    .dataframe thead th {\n",
       "        text-align: right;\n",
       "    }\n",
       "</style>\n",
       "<table border=\"1\" class=\"dataframe\">\n",
       "  <thead>\n",
       "    <tr style=\"text-align: right;\">\n",
       "      <th></th>\n",
       "      <th>Column Name</th>\n",
       "      <th>Type</th>\n",
       "      <th>Partition</th>\n",
       "      <th>Comment</th>\n",
       "    </tr>\n",
       "  </thead>\n",
       "  <tbody>\n",
       "    <tr>\n",
       "      <th>0</th>\n",
       "      <td>__index_level_0__</td>\n",
       "      <td>bigint</td>\n",
       "      <td>False</td>\n",
       "      <td></td>\n",
       "    </tr>\n",
       "    <tr>\n",
       "      <th>1</th>\n",
       "      <td>id</td>\n",
       "      <td>bigint</td>\n",
       "      <td>False</td>\n",
       "      <td></td>\n",
       "    </tr>\n",
       "    <tr>\n",
       "      <th>2</th>\n",
       "      <td>name</td>\n",
       "      <td>string</td>\n",
       "      <td>False</td>\n",
       "      <td></td>\n",
       "    </tr>\n",
       "    <tr>\n",
       "      <th>3</th>\n",
       "      <td>e_mail</td>\n",
       "      <td>string</td>\n",
       "      <td>False</td>\n",
       "      <td></td>\n",
       "    </tr>\n",
       "    <tr>\n",
       "      <th>4</th>\n",
       "      <td>salary</td>\n",
       "      <td>bigint</td>\n",
       "      <td>False</td>\n",
       "      <td></td>\n",
       "    </tr>\n",
       "    <tr>\n",
       "      <th>5</th>\n",
       "      <td>occupation</td>\n",
       "      <td>string</td>\n",
       "      <td>False</td>\n",
       "      <td></td>\n",
       "    </tr>\n",
       "  </tbody>\n",
       "</table>\n",
       "</div>"
      ],
      "text/plain": [
       "         Column Name    Type  Partition Comment\n",
       "0  __index_level_0__  bigint      False        \n",
       "1                 id  bigint      False        \n",
       "2               name  string      False        \n",
       "3             e_mail  string      False        \n",
       "4             salary  bigint      False        \n",
       "5         occupation  string      False        "
      ]
     },
     "execution_count": 26,
     "metadata": {},
     "output_type": "execute_result"
    }
   ],
   "source": [
    "wr.athena.read_sql_query(sql='SELECT * FROM top_earners',\n",
    "                         boto3_session=your_session,database='learning_db')"
   ]
  },
  {
   "cell_type": "code",
   "execution_count": 27,
   "id": "02f5ea8d",
   "metadata": {
    "scrolled": true
   },
   "outputs": [],
   "source": [
    "list_execution = wr.athena.list_query_executions(boto3_session=your_session)"
   ]
  },
  {
   "cell_type": "code",
   "execution_count": 28,
   "id": "42e57747",
   "metadata": {},
   "outputs": [
    {
     "data": {
      "text/plain": [
       "96"
      ]
     },
     "execution_count": 28,
     "metadata": {},
     "output_type": "execute_result"
    }
   ],
   "source": [
    "#Number of queries to Athena\n",
    "len(list_execution)"
   ]
  },
  {
   "cell_type": "code",
   "execution_count": 38,
   "id": "55cffc01",
   "metadata": {},
   "outputs": [
    {
     "data": {
      "text/plain": [
       "'b32bf2d0-f573-4168-8316-8a1ac836ae88'"
      ]
     },
     "execution_count": 38,
     "metadata": {},
     "output_type": "execute_result"
    }
   ],
   "source": [
    "#Getting the last query_id\n",
    "list_execution[-1]"
   ]
  },
  {
   "cell_type": "code",
   "execution_count": null,
   "id": "7d5cea1c",
   "metadata": {},
   "outputs": [],
   "source": [
    "wr.athena.get_query_results(boto3_session=your_session,\n",
    "                            query_execution_id='b32bf2d0-f573-4168-8316-8a1ac836ae88')"
   ]
  },
  {
   "cell_type": "code",
   "execution_count": 23,
   "id": "9a1f835f",
   "metadata": {},
   "outputs": [
    {
     "data": {
      "text/plain": [
       "\"CREATE EXTERNAL TABLE `their_jets`( `__index_level_0__` bigint, `id` bigint, `_personal_jet` string, `_distance_covered` bigint) ROW FORMAT DELIMITED FIELDS TERMINATED BY ',' WITH SERDEPROPERTIES ( 'escape.delim'='\\\\\\\\') STORED AS INPUTFORMAT 'org.apache.hadoop.mapred.TextInputFormat' OUTPUTFORMAT 'org.apache.hadoop.hive.ql.io.HiveIgnoreKeyTextOutputFormat' LOCATION 's3://destination-folder/csv' TBLPROPERTIES ( 'areColumnsQuoted'='false', 'classification'='csv', 'columnsOrdered'='true', 'compressionType'='none', 'delimiter'=',', 'projection.enabled'='false', 'typeOfData'='file')\""
      ]
     },
     "execution_count": 23,
     "metadata": {},
     "output_type": "execute_result"
    }
   ],
   "source": [
    "wr.athena.show_create_table(table='their_jets',\n",
    "                            database='learning_db',\n",
    "                           boto3_session=your_session)"
   ]
  },
  {
   "cell_type": "code",
   "execution_count": 33,
   "id": "3807d170",
   "metadata": {},
   "outputs": [],
   "source": [
    "joined_df = wr.athena.read_sql_query(sql=\"\"\"SELECT t.id, t.e_mail,\n",
    "                            salary,occupation,j._distance_covered, \n",
    "                            j._personal_jet\n",
    "                            FROM their_jets as j\n",
    "                            JOIN top_earners as t \n",
    "                            ON j.id = t.id\"\"\",\n",
    "                        database='learning_db',\n",
    "                        s3_output=destination_bucket+'/joined_table',\n",
    "                         boto3_session=your_session)"
   ]
  },
  {
   "cell_type": "code",
   "execution_count": 11,
   "id": "2cf13d77",
   "metadata": {},
   "outputs": [
    {
     "data": {
      "text/html": [
       "<div>\n",
       "<style scoped>\n",
       "    .dataframe tbody tr th:only-of-type {\n",
       "        vertical-align: middle;\n",
       "    }\n",
       "\n",
       "    .dataframe tbody tr th {\n",
       "        vertical-align: top;\n",
       "    }\n",
       "\n",
       "    .dataframe thead th {\n",
       "        text-align: right;\n",
       "    }\n",
       "</style>\n",
       "<table border=\"1\" class=\"dataframe\">\n",
       "  <thead>\n",
       "    <tr style=\"text-align: right;\">\n",
       "      <th></th>\n",
       "      <th>id</th>\n",
       "      <th>e_mail</th>\n",
       "      <th>salary</th>\n",
       "      <th>occupation</th>\n",
       "      <th>_distance_covered</th>\n",
       "      <th>_personal_jet</th>\n",
       "    </tr>\n",
       "  </thead>\n",
       "  <tbody>\n",
       "    <tr>\n",
       "      <th>0</th>\n",
       "      <td>1</td>\n",
       "      <td>Joel@Athena.com</td>\n",
       "      <td>187069</td>\n",
       "      <td>Mathematician</td>\n",
       "      <td>589865</td>\n",
       "      <td>Jet 777x</td>\n",
       "    </tr>\n",
       "    <tr>\n",
       "      <th>1</th>\n",
       "      <td>2</td>\n",
       "      <td>Afro@Glue.aws.in</td>\n",
       "      <td>752689</td>\n",
       "      <td>Physicist</td>\n",
       "      <td>7987856</td>\n",
       "      <td>Global 7500</td>\n",
       "    </tr>\n",
       "    <tr>\n",
       "      <th>2</th>\n",
       "      <td>3</td>\n",
       "      <td>beatles@lambda.com</td>\n",
       "      <td>975682</td>\n",
       "      <td>Algorist</td>\n",
       "      <td>5125768</td>\n",
       "      <td>Falcon 8X</td>\n",
       "    </tr>\n",
       "    <tr>\n",
       "      <th>3</th>\n",
       "      <td>4</td>\n",
       "      <td>snoopy@apigateway.com</td>\n",
       "      <td>752689</td>\n",
       "      <td>Artificial Rapper</td>\n",
       "      <td>312687</td>\n",
       "      <td>Phenom 300</td>\n",
       "    </tr>\n",
       "  </tbody>\n",
       "</table>\n",
       "</div>"
      ],
      "text/plain": [
       "   id                 e_mail  salary         occupation  _distance_covered  \\\n",
       "0   1        Joel@Athena.com  187069      Mathematician             589865   \n",
       "1   2       Afro@Glue.aws.in  752689          Physicist            7987856   \n",
       "2   3     beatles@lambda.com  975682           Algorist            5125768   \n",
       "3   4  snoopy@apigateway.com  752689  Artificial Rapper             312687   \n",
       "\n",
       "  _personal_jet  \n",
       "0      Jet 777x  \n",
       "1   Global 7500  \n",
       "2     Falcon 8X  \n",
       "3    Phenom 300  "
      ]
     },
     "execution_count": 11,
     "metadata": {},
     "output_type": "execute_result"
    }
   ],
   "source": [
    "joined_df"
   ]
  },
  {
   "cell_type": "code",
   "execution_count": 12,
   "id": "8240b864",
   "metadata": {},
   "outputs": [],
   "source": [
    "wr.s3.delete_objects(path='s3://aws-athena-query-results-642924624251-us-east-1/',\n",
    "                    boto3_session=your_session)"
   ]
  },
  {
   "cell_type": "code",
   "execution_count": 14,
   "id": "9176deb0",
   "metadata": {},
   "outputs": [
    {
     "data": {
      "text/plain": [
       "['s3://destination-folder/csv/29c8b74af64b431bbd322b3e07b1ae51.csv',\n",
       " 's3://destination-folder/csv/54579cdbd6ff4760b51509e1000e24bf.csv',\n",
       " 's3://destination-folder/earners/e62bc8ed300843cf9aaf3d3b9c25477e.csv',\n",
       " 's3://destination-folder/jets/2272b2b4632b45ecb7273e08c580d1c0.csv',\n",
       " 's3://destination-folder/joined_table/tables/2635b3b8-edfd-4cff-8440-65e1ddb1302e-manifest.csv',\n",
       " 's3://destination-folder/joined_table/tables/2635b3b8-edfd-4cff-8440-65e1ddb1302e.metadata',\n",
       " 's3://destination-folder/joined_table/tables/5ee36faf-8c29-4131-b323-5dd2bd65d9ae-manifest.csv',\n",
       " 's3://destination-folder/joined_table/tables/5ee36faf-8c29-4131-b323-5dd2bd65d9ae.metadata',\n",
       " 's3://destination-folder/joined_table/temp_table_2a473b62c37f425b8407129e5036ebf7/20230220_074610_00083_sumcn_25c9f988-b564-4df2-915f-003eeb384fb6',\n",
       " 's3://destination-folder/joined_table/temp_table_9f9565dd91f7460698469c3e4c96fe4b/20230220_064823_00114_x2mwu_d87f3145-031c-4ce5-ad65-a376c1649aff']"
      ]
     },
     "execution_count": 14,
     "metadata": {},
     "output_type": "execute_result"
    }
   ],
   "source": [
    "wr.s3.list_objects(path=destination_bucket,\n",
    "                   boto3_session=your_session)"
   ]
  },
  {
   "cell_type": "code",
   "execution_count": null,
   "id": "a83e70f5",
   "metadata": {},
   "outputs": [],
   "source": [
    "### This query will not work\n",
    "#wr.athena.read_sql_query(sql='SELECT * FROM jets_earners',\n",
    " #                       boto3_session=your_session,\n",
    "  #                       database='learning_db',\n",
    "   #                      data_source=destination_bucket+\"/joined_table\")"
   ]
  },
  {
   "cell_type": "code",
   "execution_count": 15,
   "id": "83fc9189",
   "metadata": {},
   "outputs": [
    {
     "data": {
      "text/plain": [
       "_QueryMetadata(execution_id='de61699d-6a18-46c6-8971-883447d5b384', dtype={'rows': 'Int64'}, parse_timestamps=[], parse_dates=[], converters={}, binaries=[], output_location='s3://destination-folder/unload_location/de61699d-6a18-46c6-8971-883447d5b384', manifest_location='s3://destination-folder/unload_location/de61699d-6a18-46c6-8971-883447d5b384-manifest.csv', raw_payload={'QueryExecutionId': 'de61699d-6a18-46c6-8971-883447d5b384', 'Query': \"UNLOAD (SELECT t.id, t.e_mail,\\n                            salary,occupation,j._distance_covered, \\n                            j._personal_jet\\n                            FROM their_jets as j\\n                            JOIN top_earners as t \\n                            ON j.id = t.id) TO 's3://destination-folder/unload_location' WITH (  format='PARQUET')\", 'StatementType': 'DML', 'ResultConfiguration': {'OutputLocation': 's3://destination-folder/unload_location/de61699d-6a18-46c6-8971-883447d5b384'}, 'QueryExecutionContext': {'Database': 'learning_db'}, 'Status': {'State': 'SUCCEEDED', 'SubmissionDateTime': datetime.datetime(2023, 2, 20, 13, 24, 48, 703000, tzinfo=tzlocal()), 'CompletionDateTime': datetime.datetime(2023, 2, 20, 13, 24, 50, 198000, tzinfo=tzlocal())}, 'Statistics': {'EngineExecutionTimeInMillis': 1283, 'DataScannedInBytes': 289, 'DataManifestLocation': 's3://destination-folder/unload_location/de61699d-6a18-46c6-8971-883447d5b384-manifest.csv', 'TotalExecutionTimeInMillis': 1495, 'QueryQueueTimeInMillis': 179, 'QueryPlanningTimeInMillis': 183, 'ServiceProcessingTimeInMillis': 33}, 'WorkGroup': 'primary', 'EngineVersion': {'SelectedEngineVersion': 'AUTO', 'EffectiveEngineVersion': 'Athena engine version 2'}})"
      ]
     },
     "execution_count": 15,
     "metadata": {},
     "output_type": "execute_result"
    }
   ],
   "source": [
    "wr.athena.unload(sql=\"\"\"SELECT t.id, t.e_mail,\n",
    "                            salary,occupation,j._distance_covered, \n",
    "                            j._personal_jet\n",
    "                            FROM their_jets as j\n",
    "                            JOIN top_earners as t \n",
    "                            ON j.id = t.id\"\"\",\n",
    "                        database='learning_db',\n",
    "                        path=destination_bucket+'/unload_location',\n",
    "                         boto3_session=your_session)"
   ]
  },
  {
   "cell_type": "markdown",
   "id": "4d35fd98",
   "metadata": {},
   "source": [
    "#### Cleaning up the files"
   ]
  },
  {
   "cell_type": "code",
   "execution_count": 36,
   "id": "ab722134",
   "metadata": {},
   "outputs": [],
   "source": [
    "wr.catalog.delete_database(boto3_session=your_session,name='learning_db')"
   ]
  },
  {
   "cell_type": "code",
   "execution_count": 37,
   "id": "413bf644",
   "metadata": {},
   "outputs": [],
   "source": [
    "wr.s3.delete_objects(path=destination_bucket,boto3_session=your_session)"
   ]
  },
  {
   "cell_type": "code",
   "execution_count": 35,
   "id": "755a98c1",
   "metadata": {},
   "outputs": [
    {
     "data": {
      "text/plain": [
       "[]"
      ]
     },
     "execution_count": 35,
     "metadata": {},
     "output_type": "execute_result"
    }
   ],
   "source": [
    "# Verify the data is written using list_objects\n",
    "\n",
    "wr.s3.list_objects(destination_bucket+\"/unload_location\",boto3_session=your_session)"
   ]
  },
  {
   "cell_type": "code",
   "execution_count": 19,
   "id": "45fcee04",
   "metadata": {},
   "outputs": [
    {
     "data": {
      "text/html": [
       "<div>\n",
       "<style scoped>\n",
       "    .dataframe tbody tr th:only-of-type {\n",
       "        vertical-align: middle;\n",
       "    }\n",
       "\n",
       "    .dataframe tbody tr th {\n",
       "        vertical-align: top;\n",
       "    }\n",
       "\n",
       "    .dataframe thead th {\n",
       "        text-align: right;\n",
       "    }\n",
       "</style>\n",
       "<table border=\"1\" class=\"dataframe\">\n",
       "  <thead>\n",
       "    <tr style=\"text-align: right;\">\n",
       "      <th></th>\n",
       "      <th>id</th>\n",
       "      <th>e_mail</th>\n",
       "      <th>salary</th>\n",
       "      <th>occupation</th>\n",
       "      <th>_distance_covered</th>\n",
       "      <th>_personal_jet</th>\n",
       "    </tr>\n",
       "  </thead>\n",
       "  <tbody>\n",
       "    <tr>\n",
       "      <th>0</th>\n",
       "      <td>1</td>\n",
       "      <td>Joel@Athena.com</td>\n",
       "      <td>187069</td>\n",
       "      <td>Mathematician</td>\n",
       "      <td>589865</td>\n",
       "      <td>Jet 777x</td>\n",
       "    </tr>\n",
       "    <tr>\n",
       "      <th>1</th>\n",
       "      <td>2</td>\n",
       "      <td>Afro@Glue.aws.in</td>\n",
       "      <td>752689</td>\n",
       "      <td>Physicist</td>\n",
       "      <td>7987856</td>\n",
       "      <td>Global 7500</td>\n",
       "    </tr>\n",
       "    <tr>\n",
       "      <th>2</th>\n",
       "      <td>3</td>\n",
       "      <td>beatles@lambda.com</td>\n",
       "      <td>975682</td>\n",
       "      <td>Algorist</td>\n",
       "      <td>5125768</td>\n",
       "      <td>Falcon 8X</td>\n",
       "    </tr>\n",
       "    <tr>\n",
       "      <th>3</th>\n",
       "      <td>4</td>\n",
       "      <td>snoopy@apigateway.com</td>\n",
       "      <td>752689</td>\n",
       "      <td>Artificial Rapper</td>\n",
       "      <td>312687</td>\n",
       "      <td>Phenom 300</td>\n",
       "    </tr>\n",
       "  </tbody>\n",
       "</table>\n",
       "</div>"
      ],
      "text/plain": [
       "   id                 e_mail  salary         occupation  _distance_covered  \\\n",
       "0   1        Joel@Athena.com  187069      Mathematician             589865   \n",
       "1   2       Afro@Glue.aws.in  752689          Physicist            7987856   \n",
       "2   3     beatles@lambda.com  975682           Algorist            5125768   \n",
       "3   4  snoopy@apigateway.com  752689  Artificial Rapper             312687   \n",
       "\n",
       "  _personal_jet  \n",
       "0      Jet 777x  \n",
       "1   Global 7500  \n",
       "2     Falcon 8X  \n",
       "3    Phenom 300  "
      ]
     },
     "execution_count": 19,
     "metadata": {},
     "output_type": "execute_result"
    }
   ],
   "source": [
    "new_parquet = destination_bucket + '/unload_location/20230220_075448_00032_zdr8m_f96cdc33-6a2f-4713-9d9c-fbb6358d1cf9'\n",
    "joined_table = wr.s3.read_parquet(path=new_parquet,boto3_session=your_session)\n",
    "joined_table"
   ]
  }
 ],
 "metadata": {
  "kernelspec": {
   "display_name": "Python 3 (ipykernel)",
   "language": "python",
   "name": "python3"
  },
  "language_info": {
   "codemirror_mode": {
    "name": "ipython",
    "version": 3
   },
   "file_extension": ".py",
   "mimetype": "text/x-python",
   "name": "python",
   "nbconvert_exporter": "python",
   "pygments_lexer": "ipython3",
   "version": "3.10.8"
  }
 },
 "nbformat": 4,
 "nbformat_minor": 5
}
