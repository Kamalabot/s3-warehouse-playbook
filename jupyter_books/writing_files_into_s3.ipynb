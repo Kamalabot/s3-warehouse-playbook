{
 "cells": [
  {
   "cell_type": "markdown",
   "id": "83e48b3a",
   "metadata": {},
   "source": [
    "### Reading the files into AWS Wrangler and writing to S3"
   ]
  },
  {
   "cell_type": "code",
   "execution_count": 2,
   "id": "dfae5969",
   "metadata": {},
   "outputs": [],
   "source": [
    "#import below libraries\n",
    "import awswrangler as wr\n",
    "import pandas as pd\n",
    "import boto3\n",
    "import warnings \n",
    "warnings.filterwarnings('ignore')\n",
    "import configparser"
   ]
  },
  {
   "cell_type": "code",
   "execution_count": 3,
   "id": "ea4583f6",
   "metadata": {},
   "outputs": [],
   "source": [
    "#reading the credentials securely.\n",
    "credents = configparser.ConfigParser()"
   ]
  },
  {
   "cell_type": "code",
   "execution_count": 4,
   "id": "6dc2cbdc",
   "metadata": {},
   "outputs": [],
   "source": [
    "#use read_file method\n",
    "credents.read_file(open('credentials.config'))"
   ]
  },
  {
   "cell_type": "code",
   "execution_count": 5,
   "id": "aae18d56",
   "metadata": {},
   "outputs": [],
   "source": [
    "#Reading in the credentials into Python variables. No can see them\n",
    "aws_key = credents[\"AWS\"][\"KEY\"]\n",
    "aws_secret = credents[\"AWS\"][\"SECRET\"]\n",
    "region = credents[\"AWS\"][\"REGION\"]"
   ]
  },
  {
   "cell_type": "code",
   "execution_count": 6,
   "id": "f5f06721",
   "metadata": {},
   "outputs": [],
   "source": [
    "#Creating the Session\n",
    "your_session = boto3.Session(aws_access_key_id=aws_key,\n",
    "                            aws_secret_access_key=aws_secret,\n",
    "                            region_name=region)"
   ]
  },
  {
   "cell_type": "code",
   "execution_count": 10,
   "id": "5536d4ae",
   "metadata": {},
   "outputs": [],
   "source": [
    "destination_bucket = \"s3://destination-folder\""
   ]
  },
  {
   "cell_type": "markdown",
   "id": "659e9aa2",
   "metadata": {},
   "source": [
    "### Writing pandas Dataframe to S3"
   ]
  },
  {
   "cell_type": "code",
   "execution_count": 8,
   "id": "5f952ade",
   "metadata": {},
   "outputs": [
    {
     "data": {
      "text/html": [
       "<div>\n",
       "<style scoped>\n",
       "    .dataframe tbody tr th:only-of-type {\n",
       "        vertical-align: middle;\n",
       "    }\n",
       "\n",
       "    .dataframe tbody tr th {\n",
       "        vertical-align: top;\n",
       "    }\n",
       "\n",
       "    .dataframe thead th {\n",
       "        text-align: right;\n",
       "    }\n",
       "</style>\n",
       "<table border=\"1\" class=\"dataframe\">\n",
       "  <thead>\n",
       "    <tr style=\"text-align: right;\">\n",
       "      <th></th>\n",
       "      <th>id</th>\n",
       "      <th>name</th>\n",
       "      <th>E-mail</th>\n",
       "      <th>Salary</th>\n",
       "      <th>occupation</th>\n",
       "    </tr>\n",
       "  </thead>\n",
       "  <tbody>\n",
       "    <tr>\n",
       "      <th>0</th>\n",
       "      <td>1</td>\n",
       "      <td>Joel</td>\n",
       "      <td>Joel@Athena.com</td>\n",
       "      <td>187069</td>\n",
       "      <td>Mathematician</td>\n",
       "    </tr>\n",
       "    <tr>\n",
       "      <th>1</th>\n",
       "      <td>2</td>\n",
       "      <td>Afro</td>\n",
       "      <td>Afro@Glue.aws.in</td>\n",
       "      <td>752689</td>\n",
       "      <td>Physicist</td>\n",
       "    </tr>\n",
       "    <tr>\n",
       "      <th>2</th>\n",
       "      <td>3</td>\n",
       "      <td>Beatles</td>\n",
       "      <td>beatles@lambda.com</td>\n",
       "      <td>975682</td>\n",
       "      <td>Algorist</td>\n",
       "    </tr>\n",
       "    <tr>\n",
       "      <th>3</th>\n",
       "      <td>4</td>\n",
       "      <td>Snoop Dog</td>\n",
       "      <td>snoopy@apigateway.com</td>\n",
       "      <td>752689</td>\n",
       "      <td>Artificial Rapper</td>\n",
       "    </tr>\n",
       "  </tbody>\n",
       "</table>\n",
       "</div>"
      ],
      "text/plain": [
       "   id       name                 E-mail  Salary         occupation\n",
       "0   1       Joel        Joel@Athena.com  187069      Mathematician\n",
       "1   2       Afro       Afro@Glue.aws.in  752689          Physicist\n",
       "2   3    Beatles     beatles@lambda.com  975682           Algorist\n",
       "3   4  Snoop Dog  snoopy@apigateway.com  752689  Artificial Rapper"
      ]
     },
     "execution_count": 8,
     "metadata": {},
     "output_type": "execute_result"
    }
   ],
   "source": [
    "earners_csv = pd.read_csv(\"source_folder/top_earners_list.csv\")\n",
    "earners_csv"
   ]
  },
  {
   "cell_type": "markdown",
   "id": "122a6cf6",
   "metadata": {},
   "source": [
    "### Commonly used params in wr.s3.to_csv()\n",
    "wr.s3.to_csv(df: pandas.core.frame.DataFrame,\n",
    "    \n",
    "    path: Optional[str] = None,\n",
    "    \n",
    "    index: bool = True,\n",
    "    \n",
    "    boto3_session: Optional[boto3.session.Session] = None,\n",
    "    \n",
    "    dataset: bool = False,\n",
    "    \n",
    "    filename_prefix: Optional[str] = None,\n",
    "    \n",
    "    partition_cols: Optional[List[str]] = None,\n",
    "    \n",
    "    bucketing_info: Optional[Tuple[List[str], int]] = None,\n",
    "    \n",
    "    database: Optional[str] = None,\n",
    "    \n",
    "    table: Optional[str] = None)"
   ]
  },
  {
   "cell_type": "markdown",
   "id": "94985633",
   "metadata": {},
   "source": [
    "#### Writing as CSV file"
   ]
  },
  {
   "cell_type": "code",
   "execution_count": 23,
   "id": "74f7815d",
   "metadata": {},
   "outputs": [
    {
     "data": {
      "text/plain": [
       "{'paths': ['s3://destination-folder/csv/write_top_earners.csv'],\n",
       " 'partitions_values': {}}"
      ]
     },
     "execution_count": 23,
     "metadata": {},
     "output_type": "execute_result"
    }
   ],
   "source": [
    "wr.s3.to_csv(df=earners_csv,\n",
    "        path=destination_bucket + '/csv/write_top_earners.csv',\n",
    "    boto3_session=your_session)"
   ]
  },
  {
   "cell_type": "code",
   "execution_count": 24,
   "id": "a2ce9cff",
   "metadata": {},
   "outputs": [
    {
     "data": {
      "text/plain": [
       "['s3://destination-folder/csv/write_top_earners.csv']"
      ]
     },
     "execution_count": 24,
     "metadata": {},
     "output_type": "execute_result"
    }
   ],
   "source": [
    "# Verify the data is written using list_objects\n",
    "\n",
    "wr.s3.list_objects(destination_bucket,boto3_session=your_session)"
   ]
  },
  {
   "cell_type": "markdown",
   "id": "31d24963",
   "metadata": {},
   "source": [
    "#### Writing as xls file"
   ]
  },
  {
   "cell_type": "code",
   "execution_count": 25,
   "id": "3eff625c",
   "metadata": {},
   "outputs": [
    {
     "data": {
      "text/plain": [
       "'s3://destination-folder/excel/write_top_earners.xls'"
      ]
     },
     "execution_count": 25,
     "metadata": {},
     "output_type": "execute_result"
    }
   ],
   "source": [
    "wr.s3.to_excel(df=earners_csv,\n",
    "        path=destination_bucket + '/excel/write_top_earners.xls',\n",
    "    boto3_session=your_session)"
   ]
  },
  {
   "cell_type": "code",
   "execution_count": 26,
   "id": "4ce709eb",
   "metadata": {},
   "outputs": [
    {
     "data": {
      "text/plain": [
       "['s3://destination-folder/csv/write_top_earners.csv',\n",
       " 's3://destination-folder/excel/write_top_earners.xls']"
      ]
     },
     "execution_count": 26,
     "metadata": {},
     "output_type": "execute_result"
    }
   ],
   "source": [
    "# Verify the data is written using list_objects\n",
    "\n",
    "wr.s3.list_objects(destination_bucket,boto3_session=your_session)"
   ]
  },
  {
   "cell_type": "markdown",
   "id": "345d045e",
   "metadata": {},
   "source": [
    "#### Writing as xlsx file: They are different"
   ]
  },
  {
   "cell_type": "code",
   "execution_count": 31,
   "id": "e9408dc2",
   "metadata": {},
   "outputs": [
    {
     "data": {
      "text/plain": [
       "'s3://destination-folder/excel/write_top_earners.xlsx'"
      ]
     },
     "execution_count": 31,
     "metadata": {},
     "output_type": "execute_result"
    }
   ],
   "source": [
    "wr.s3.to_excel(df=earners_csv,\n",
    "        path=destination_bucket + '/excel/write_top_earners.xlsx',\n",
    "    boto3_session=your_session)"
   ]
  },
  {
   "cell_type": "code",
   "execution_count": 32,
   "id": "e7ccec20",
   "metadata": {},
   "outputs": [
    {
     "data": {
      "text/plain": [
       "['s3://destination-folder/csv/write_top_earners.csv',\n",
       " 's3://destination-folder/excel/write_top_earners.xls',\n",
       " 's3://destination-folder/excel/write_top_earners.xlsx',\n",
       " 's3://destination-folder/json/write_top_earners.json',\n",
       " 's3://destination-folder/parquet/write_top_earners.parquet']"
      ]
     },
     "execution_count": 32,
     "metadata": {},
     "output_type": "execute_result"
    }
   ],
   "source": [
    "# Verify the data is written using list_objects\n",
    "\n",
    "wr.s3.list_objects(destination_bucket,boto3_session=your_session)"
   ]
  },
  {
   "cell_type": "markdown",
   "id": "40e4cb09",
   "metadata": {},
   "source": [
    "#### Writing as parquet file"
   ]
  },
  {
   "cell_type": "code",
   "execution_count": 33,
   "id": "c07cf380",
   "metadata": {},
   "outputs": [
    {
     "data": {
      "text/plain": [
       "{'paths': ['s3://destination-folder/parquet/write_top_earners.parquet'],\n",
       " 'partitions_values': {}}"
      ]
     },
     "execution_count": 33,
     "metadata": {},
     "output_type": "execute_result"
    }
   ],
   "source": [
    "wr.s3.to_csv(df=earners_csv,\n",
    "        path=destination_bucket + '/parquet/write_top_earners.parquet',\n",
    "    boto3_session=your_session)"
   ]
  },
  {
   "cell_type": "code",
   "execution_count": 34,
   "id": "487c2a9d",
   "metadata": {},
   "outputs": [
    {
     "data": {
      "text/plain": [
       "['s3://destination-folder/csv/write_top_earners.csv',\n",
       " 's3://destination-folder/excel/write_top_earners.xls',\n",
       " 's3://destination-folder/excel/write_top_earners.xlsx',\n",
       " 's3://destination-folder/json/write_top_earners.json',\n",
       " 's3://destination-folder/parquet/write_top_earners.parquet']"
      ]
     },
     "execution_count": 34,
     "metadata": {},
     "output_type": "execute_result"
    }
   ],
   "source": [
    "# Verify the data is written using list_objects\n",
    "\n",
    "wr.s3.list_objects(destination_bucket,boto3_session=your_session)"
   ]
  },
  {
   "cell_type": "markdown",
   "id": "b89d9339",
   "metadata": {},
   "source": [
    "#### Writing as json file"
   ]
  },
  {
   "cell_type": "code",
   "execution_count": 29,
   "id": "ce47c3d3",
   "metadata": {},
   "outputs": [
    {
     "data": {
      "text/plain": [
       "['s3://destination-folder/json/write_top_earners.json']"
      ]
     },
     "execution_count": 29,
     "metadata": {},
     "output_type": "execute_result"
    }
   ],
   "source": [
    "wr.s3.to_json(df=earners_csv,\n",
    "        path=destination_bucket + '/json/write_top_earners.json',\n",
    "    boto3_session=your_session)"
   ]
  },
  {
   "cell_type": "code",
   "execution_count": 30,
   "id": "08d98c9a",
   "metadata": {},
   "outputs": [
    {
     "data": {
      "text/plain": [
       "['s3://destination-folder/csv/write_top_earners.csv',\n",
       " 's3://destination-folder/excel/write_top_earners.xls',\n",
       " 's3://destination-folder/json/write_top_earners.json',\n",
       " 's3://destination-folder/parquet/write_top_earners.parquet']"
      ]
     },
     "execution_count": 30,
     "metadata": {},
     "output_type": "execute_result"
    }
   ],
   "source": [
    "# Verify the data is written using list_objects\n",
    "\n",
    "wr.s3.list_objects(destination_bucket,boto3_session=your_session)"
   ]
  },
  {
   "cell_type": "markdown",
   "id": "93019313",
   "metadata": {},
   "source": [
    "#### Cleaning up"
   ]
  },
  {
   "cell_type": "code",
   "execution_count": 35,
   "id": "413bf644",
   "metadata": {},
   "outputs": [],
   "source": [
    "wr.s3.delete_objects(path=destination_bucket,boto3_session=your_session)"
   ]
  },
  {
   "cell_type": "code",
   "execution_count": 36,
   "id": "755a98c1",
   "metadata": {},
   "outputs": [
    {
     "data": {
      "text/plain": [
       "[]"
      ]
     },
     "execution_count": 36,
     "metadata": {},
     "output_type": "execute_result"
    }
   ],
   "source": [
    "# Verify the data is written using list_objects\n",
    "\n",
    "wr.s3.list_objects(destination_bucket,boto3_session=your_session)"
   ]
  },
  {
   "cell_type": "code",
   "execution_count": null,
   "id": "45fcee04",
   "metadata": {},
   "outputs": [],
   "source": []
  }
 ],
 "metadata": {
  "kernelspec": {
   "display_name": "Python 3 (ipykernel)",
   "language": "python",
   "name": "python3"
  },
  "language_info": {
   "codemirror_mode": {
    "name": "ipython",
    "version": 3
   },
   "file_extension": ".py",
   "mimetype": "text/x-python",
   "name": "python",
   "nbconvert_exporter": "python",
   "pygments_lexer": "ipython3",
   "version": "3.10.8"
  }
 },
 "nbformat": 4,
 "nbformat_minor": 5
}
